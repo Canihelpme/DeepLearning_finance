{
  "nbformat": 4,
  "nbformat_minor": 0,
  "metadata": {
    "colab": {
      "name": "LSTM_Kospi",
      "provenance": [],
      "collapsed_sections": [],
      "authorship_tag": "ABX9TyPSVLUyFPVDEXw/0X8MFKnT",
      "include_colab_link": true
    },
    "kernelspec": {
      "name": "python3",
      "display_name": "Python 3"
    },
    "language_info": {
      "name": "python"
    }
  },
  "cells": [
    {
      "cell_type": "markdown",
      "metadata": {
        "id": "view-in-github",
        "colab_type": "text"
      },
      "source": [
        "<a href=\"https://colab.research.google.com/github/Canihelpme/DeepLearning_finance/blob/main/LSTM_Kospi.ipynb\" target=\"_parent\"><img src=\"https://colab.research.google.com/assets/colab-badge.svg\" alt=\"Open In Colab\"/></a>"
      ]
    },
    {
      "cell_type": "code",
      "execution_count": null,
      "metadata": {
        "colab": {
          "base_uri": "https://localhost:8080/"
        },
        "id": "58-GAQhhf5HX",
        "outputId": "3fe1dc1e-c19d-487b-ffbe-ada355c82fcc"
      },
      "outputs": [
        {
          "output_type": "stream",
          "name": "stdout",
          "text": [
            "Mounted at /content/drive\n"
          ]
        }
      ],
      "source": [
        "from google.colab import drive\n",
        "drive.mount('/content/drive')"
      ]
    },
    {
      "cell_type": "code",
      "source": [
        "import os\n",
        "from pathlib import Path\n",
        "\n",
        "folder = \"\"\n",
        "project_dir = \"\"\n",
        "\n",
        "base_path = Path(\"/content/drive/My Drive/\")\n",
        "project_path = base_path / folder / project_dir\n",
        "os.chdir(project_path)\n",
        "for x in list(project_path.glob(\"*\")):\n",
        "    if x.is_dir():\n",
        "        dir_name = str(x.relative_to(project_path))\n",
        "        os.rename(dir_name, dir_name.split(\" \", 1)[0])\n",
        "print(f\"현재 디렉토리 위치: {os.getcwd()}\")"
      ],
      "metadata": {
        "colab": {
          "base_uri": "https://localhost:8080/"
        },
        "id": "jXaTDIjBgPOB",
        "outputId": "ae6a603a-841b-452d-befe-f13ce586f956"
      },
      "execution_count": null,
      "outputs": [
        {
          "output_type": "stream",
          "name": "stdout",
          "text": [
            "현재 디렉토리 위치: /content/drive/My Drive\n"
          ]
        }
      ]
    },
    {
      "cell_type": "code",
      "source": [
        "import pandas as pd\n",
        "import numpy as np\n",
        "import matplotlib.pyplot as plt\n",
        "import seaborn as sns\n",
        "import warnings\n",
        "import os\n",
        "import tensorflow as tf\n",
        "from tensorflow.keras.models import Sequential, Model\n",
        "from tensorflow.keras.layers import Dense, LSTM, Conv1D, Lambda, Input, RepeatVector, TimeDistributed, Flatten, Dropout, MaxPooling1D\n",
        "from tensorflow.keras.losses import Huber\n",
        "from tensorflow.keras.optimizers import Adam\n",
        "from tensorflow.keras.callbacks import EarlyStopping, ModelCheckpoint\n",
        "\n",
        "%matplotlib inline\n",
        "warnings.filterwarnings('ignore')"
      ],
      "metadata": {
        "id": "DGTJPW8QgWoi"
      },
      "execution_count": null,
      "outputs": []
    },
    {
      "cell_type": "code",
      "source": [
        "filename = '/content/drive/MyDrive/Financial_data/Data/train/kospi_train_data.csv'\n",
        "data = pd.read_csv(filename, sep=\",\",encoding='UTF-8')\n",
        "data.head()"
      ],
      "metadata": {
        "colab": {
          "base_uri": "https://localhost:8080/",
          "height": 206
        },
        "id": "pXPWqn7ygU0t",
        "outputId": "ba614448-80a4-4ec9-d9ad-68dd98422392"
      },
      "execution_count": null,
      "outputs": [
        {
          "output_type": "execute_result",
          "data": {
            "text/plain": [
              "            Date       End      Open      High       Low   Amount     Val\n",
              "0  2020년 02월 21일  2,162.84  2,165.65  2,184.43  2,160.28  635.47M  -1.49%\n",
              "1  2020년 02월 20일  2,195.50  2,223.55  2,228.18  2,186.72  709.56M  -0.67%\n",
              "2  2020년 02월 19일  2,210.34  2,222.51  2,226.00  2,191.20  591.16M   0.07%\n",
              "3  2020년 02월 18일  2,208.88  2,225.98  2,232.93  2,205.21  470.42M  -1.48%\n",
              "4  2020년 02월 17일  2,242.17  2,243.07  2,250.05  2,230.26  458.25M  -0.06%"
            ],
            "text/html": [
              "\n",
              "  <div id=\"df-7a6b81ea-e55d-4539-8dcb-b60d827ccbc6\">\n",
              "    <div class=\"colab-df-container\">\n",
              "      <div>\n",
              "<style scoped>\n",
              "    .dataframe tbody tr th:only-of-type {\n",
              "        vertical-align: middle;\n",
              "    }\n",
              "\n",
              "    .dataframe tbody tr th {\n",
              "        vertical-align: top;\n",
              "    }\n",
              "\n",
              "    .dataframe thead th {\n",
              "        text-align: right;\n",
              "    }\n",
              "</style>\n",
              "<table border=\"1\" class=\"dataframe\">\n",
              "  <thead>\n",
              "    <tr style=\"text-align: right;\">\n",
              "      <th></th>\n",
              "      <th>Date</th>\n",
              "      <th>End</th>\n",
              "      <th>Open</th>\n",
              "      <th>High</th>\n",
              "      <th>Low</th>\n",
              "      <th>Amount</th>\n",
              "      <th>Val</th>\n",
              "    </tr>\n",
              "  </thead>\n",
              "  <tbody>\n",
              "    <tr>\n",
              "      <th>0</th>\n",
              "      <td>2020년 02월 21일</td>\n",
              "      <td>2,162.84</td>\n",
              "      <td>2,165.65</td>\n",
              "      <td>2,184.43</td>\n",
              "      <td>2,160.28</td>\n",
              "      <td>635.47M</td>\n",
              "      <td>-1.49%</td>\n",
              "    </tr>\n",
              "    <tr>\n",
              "      <th>1</th>\n",
              "      <td>2020년 02월 20일</td>\n",
              "      <td>2,195.50</td>\n",
              "      <td>2,223.55</td>\n",
              "      <td>2,228.18</td>\n",
              "      <td>2,186.72</td>\n",
              "      <td>709.56M</td>\n",
              "      <td>-0.67%</td>\n",
              "    </tr>\n",
              "    <tr>\n",
              "      <th>2</th>\n",
              "      <td>2020년 02월 19일</td>\n",
              "      <td>2,210.34</td>\n",
              "      <td>2,222.51</td>\n",
              "      <td>2,226.00</td>\n",
              "      <td>2,191.20</td>\n",
              "      <td>591.16M</td>\n",
              "      <td>0.07%</td>\n",
              "    </tr>\n",
              "    <tr>\n",
              "      <th>3</th>\n",
              "      <td>2020년 02월 18일</td>\n",
              "      <td>2,208.88</td>\n",
              "      <td>2,225.98</td>\n",
              "      <td>2,232.93</td>\n",
              "      <td>2,205.21</td>\n",
              "      <td>470.42M</td>\n",
              "      <td>-1.48%</td>\n",
              "    </tr>\n",
              "    <tr>\n",
              "      <th>4</th>\n",
              "      <td>2020년 02월 17일</td>\n",
              "      <td>2,242.17</td>\n",
              "      <td>2,243.07</td>\n",
              "      <td>2,250.05</td>\n",
              "      <td>2,230.26</td>\n",
              "      <td>458.25M</td>\n",
              "      <td>-0.06%</td>\n",
              "    </tr>\n",
              "  </tbody>\n",
              "</table>\n",
              "</div>\n",
              "      <button class=\"colab-df-convert\" onclick=\"convertToInteractive('df-7a6b81ea-e55d-4539-8dcb-b60d827ccbc6')\"\n",
              "              title=\"Convert this dataframe to an interactive table.\"\n",
              "              style=\"display:none;\">\n",
              "        \n",
              "  <svg xmlns=\"http://www.w3.org/2000/svg\" height=\"24px\"viewBox=\"0 0 24 24\"\n",
              "       width=\"24px\">\n",
              "    <path d=\"M0 0h24v24H0V0z\" fill=\"none\"/>\n",
              "    <path d=\"M18.56 5.44l.94 2.06.94-2.06 2.06-.94-2.06-.94-.94-2.06-.94 2.06-2.06.94zm-11 1L8.5 8.5l.94-2.06 2.06-.94-2.06-.94L8.5 2.5l-.94 2.06-2.06.94zm10 10l.94 2.06.94-2.06 2.06-.94-2.06-.94-.94-2.06-.94 2.06-2.06.94z\"/><path d=\"M17.41 7.96l-1.37-1.37c-.4-.4-.92-.59-1.43-.59-.52 0-1.04.2-1.43.59L10.3 9.45l-7.72 7.72c-.78.78-.78 2.05 0 2.83L4 21.41c.39.39.9.59 1.41.59.51 0 1.02-.2 1.41-.59l7.78-7.78 2.81-2.81c.8-.78.8-2.07 0-2.86zM5.41 20L4 18.59l7.72-7.72 1.47 1.35L5.41 20z\"/>\n",
              "  </svg>\n",
              "      </button>\n",
              "      \n",
              "  <style>\n",
              "    .colab-df-container {\n",
              "      display:flex;\n",
              "      flex-wrap:wrap;\n",
              "      gap: 12px;\n",
              "    }\n",
              "\n",
              "    .colab-df-convert {\n",
              "      background-color: #E8F0FE;\n",
              "      border: none;\n",
              "      border-radius: 50%;\n",
              "      cursor: pointer;\n",
              "      display: none;\n",
              "      fill: #1967D2;\n",
              "      height: 32px;\n",
              "      padding: 0 0 0 0;\n",
              "      width: 32px;\n",
              "    }\n",
              "\n",
              "    .colab-df-convert:hover {\n",
              "      background-color: #E2EBFA;\n",
              "      box-shadow: 0px 1px 2px rgba(60, 64, 67, 0.3), 0px 1px 3px 1px rgba(60, 64, 67, 0.15);\n",
              "      fill: #174EA6;\n",
              "    }\n",
              "\n",
              "    [theme=dark] .colab-df-convert {\n",
              "      background-color: #3B4455;\n",
              "      fill: #D2E3FC;\n",
              "    }\n",
              "\n",
              "    [theme=dark] .colab-df-convert:hover {\n",
              "      background-color: #434B5C;\n",
              "      box-shadow: 0px 1px 3px 1px rgba(0, 0, 0, 0.15);\n",
              "      filter: drop-shadow(0px 1px 2px rgba(0, 0, 0, 0.3));\n",
              "      fill: #FFFFFF;\n",
              "    }\n",
              "  </style>\n",
              "\n",
              "      <script>\n",
              "        const buttonEl =\n",
              "          document.querySelector('#df-7a6b81ea-e55d-4539-8dcb-b60d827ccbc6 button.colab-df-convert');\n",
              "        buttonEl.style.display =\n",
              "          google.colab.kernel.accessAllowed ? 'block' : 'none';\n",
              "\n",
              "        async function convertToInteractive(key) {\n",
              "          const element = document.querySelector('#df-7a6b81ea-e55d-4539-8dcb-b60d827ccbc6');\n",
              "          const dataTable =\n",
              "            await google.colab.kernel.invokeFunction('convertToInteractive',\n",
              "                                                     [key], {});\n",
              "          if (!dataTable) return;\n",
              "\n",
              "          const docLinkHtml = 'Like what you see? Visit the ' +\n",
              "            '<a target=\"_blank\" href=https://colab.research.google.com/notebooks/data_table.ipynb>data table notebook</a>'\n",
              "            + ' to learn more about interactive tables.';\n",
              "          element.innerHTML = '';\n",
              "          dataTable['output_type'] = 'display_data';\n",
              "          await google.colab.output.renderOutput(dataTable, element);\n",
              "          const docLink = document.createElement('div');\n",
              "          docLink.innerHTML = docLinkHtml;\n",
              "          element.appendChild(docLink);\n",
              "        }\n",
              "      </script>\n",
              "    </div>\n",
              "  </div>\n",
              "  "
            ]
          },
          "metadata": {},
          "execution_count": 9
        }
      ]
    },
    {
      "cell_type": "code",
      "source": [
        "date_index = data\n",
        "date_index = date_index.copy()"
      ],
      "metadata": {
        "id": "XsCMqXNdjwGm"
      },
      "execution_count": null,
      "outputs": []
    },
    {
      "cell_type": "code",
      "source": [
        "date_index['Date'] = date_index.Date.apply(str).str.replace(\"년\",\"\").str.replace(\"월\",\"\").str.replace(\"일\",\"\")\n",
        "date_index['Date'] = date_index.Date.str.replace(\" \",\"\")\n",
        "\n",
        "date_index['Amount'] = date_index.Amount.apply(str).str.replace(\"B\", \"0000000\").str.replace(\"M\",\"0000\").str.replace(\"K\",\"0\").str.replace(\".\",\"\")\n",
        "date_index['Amount'] = date_index.Amount.astype(int)\n",
        "date_index['Val'] = date_index.Val.apply(str).str.replace(\"%\", \"\")\n",
        "date_index['Val'] = date_index.Val.astype(float)\n",
        "date_index['End'] = date_index.End.apply(str).str.replace(\",\",\"\").astype(float).round(0)\n",
        "date_index['Open'] = date_index.Open.apply(str).str.replace(\",\",\"\").astype(float).round(0)\n",
        "date_index['High'] = date_index.High.apply(str).str.replace(\",\",\"\").astype(float).round(0)\n",
        "date_index['Low'] = date_index.Low.apply(str).str.replace(\",\",\"\").astype(float).round(0)\n",
        "\n",
        "date_index = date_index.loc[::-1].reset_index(drop=True)\n",
        "date_time = pd.to_datetime(date_index.pop('Date'))\n",
        "date_index.tail()\n"
      ],
      "metadata": {
        "colab": {
          "base_uri": "https://localhost:8080/",
          "height": 206
        },
        "id": "MN3wczILj01U",
        "outputId": "13ee1371-c322-455e-d55a-519f08ba6cf7"
      },
      "execution_count": null,
      "outputs": [
        {
          "output_type": "execute_result",
          "data": {
            "text/plain": [
              "          End    Open    High     Low     Amount   Val\n",
              "10383  2242.0  2243.0  2250.0  2230.0  458250000 -0.06\n",
              "10384  2209.0  2226.0  2233.0  2205.0  470420000 -1.48\n",
              "10385  2210.0  2223.0  2226.0  2191.0  591160000  0.07\n",
              "10386  2196.0  2224.0  2228.0  2187.0  709560000 -0.67\n",
              "10387  2163.0  2166.0  2184.0  2160.0  635470000 -1.49"
            ],
            "text/html": [
              "\n",
              "  <div id=\"df-b29ed37f-2916-4439-9800-3d869b94d46b\">\n",
              "    <div class=\"colab-df-container\">\n",
              "      <div>\n",
              "<style scoped>\n",
              "    .dataframe tbody tr th:only-of-type {\n",
              "        vertical-align: middle;\n",
              "    }\n",
              "\n",
              "    .dataframe tbody tr th {\n",
              "        vertical-align: top;\n",
              "    }\n",
              "\n",
              "    .dataframe thead th {\n",
              "        text-align: right;\n",
              "    }\n",
              "</style>\n",
              "<table border=\"1\" class=\"dataframe\">\n",
              "  <thead>\n",
              "    <tr style=\"text-align: right;\">\n",
              "      <th></th>\n",
              "      <th>End</th>\n",
              "      <th>Open</th>\n",
              "      <th>High</th>\n",
              "      <th>Low</th>\n",
              "      <th>Amount</th>\n",
              "      <th>Val</th>\n",
              "    </tr>\n",
              "  </thead>\n",
              "  <tbody>\n",
              "    <tr>\n",
              "      <th>10383</th>\n",
              "      <td>2242.0</td>\n",
              "      <td>2243.0</td>\n",
              "      <td>2250.0</td>\n",
              "      <td>2230.0</td>\n",
              "      <td>458250000</td>\n",
              "      <td>-0.06</td>\n",
              "    </tr>\n",
              "    <tr>\n",
              "      <th>10384</th>\n",
              "      <td>2209.0</td>\n",
              "      <td>2226.0</td>\n",
              "      <td>2233.0</td>\n",
              "      <td>2205.0</td>\n",
              "      <td>470420000</td>\n",
              "      <td>-1.48</td>\n",
              "    </tr>\n",
              "    <tr>\n",
              "      <th>10385</th>\n",
              "      <td>2210.0</td>\n",
              "      <td>2223.0</td>\n",
              "      <td>2226.0</td>\n",
              "      <td>2191.0</td>\n",
              "      <td>591160000</td>\n",
              "      <td>0.07</td>\n",
              "    </tr>\n",
              "    <tr>\n",
              "      <th>10386</th>\n",
              "      <td>2196.0</td>\n",
              "      <td>2224.0</td>\n",
              "      <td>2228.0</td>\n",
              "      <td>2187.0</td>\n",
              "      <td>709560000</td>\n",
              "      <td>-0.67</td>\n",
              "    </tr>\n",
              "    <tr>\n",
              "      <th>10387</th>\n",
              "      <td>2163.0</td>\n",
              "      <td>2166.0</td>\n",
              "      <td>2184.0</td>\n",
              "      <td>2160.0</td>\n",
              "      <td>635470000</td>\n",
              "      <td>-1.49</td>\n",
              "    </tr>\n",
              "  </tbody>\n",
              "</table>\n",
              "</div>\n",
              "      <button class=\"colab-df-convert\" onclick=\"convertToInteractive('df-b29ed37f-2916-4439-9800-3d869b94d46b')\"\n",
              "              title=\"Convert this dataframe to an interactive table.\"\n",
              "              style=\"display:none;\">\n",
              "        \n",
              "  <svg xmlns=\"http://www.w3.org/2000/svg\" height=\"24px\"viewBox=\"0 0 24 24\"\n",
              "       width=\"24px\">\n",
              "    <path d=\"M0 0h24v24H0V0z\" fill=\"none\"/>\n",
              "    <path d=\"M18.56 5.44l.94 2.06.94-2.06 2.06-.94-2.06-.94-.94-2.06-.94 2.06-2.06.94zm-11 1L8.5 8.5l.94-2.06 2.06-.94-2.06-.94L8.5 2.5l-.94 2.06-2.06.94zm10 10l.94 2.06.94-2.06 2.06-.94-2.06-.94-.94-2.06-.94 2.06-2.06.94z\"/><path d=\"M17.41 7.96l-1.37-1.37c-.4-.4-.92-.59-1.43-.59-.52 0-1.04.2-1.43.59L10.3 9.45l-7.72 7.72c-.78.78-.78 2.05 0 2.83L4 21.41c.39.39.9.59 1.41.59.51 0 1.02-.2 1.41-.59l7.78-7.78 2.81-2.81c.8-.78.8-2.07 0-2.86zM5.41 20L4 18.59l7.72-7.72 1.47 1.35L5.41 20z\"/>\n",
              "  </svg>\n",
              "      </button>\n",
              "      \n",
              "  <style>\n",
              "    .colab-df-container {\n",
              "      display:flex;\n",
              "      flex-wrap:wrap;\n",
              "      gap: 12px;\n",
              "    }\n",
              "\n",
              "    .colab-df-convert {\n",
              "      background-color: #E8F0FE;\n",
              "      border: none;\n",
              "      border-radius: 50%;\n",
              "      cursor: pointer;\n",
              "      display: none;\n",
              "      fill: #1967D2;\n",
              "      height: 32px;\n",
              "      padding: 0 0 0 0;\n",
              "      width: 32px;\n",
              "    }\n",
              "\n",
              "    .colab-df-convert:hover {\n",
              "      background-color: #E2EBFA;\n",
              "      box-shadow: 0px 1px 2px rgba(60, 64, 67, 0.3), 0px 1px 3px 1px rgba(60, 64, 67, 0.15);\n",
              "      fill: #174EA6;\n",
              "    }\n",
              "\n",
              "    [theme=dark] .colab-df-convert {\n",
              "      background-color: #3B4455;\n",
              "      fill: #D2E3FC;\n",
              "    }\n",
              "\n",
              "    [theme=dark] .colab-df-convert:hover {\n",
              "      background-color: #434B5C;\n",
              "      box-shadow: 0px 1px 3px 1px rgba(0, 0, 0, 0.15);\n",
              "      filter: drop-shadow(0px 1px 2px rgba(0, 0, 0, 0.3));\n",
              "      fill: #FFFFFF;\n",
              "    }\n",
              "  </style>\n",
              "\n",
              "      <script>\n",
              "        const buttonEl =\n",
              "          document.querySelector('#df-b29ed37f-2916-4439-9800-3d869b94d46b button.colab-df-convert');\n",
              "        buttonEl.style.display =\n",
              "          google.colab.kernel.accessAllowed ? 'block' : 'none';\n",
              "\n",
              "        async function convertToInteractive(key) {\n",
              "          const element = document.querySelector('#df-b29ed37f-2916-4439-9800-3d869b94d46b');\n",
              "          const dataTable =\n",
              "            await google.colab.kernel.invokeFunction('convertToInteractive',\n",
              "                                                     [key], {});\n",
              "          if (!dataTable) return;\n",
              "\n",
              "          const docLinkHtml = 'Like what you see? Visit the ' +\n",
              "            '<a target=\"_blank\" href=https://colab.research.google.com/notebooks/data_table.ipynb>data table notebook</a>'\n",
              "            + ' to learn more about interactive tables.';\n",
              "          element.innerHTML = '';\n",
              "          dataTable['output_type'] = 'display_data';\n",
              "          await google.colab.output.renderOutput(dataTable, element);\n",
              "          const docLink = document.createElement('div');\n",
              "          docLink.innerHTML = docLinkHtml;\n",
              "          element.appendChild(docLink);\n",
              "        }\n",
              "      </script>\n",
              "    </div>\n",
              "  </div>\n",
              "  "
            ]
          },
          "metadata": {},
          "execution_count": 11
        }
      ]
    },
    {
      "cell_type": "code",
      "source": [
        "plot_cols = ['End', 'Amount', 'Val']\n",
        "plot_features = date_index[plot_cols]\n",
        "plot_features.index = date_time\n",
        "_ = plot_features.plot(subplots=True)\n",
        "#전체적인 데이터 출력\n",
        "plot_features = date_index[plot_cols][:500]\n",
        "plot_features.index = date_time[:500]\n",
        "_ = plot_features.plot(subplots=True)\n",
        "#데이터의 일부분만 출력하여 데이터의 특성을 추출\n",
        "#Val, Amount의 경우 가끔 Shooting이 일어나는 값을 제외하고 일정한 범위내에 존재 함"
      ],
      "metadata": {
        "colab": {
          "base_uri": "https://localhost:8080/",
          "height": 529
        },
        "id": "XzXG69cMnDPf",
        "outputId": "80c2fe97-32d5-4af3-b25a-c57718502ac0"
      },
      "execution_count": null,
      "outputs": [
        {
          "output_type": "display_data",
          "data": {
            "text/plain": [
              "<Figure size 432x288 with 3 Axes>"
            ],
            "image/png": "[encoded data removed]"
          },
          "metadata": {
            "needs_background": "light"
          }
        },
        {
          "output_type": "display_data",
          "data": {
            "text/plain": [
              "<Figure size 432x288 with 3 Axes>"
            ],
            "image/png": "[encoded data removed]"
          },
          "metadata": {
            "needs_background": "light"
          }
        }
      ]
    },
    {
      "cell_type": "code",
      "source": [
        "print(date_index)"
      ],
      "metadata": {
        "colab": {
          "base_uri": "https://localhost:8080/"
        },
        "id": "4kedVKFJ0oi1",
        "outputId": "7100d79f-b3ec-4a9b-c14f-1c1cd30cadf4"
      },
      "execution_count": null,
      "outputs": [
        {
          "output_type": "stream",
          "name": "stdout",
          "text": [
            "          End    Open    High     Low     Amount   Val\n",
            "0       124.0   124.0   124.0   124.0    3330000  0.98\n",
            "1       124.0   124.0   124.0   124.0    2040000 -0.08\n",
            "2       121.0   121.0   121.0   121.0    1930000 -2.35\n",
            "3       121.0   121.0   121.0   121.0    1690000  0.08\n",
            "4       119.0   119.0   119.0   119.0    1480000 -1.16\n",
            "...       ...     ...     ...     ...        ...   ...\n",
            "10383  2242.0  2243.0  2250.0  2230.0  458250000 -0.06\n",
            "10384  2209.0  2226.0  2233.0  2205.0  470420000 -1.48\n",
            "10385  2210.0  2223.0  2226.0  2191.0  591160000  0.07\n",
            "10386  2196.0  2224.0  2228.0  2187.0  709560000 -0.67\n",
            "10387  2163.0  2166.0  2184.0  2160.0  635470000 -1.49\n",
            "\n",
            "[10388 rows x 6 columns]\n"
          ]
        }
      ]
    },
    {
      "cell_type": "code",
      "source": [
        "date_index.describe().transpose()"
      ],
      "metadata": {
        "colab": {
          "base_uri": "https://localhost:8080/",
          "height": 238
        },
        "id": "Ochk_SP4uX3N",
        "outputId": "ab88de77-0bc5-486f-9fcd-6d9aba613c48"
      },
      "execution_count": null,
      "outputs": [
        {
          "output_type": "execute_result",
          "data": {
            "text/plain": [
              "          count          mean           std        min           25%  \\\n",
              "End     10388.0  1.028213e+03  6.837746e+02     106.00  5.650000e+02   \n",
              "Open    10388.0  1.028630e+03  6.842217e+02     106.00  5.650000e+02   \n",
              "High    10388.0  1.033877e+03  6.871588e+02     106.00  5.700000e+02   \n",
              "Low     10388.0  1.022228e+03  6.799888e+02     106.00  5.587500e+02   \n",
              "Amount  10388.0  2.175911e+08  2.371764e+08  166000.00  1.038000e+07   \n",
              "Val     10388.0  3.856758e-02  1.457766e+00     -12.02 -6.225000e-01   \n",
              "\n",
              "                 50%           75%           max  \n",
              "End     8.475000e+02  1.721000e+03  2.598000e+03  \n",
              "Open    8.480000e+02  1.721250e+03  2.590000e+03  \n",
              "High    8.535000e+02  1.733000e+03  2.607000e+03  \n",
              "Low     8.410000e+02  1.708000e+03  2.588000e+03  \n",
              "Amount  1.765450e+08  3.758325e+08  2.380000e+09  \n",
              "Val     3.000000e-02  7.125000e-01  1.195000e+01  "
            ],
            "text/html": [
              "\n",
              "  <div id=\"df-b36afaf1-f470-4f96-9820-afe189ada35c\">\n",
              "    <div class=\"colab-df-container\">\n",
              "      <div>\n",
              "<style scoped>\n",
              "    .dataframe tbody tr th:only-of-type {\n",
              "        vertical-align: middle;\n",
              "    }\n",
              "\n",
              "    .dataframe tbody tr th {\n",
              "        vertical-align: top;\n",
              "    }\n",
              "\n",
              "    .dataframe thead th {\n",
              "        text-align: right;\n",
              "    }\n",
              "</style>\n",
              "<table border=\"1\" class=\"dataframe\">\n",
              "  <thead>\n",
              "    <tr style=\"text-align: right;\">\n",
              "      <th></th>\n",
              "      <th>count</th>\n",
              "      <th>mean</th>\n",
              "      <th>std</th>\n",
              "      <th>min</th>\n",
              "      <th>25%</th>\n",
              "      <th>50%</th>\n",
              "      <th>75%</th>\n",
              "      <th>max</th>\n",
              "    </tr>\n",
              "  </thead>\n",
              "  <tbody>\n",
              "    <tr>\n",
              "      <th>End</th>\n",
              "      <td>10388.0</td>\n",
              "      <td>1.028213e+03</td>\n",
              "      <td>6.837746e+02</td>\n",
              "      <td>106.00</td>\n",
              "      <td>5.650000e+02</td>\n",
              "      <td>8.475000e+02</td>\n",
              "      <td>1.721000e+03</td>\n",
              "      <td>2.598000e+03</td>\n",
              "    </tr>\n",
              "    <tr>\n",
              "      <th>Open</th>\n",
              "      <td>10388.0</td>\n",
              "      <td>1.028630e+03</td>\n",
              "      <td>6.842217e+02</td>\n",
              "      <td>106.00</td>\n",
              "      <td>5.650000e+02</td>\n",
              "      <td>8.480000e+02</td>\n",
              "      <td>1.721250e+03</td>\n",
              "      <td>2.590000e+03</td>\n",
              "    </tr>\n",
              "    <tr>\n",
              "      <th>High</th>\n",
              "      <td>10388.0</td>\n",
              "      <td>1.033877e+03</td>\n",
              "      <td>6.871588e+02</td>\n",
              "      <td>106.00</td>\n",
              "      <td>5.700000e+02</td>\n",
              "      <td>8.535000e+02</td>\n",
              "      <td>1.733000e+03</td>\n",
              "      <td>2.607000e+03</td>\n",
              "    </tr>\n",
              "    <tr>\n",
              "      <th>Low</th>\n",
              "      <td>10388.0</td>\n",
              "      <td>1.022228e+03</td>\n",
              "      <td>6.799888e+02</td>\n",
              "      <td>106.00</td>\n",
              "      <td>5.587500e+02</td>\n",
              "      <td>8.410000e+02</td>\n",
              "      <td>1.708000e+03</td>\n",
              "      <td>2.588000e+03</td>\n",
              "    </tr>\n",
              "    <tr>\n",
              "      <th>Amount</th>\n",
              "      <td>10388.0</td>\n",
              "      <td>2.175911e+08</td>\n",
              "      <td>2.371764e+08</td>\n",
              "      <td>166000.00</td>\n",
              "      <td>1.038000e+07</td>\n",
              "      <td>1.765450e+08</td>\n",
              "      <td>3.758325e+08</td>\n",
              "      <td>2.380000e+09</td>\n",
              "    </tr>\n",
              "    <tr>\n",
              "      <th>Val</th>\n",
              "      <td>10388.0</td>\n",
              "      <td>3.856758e-02</td>\n",
              "      <td>1.457766e+00</td>\n",
              "      <td>-12.02</td>\n",
              "      <td>-6.225000e-01</td>\n",
              "      <td>3.000000e-02</td>\n",
              "      <td>7.125000e-01</td>\n",
              "      <td>1.195000e+01</td>\n",
              "    </tr>\n",
              "  </tbody>\n",
              "</table>\n",
              "</div>\n",
              "      <button class=\"colab-df-convert\" onclick=\"convertToInteractive('df-b36afaf1-f470-4f96-9820-afe189ada35c')\"\n",
              "              title=\"Convert this dataframe to an interactive table.\"\n",
              "              style=\"display:none;\">\n",
              "        \n",
              "  <svg xmlns=\"http://www.w3.org/2000/svg\" height=\"24px\"viewBox=\"0 0 24 24\"\n",
              "       width=\"24px\">\n",
              "    <path d=\"M0 0h24v24H0V0z\" fill=\"none\"/>\n",
              "    <path d=\"M18.56 5.44l.94 2.06.94-2.06 2.06-.94-2.06-.94-.94-2.06-.94 2.06-2.06.94zm-11 1L8.5 8.5l.94-2.06 2.06-.94-2.06-.94L8.5 2.5l-.94 2.06-2.06.94zm10 10l.94 2.06.94-2.06 2.06-.94-2.06-.94-.94-2.06-.94 2.06-2.06.94z\"/><path d=\"M17.41 7.96l-1.37-1.37c-.4-.4-.92-.59-1.43-.59-.52 0-1.04.2-1.43.59L10.3 9.45l-7.72 7.72c-.78.78-.78 2.05 0 2.83L4 21.41c.39.39.9.59 1.41.59.51 0 1.02-.2 1.41-.59l7.78-7.78 2.81-2.81c.8-.78.8-2.07 0-2.86zM5.41 20L4 18.59l7.72-7.72 1.47 1.35L5.41 20z\"/>\n",
              "  </svg>\n",
              "      </button>\n",
              "      \n",
              "  <style>\n",
              "    .colab-df-container {\n",
              "      display:flex;\n",
              "      flex-wrap:wrap;\n",
              "      gap: 12px;\n",
              "    }\n",
              "\n",
              "    .colab-df-convert {\n",
              "      background-color: #E8F0FE;\n",
              "      border: none;\n",
              "      border-radius: 50%;\n",
              "      cursor: pointer;\n",
              "      display: none;\n",
              "      fill: #1967D2;\n",
              "      height: 32px;\n",
              "      padding: 0 0 0 0;\n",
              "      width: 32px;\n",
              "    }\n",
              "\n",
              "    .colab-df-convert:hover {\n",
              "      background-color: #E2EBFA;\n",
              "      box-shadow: 0px 1px 2px rgba(60, 64, 67, 0.3), 0px 1px 3px 1px rgba(60, 64, 67, 0.15);\n",
              "      fill: #174EA6;\n",
              "    }\n",
              "\n",
              "    [theme=dark] .colab-df-convert {\n",
              "      background-color: #3B4455;\n",
              "      fill: #D2E3FC;\n",
              "    }\n",
              "\n",
              "    [theme=dark] .colab-df-convert:hover {\n",
              "      background-color: #434B5C;\n",
              "      box-shadow: 0px 1px 3px 1px rgba(0, 0, 0, 0.15);\n",
              "      filter: drop-shadow(0px 1px 2px rgba(0, 0, 0, 0.3));\n",
              "      fill: #FFFFFF;\n",
              "    }\n",
              "  </style>\n",
              "\n",
              "      <script>\n",
              "        const buttonEl =\n",
              "          document.querySelector('#df-b36afaf1-f470-4f96-9820-afe189ada35c button.colab-df-convert');\n",
              "        buttonEl.style.display =\n",
              "          google.colab.kernel.accessAllowed ? 'block' : 'none';\n",
              "\n",
              "        async function convertToInteractive(key) {\n",
              "          const element = document.querySelector('#df-b36afaf1-f470-4f96-9820-afe189ada35c');\n",
              "          const dataTable =\n",
              "            await google.colab.kernel.invokeFunction('convertToInteractive',\n",
              "                                                     [key], {});\n",
              "          if (!dataTable) return;\n",
              "\n",
              "          const docLinkHtml = 'Like what you see? Visit the ' +\n",
              "            '<a target=\"_blank\" href=https://colab.research.google.com/notebooks/data_table.ipynb>data table notebook</a>'\n",
              "            + ' to learn more about interactive tables.';\n",
              "          element.innerHTML = '';\n",
              "          dataTable['output_type'] = 'display_data';\n",
              "          await google.colab.output.renderOutput(dataTable, element);\n",
              "          const docLink = document.createElement('div');\n",
              "          docLink.innerHTML = docLinkHtml;\n",
              "          element.appendChild(docLink);\n",
              "        }\n",
              "      </script>\n",
              "    </div>\n",
              "  </div>\n",
              "  "
            ]
          },
          "metadata": {},
          "execution_count": 14
        }
      ]
    },
    {
      "cell_type": "code",
      "source": [
        "column_indices = {name: i for i, name in enumerate(date_index.columns)}\n",
        "\n",
        "n = len(date_index)\n",
        "train_df = date_index[0:int(n*0.7)]\n",
        "val_df = date_index[int(n*0.7):int(n*0.9)]\n",
        "test_df = date_index[int(n*0.9):]\n",
        "\n",
        "num_features = date_index.shape[1]"
      ],
      "metadata": {
        "id": "Oyp2N0sIuXux"
      },
      "execution_count": null,
      "outputs": []
    },
    {
      "cell_type": "code",
      "source": [
        "train_mean = train_df.mean()\n",
        "train_std = train_df.std()\n",
        "\n",
        "train_df = (train_df - train_mean) / train_std\n",
        "val_df = (val_df - train_mean) / train_std\n",
        "test_df = (test_df - train_mean) / train_std"
      ],
      "metadata": {
        "id": "CjyZD4s26tDN"
      },
      "execution_count": null,
      "outputs": []
    },
    {
      "cell_type": "code",
      "source": [
        "df_std = (date_index - train_mean) / train_std\n",
        "df_std = df_std.melt(var_name='Column', value_name='Normalized')\n",
        "plt.figure(figsize=(12, 6))\n",
        "ax = sns.violinplot(x='Column', y='Normalized', data=df_std)\n",
        "_ = ax.set_xticklabels(date_index.keys(), rotation=90)"
      ],
      "metadata": {
        "colab": {
          "base_uri": "https://localhost:8080/",
          "height": 417
        },
        "id": "IUnvhGLF6usH",
        "outputId": "70238b88-0ebc-4b2e-8543-7147bf45e9e1"
      },
      "execution_count": null,
      "outputs": [
        {
          "output_type": "display_data",
          "data": {
            "text/plain": [
              "<Figure size 864x432 with 1 Axes>"
            ],
            "image/png": "[encoded data removed]"
          },
          "metadata": {
            "needs_background": "light"
          }
        }
      ]
    },
    {
      "cell_type": "code",
      "source": [
        "class WindowGenerator():\n",
        "   def __init__(self, input_width, label_width, shift, train_df=train_df, val_df=val_df, test_df=test_df,label_columns=None):\n",
        "     #Store the raw data.\n",
        "     self.train_df = train_df\n",
        "     self.val_df = val_df\n",
        "     self.test_df = test_df\n",
        "\n",
        "     self.label_columns = label_columns\n",
        "     if label_columns is not None:\n",
        "       self.label_columns_indicies = {name: i for i, name in enumerate(label_columns)}\n",
        "       self.column_indices = {name:i for i, name in enumerate(train_df.columns)}\n",
        "\n",
        "    #Work out the window parameters\n",
        "     self.input_width = input_width\n",
        "     self.label_width = label_width\n",
        "     self.shift = shift\n",
        "\n",
        "     self.total_window_size = input_width + shift\n",
        "\n",
        "     self.input_slice = slice(0, input_width)\n",
        "     self.input_indices = np.arange(self.total_window_size)[self.input_slice]\n",
        "\n",
        "     self.label_start = self.total_window_size - self.label_width\n",
        "     self.labels_slice = slice(self.label_start, None)\n",
        "     self.label_indices = np.arange(self.total_window_size)[self.labels_slice]\n",
        "\n",
        "   def __repr__(self):\n",
        "    return '\\n'.join([\n",
        "        f'Total window size: {self.total_window_size}',\n",
        "        f'Input indices: {self.input_indices}',\n",
        "        f'Label indices: {self.label_indices}',\n",
        "        f'Label column name(s): {self.label_columns}'])"
      ],
      "metadata": {
        "id": "7au2lIlbSsOk"
      },
      "execution_count": null,
      "outputs": []
    },
    {
      "cell_type": "code",
      "source": [
        "w1 = WindowGenerator(input_width=24, label_width=1, shift=24,\n",
        "                     label_columns=['End'])\n",
        "w1"
      ],
      "metadata": {
        "colab": {
          "base_uri": "https://localhost:8080/"
        },
        "id": "6ysPG_Rxdi8M",
        "outputId": "49e2501e-23dc-4028-805c-c96d003e14e5"
      },
      "execution_count": null,
      "outputs": [
        {
          "output_type": "execute_result",
          "data": {
            "text/plain": [
              "Total window size: 48\n",
              "Input indices: [ 0  1  2  3  4  5  6  7  8  9 10 11 12 13 14 15 16 17 18 19 20 21 22 23]\n",
              "Label indices: [47]\n",
              "Label column name(s): ['End']"
            ]
          },
          "metadata": {},
          "execution_count": 35
        }
      ]
    },
    {
      "cell_type": "code",
      "source": [
        "w2 = WindowGenerator(input_width=6, label_width=1, shift=1,\n",
        "                     label_columns=['End'])\n",
        "w2"
      ],
      "metadata": {
        "colab": {
          "base_uri": "https://localhost:8080/"
        },
        "id": "mtALumf-invx",
        "outputId": "b891cd70-ad0f-426d-f824-9618f864d3c3"
      },
      "execution_count": null,
      "outputs": [
        {
          "output_type": "execute_result",
          "data": {
            "text/plain": [
              "Total window size: 7\n",
              "Input indices: [0 1 2 3 4 5]\n",
              "Label indices: [6]\n",
              "Label column name(s): ['End']"
            ]
          },
          "metadata": {},
          "execution_count": 36
        }
      ]
    },
    {
      "cell_type": "code",
      "source": [
        "def split_window(self, features):\n",
        "  inputs = features[:, self.input_slice, :]\n",
        "  labels = features[:, self.labels_slice, :]\n",
        "  if self.label_columns is not None:\n",
        "    labels = tf.stack(\n",
        "        [labels[:, :, self.column_indices[name]] for name in self.label_columns],\n",
        "        axis=-1)\n",
        "\n",
        "  # Slicing doesn't preserve static shape information, so set the shapes\n",
        "  # manually. This way the `tf.data.Datasets` are easier to inspect.\n",
        "  inputs.set_shape([None, self.input_width, None])\n",
        "  labels.set_shape([None, self.label_width, None])\n",
        "\n",
        "  return inputs, labels\n",
        "\n",
        "WindowGenerator.split_window = split_window"
      ],
      "metadata": {
        "id": "0AQtPv54it0X"
      },
      "execution_count": null,
      "outputs": []
    },
    {
      "cell_type": "code",
      "source": [
        "# Stack three slices, the length of the total window:\n",
        "example_window = tf.stack([np.array(train_df[:w2.total_window_size]),\n",
        "                           np.array(train_df[100:100+w2.total_window_size]),\n",
        "                           np.array(train_df[200:200+w2.total_window_size])])\n",
        "\n",
        "\n",
        "example_inputs, example_labels = w2.split_window(example_window)\n",
        "\n",
        "print('All shapes are: (batch, time, features)')\n",
        "print(f'Window shape: {example_window.shape}')\n",
        "print(f'Inputs shape: {example_inputs.shape}')\n",
        "print(f'labels shape: {example_labels.shape}')"
      ],
      "metadata": {
        "colab": {
          "base_uri": "https://localhost:8080/"
        },
        "id": "LfSDDtAlivj9",
        "outputId": "6731f8a9-5890-4d6f-fd33-a0570ef03fa1"
      },
      "execution_count": null,
      "outputs": [
        {
          "output_type": "stream",
          "name": "stdout",
          "text": [
            "All shapes are: (batch, time, features)\n",
            "Window shape: (3, 7, 6)\n",
            "Inputs shape: (3, 6, 6)\n",
            "labels shape: (3, 1, 1)\n"
          ]
        }
      ]
    },
    {
      "cell_type": "code",
      "source": [
        "w2.example = example_inputs, example_labels"
      ],
      "metadata": {
        "id": "Rbc2Ij6zmCQM"
      },
      "execution_count": null,
      "outputs": []
    }
  ]
}