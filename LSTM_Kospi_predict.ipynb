{
  "cells": [
    {
      "cell_type": "markdown",
      "metadata": {
        "id": "view-in-github",
        "colab_type": "text"
      },
      "source": [
        "<a href=\"https://colab.research.google.com/github/Canihelpme/DeepLearning_finance/blob/main/LSTM_Kospi_predict.ipynb\" target=\"_parent\"><img src=\"https://colab.research.google.com/assets/colab-badge.svg\" alt=\"Open In Colab\"/></a>"
      ]
    },
    {
      "cell_type": "code",
      "source": [
        "from google.colab import drive\n",
        "drive.mount('/content/drive')"
      ],
      "metadata": {
        "colab": {
          "base_uri": "https://localhost:8080/"
        },
        "id": "1Zq2KFVdOg1Q",
        "outputId": "8034e234-7f0b-4478-eb13-b9d8bfe5eee4"
      },
      "execution_count": 1,
      "outputs": [
        {
          "output_type": "stream",
          "name": "stdout",
          "text": [
            "Mounted at /content/drive\n"
          ]
        }
      ]
    },
    {
      "cell_type": "code",
      "source": [
        "import os\n",
        "from pathlib import Path\n",
        "\n",
        "folder = \"\"\n",
        "project_dir = \"\"\n",
        "\n",
        "base_path = Path(\"/content/drive/My Drive/\")\n",
        "project_path = base_path / folder / project_dir\n",
        "os.chdir(project_path)\n",
        "for x in list(project_path.glob(\"*\")):\n",
        "    if x.is_dir():\n",
        "        dir_name = str(x.relative_to(project_path))\n",
        "        os.rename(dir_name, dir_name.split(\" \", 1)[0])\n",
        "print(f\"현재 디렉토리 위치: {os.getcwd()}\")"
      ],
      "metadata": {
        "colab": {
          "base_uri": "https://localhost:8080/"
        },
        "id": "Ae8YOtMkOrf_",
        "outputId": "c57d75e4-ae09-4eb5-fa9e-8aab8da46085"
      },
      "execution_count": 2,
      "outputs": [
        {
          "output_type": "stream",
          "name": "stdout",
          "text": [
            "현재 디렉토리 위치: /content/drive/My Drive\n"
          ]
        }
      ]
    },
    {
      "cell_type": "code",
      "execution_count": 3,
      "metadata": {
        "id": "-NLSi-_FlSU6"
      },
      "outputs": [],
      "source": [
        "import pandas as pd\n",
        "import numpy as np\n",
        "import matplotlib.pyplot as plt\n",
        "import seaborn as sns\n",
        "import warnings\n",
        "import os\n",
        "from tensorflow.keras.models import Sequential, Model\n",
        "from tensorflow.keras.layers import Dense, LSTM, Conv1D, Lambda, Input, RepeatVector, TimeDistributed, Flatten, Dropout, MaxPooling1D\n",
        "from tensorflow.keras.losses import Huber\n",
        "from tensorflow.keras.optimizers import Adam\n",
        "from tensorflow.keras.callbacks import EarlyStopping, ModelCheckpoint\n",
        "\n",
        "%matplotlib inline\n",
        "warnings.filterwarnings('ignore')\n",
        "\n"
      ]
    },
    {
      "cell_type": "code",
      "source": [
        "%matplotlib inline\n",
        "filename = '/content/drive/MyDrive/Financial_data/Data/train/kospi_train_data.csv'\n",
        "data = pd.read_csv(filename, sep=\",\",encoding='UTF-8')\n",
        "data.head"
      ],
      "metadata": {
        "colab": {
          "base_uri": "https://localhost:8080/"
        },
        "id": "02o2fxR-O2C0",
        "outputId": "475be7b6-ff08-43f9-8a2a-54007108c7e1"
      },
      "execution_count": 7,
      "outputs": [
        {
          "output_type": "execute_result",
          "data": {
            "text/plain": [
              "<bound method NDFrame.head of                 Date       End      Open      High       Low   Amount     Val\n",
              "0      2020년 02월 21일  2,162.84  2,165.65  2,184.43  2,160.28  635.47M  -1.49%\n",
              "1      2020년 02월 20일  2,195.50  2,223.55  2,228.18  2,186.72  709.56M  -0.67%\n",
              "2      2020년 02월 19일  2,210.34  2,222.51  2,226.00  2,191.20  591.16M   0.07%\n",
              "3      2020년 02월 18일  2,208.88  2,225.98  2,232.93  2,205.21  470.42M  -1.48%\n",
              "4      2020년 02월 17일  2,242.17  2,243.07  2,250.05  2,230.26  458.25M  -0.06%\n",
              "...              ...       ...       ...       ...       ...      ...     ...\n",
              "10383  1981년 05월 07일     119.3     119.3     119.3     119.3    1.48M  -1.16%\n",
              "10384  1981년 05월 06일     120.7     120.7     120.7     120.7    1.69M   0.08%\n",
              "10385  1981년 05월 04일     120.6     120.6     120.6     120.6    1.93M  -2.35%\n",
              "10386  1981년 05월 02일     123.5     123.5     123.5     123.5    2.04M  -0.08%\n",
              "10387  1981년 05월 01일     123.6     123.6     123.6     123.6    3.33M   0.98%\n",
              "\n",
              "[10388 rows x 7 columns]>"
            ]
          },
          "metadata": {},
          "execution_count": 7
        }
      ]
    },
    {
      "cell_type": "code",
      "source": [
        "date_index = data\n",
        "date_index = date_index.copy()\n",
        "print(date_index)"
      ],
      "metadata": {
        "colab": {
          "base_uri": "https://localhost:8080/"
        },
        "id": "RUEe-3GwPBVE",
        "outputId": "f2461e41-d026-4cae-90cd-88a0e6248d37"
      },
      "execution_count": 8,
      "outputs": [
        {
          "output_type": "stream",
          "name": "stdout",
          "text": [
            "                Date       End      Open      High       Low   Amount     Val\n",
            "0      2020년 02월 21일  2,162.84  2,165.65  2,184.43  2,160.28  635.47M  -1.49%\n",
            "1      2020년 02월 20일  2,195.50  2,223.55  2,228.18  2,186.72  709.56M  -0.67%\n",
            "2      2020년 02월 19일  2,210.34  2,222.51  2,226.00  2,191.20  591.16M   0.07%\n",
            "3      2020년 02월 18일  2,208.88  2,225.98  2,232.93  2,205.21  470.42M  -1.48%\n",
            "4      2020년 02월 17일  2,242.17  2,243.07  2,250.05  2,230.26  458.25M  -0.06%\n",
            "...              ...       ...       ...       ...       ...      ...     ...\n",
            "10383  1981년 05월 07일     119.3     119.3     119.3     119.3    1.48M  -1.16%\n",
            "10384  1981년 05월 06일     120.7     120.7     120.7     120.7    1.69M   0.08%\n",
            "10385  1981년 05월 04일     120.6     120.6     120.6     120.6    1.93M  -2.35%\n",
            "10386  1981년 05월 02일     123.5     123.5     123.5     123.5    2.04M  -0.08%\n",
            "10387  1981년 05월 01일     123.6     123.6     123.6     123.6    3.33M   0.98%\n",
            "\n",
            "[10388 rows x 7 columns]\n"
          ]
        }
      ]
    },
    {
      "cell_type": "code",
      "source": [
        "date_index['Date'] = date_index.Date.apply(str).str.replace(\"년\",\"\").str.replace(\"월\",\"\").str.replace(\"일\",\"\")\n",
        "date_index['Date'] = date_index.Date.str.replace(\" \",\"\")\n",
        "\n",
        "date_index['Amount'] = date_index.Amount.apply(str).str.replace(\"B\", \"0000000\").str.replace(\"M\",\"0000\").str.replace(\"K\",\"0\").str.replace(\".\",\"\")\n",
        "date_index['Amount'] = date_index.Amount.astype(int)\n",
        "\n",
        "date_index['End'] = date_index.End.apply(str).str.replace(\",\",\"\").astype(float)\n",
        "date_index['Open'] = date_index.Open.apply(str).str.replace(\",\",\"\").astype(float)\n",
        "date_index['High'] = date_index.High.apply(str).str.replace(\",\",\"\").astype(float)\n",
        "date_index['Low'] = date_index.Low.apply(str).str.replace(\",\",\"\").astype(float)\n",
        "\n",
        "date_index = date_index.loc[::-1].reset_index(drop=True)\n",
        "print(date_index)"
      ],
      "metadata": {
        "colab": {
          "base_uri": "https://localhost:8080/"
        },
        "id": "T_RwqoCjPEJb",
        "outputId": "f114043f-ceb0-44b8-e241-20918c3e1d23"
      },
      "execution_count": 9,
      "outputs": [
        {
          "output_type": "stream",
          "name": "stdout",
          "text": [
            "           Date      End     Open     High      Low     Amount     Val\n",
            "0      19810501   123.60   123.60   123.60   123.60    3330000   0.98%\n",
            "1      19810502   123.50   123.50   123.50   123.50    2040000  -0.08%\n",
            "2      19810504   120.60   120.60   120.60   120.60    1930000  -2.35%\n",
            "3      19810506   120.70   120.70   120.70   120.70    1690000   0.08%\n",
            "4      19810507   119.30   119.30   119.30   119.30    1480000  -1.16%\n",
            "...         ...      ...      ...      ...      ...        ...     ...\n",
            "10383  20200217  2242.17  2243.07  2250.05  2230.26  458250000  -0.06%\n",
            "10384  20200218  2208.88  2225.98  2232.93  2205.21  470420000  -1.48%\n",
            "10385  20200219  2210.34  2222.51  2226.00  2191.20  591160000   0.07%\n",
            "10386  20200220  2195.50  2223.55  2228.18  2186.72  709560000  -0.67%\n",
            "10387  20200221  2162.84  2165.65  2184.43  2160.28  635470000  -1.49%\n",
            "\n",
            "[10388 rows x 7 columns]\n"
          ]
        }
      ]
    },
    {
      "cell_type": "code",
      "source": [
        "date_index['Date'] = pd.to_datetime(date_index['Date'], format='%Y%m%d')\n",
        "#date_index['year'] = date_index['date'].dt.year\n",
        "date_index = date_index.set_index('Date')\n",
        "print(date_index)"
      ],
      "metadata": {
        "colab": {
          "base_uri": "https://localhost:8080/"
        },
        "id": "J40VPlqJPGGC",
        "outputId": "7a00596e-9286-4be5-8cfd-780d7896a413"
      },
      "execution_count": 10,
      "outputs": [
        {
          "output_type": "stream",
          "name": "stdout",
          "text": [
            "                End     Open     High      Low     Amount     Val\n",
            "Date                                                             \n",
            "1981-05-01   123.60   123.60   123.60   123.60    3330000   0.98%\n",
            "1981-05-02   123.50   123.50   123.50   123.50    2040000  -0.08%\n",
            "1981-05-04   120.60   120.60   120.60   120.60    1930000  -2.35%\n",
            "1981-05-06   120.70   120.70   120.70   120.70    1690000   0.08%\n",
            "1981-05-07   119.30   119.30   119.30   119.30    1480000  -1.16%\n",
            "...             ...      ...      ...      ...        ...     ...\n",
            "2020-02-17  2242.17  2243.07  2250.05  2230.26  458250000  -0.06%\n",
            "2020-02-18  2208.88  2225.98  2232.93  2205.21  470420000  -1.48%\n",
            "2020-02-19  2210.34  2222.51  2226.00  2191.20  591160000   0.07%\n",
            "2020-02-20  2195.50  2223.55  2228.18  2186.72  709560000  -0.67%\n",
            "2020-02-21  2162.84  2165.65  2184.43  2160.28  635470000  -1.49%\n",
            "\n",
            "[10388 rows x 6 columns]\n"
          ]
        }
      ]
    },
    {
      "cell_type": "markdown",
      "metadata": {
        "id": "y_tRTgM0lSU2"
      },
      "source": [
        "# LSTM을 활용한 주가 예측 모델"
      ]
    },
    {
      "cell_type": "markdown",
      "metadata": {
        "id": "S-A1PUxllSU4"
      },
      "source": [
        "\n",
        "LSTM 을 활용한 주가 예측 모델 구축"
      ]
    },
    {
      "cell_type": "markdown",
      "metadata": {
        "id": "lfN89diplSU8"
      },
      "source": [
        "## 데이터"
      ]
    },
    {
      "cell_type": "code",
      "execution_count": 11,
      "metadata": {
        "id": "eozlNzhQlSVM"
      },
      "outputs": [],
      "source": [
        "stock = date_index"
      ]
    },
    {
      "cell_type": "code",
      "execution_count": 12,
      "metadata": {
        "id": "8DaqSpkJlSVN",
        "outputId": "3fce8ba8-3607-422f-f376-97f412594cf9",
        "colab": {
          "base_uri": "https://localhost:8080/",
          "height": 238
        }
      },
      "outputs": [
        {
          "output_type": "execute_result",
          "data": {
            "text/plain": [
              "              End   Open   High    Low   Amount     Val\n",
              "Date                                                   \n",
              "1981-05-01  123.6  123.6  123.6  123.6  3330000   0.98%\n",
              "1981-05-02  123.5  123.5  123.5  123.5  2040000  -0.08%\n",
              "1981-05-04  120.6  120.6  120.6  120.6  1930000  -2.35%\n",
              "1981-05-06  120.7  120.7  120.7  120.7  1690000   0.08%\n",
              "1981-05-07  119.3  119.3  119.3  119.3  1480000  -1.16%"
            ],
            "text/html": [
              "\n",
              "  <div id=\"df-4496e36e-e994-41da-bd80-88438d9ab06a\">\n",
              "    <div class=\"colab-df-container\">\n",
              "      <div>\n",
              "<style scoped>\n",
              "    .dataframe tbody tr th:only-of-type {\n",
              "        vertical-align: middle;\n",
              "    }\n",
              "\n",
              "    .dataframe tbody tr th {\n",
              "        vertical-align: top;\n",
              "    }\n",
              "\n",
              "    .dataframe thead th {\n",
              "        text-align: right;\n",
              "    }\n",
              "</style>\n",
              "<table border=\"1\" class=\"dataframe\">\n",
              "  <thead>\n",
              "    <tr style=\"text-align: right;\">\n",
              "      <th></th>\n",
              "      <th>End</th>\n",
              "      <th>Open</th>\n",
              "      <th>High</th>\n",
              "      <th>Low</th>\n",
              "      <th>Amount</th>\n",
              "      <th>Val</th>\n",
              "    </tr>\n",
              "    <tr>\n",
              "      <th>Date</th>\n",
              "      <th></th>\n",
              "      <th></th>\n",
              "      <th></th>\n",
              "      <th></th>\n",
              "      <th></th>\n",
              "      <th></th>\n",
              "    </tr>\n",
              "  </thead>\n",
              "  <tbody>\n",
              "    <tr>\n",
              "      <th>1981-05-01</th>\n",
              "      <td>123.6</td>\n",
              "      <td>123.6</td>\n",
              "      <td>123.6</td>\n",
              "      <td>123.6</td>\n",
              "      <td>3330000</td>\n",
              "      <td>0.98%</td>\n",
              "    </tr>\n",
              "    <tr>\n",
              "      <th>1981-05-02</th>\n",
              "      <td>123.5</td>\n",
              "      <td>123.5</td>\n",
              "      <td>123.5</td>\n",
              "      <td>123.5</td>\n",
              "      <td>2040000</td>\n",
              "      <td>-0.08%</td>\n",
              "    </tr>\n",
              "    <tr>\n",
              "      <th>1981-05-04</th>\n",
              "      <td>120.6</td>\n",
              "      <td>120.6</td>\n",
              "      <td>120.6</td>\n",
              "      <td>120.6</td>\n",
              "      <td>1930000</td>\n",
              "      <td>-2.35%</td>\n",
              "    </tr>\n",
              "    <tr>\n",
              "      <th>1981-05-06</th>\n",
              "      <td>120.7</td>\n",
              "      <td>120.7</td>\n",
              "      <td>120.7</td>\n",
              "      <td>120.7</td>\n",
              "      <td>1690000</td>\n",
              "      <td>0.08%</td>\n",
              "    </tr>\n",
              "    <tr>\n",
              "      <th>1981-05-07</th>\n",
              "      <td>119.3</td>\n",
              "      <td>119.3</td>\n",
              "      <td>119.3</td>\n",
              "      <td>119.3</td>\n",
              "      <td>1480000</td>\n",
              "      <td>-1.16%</td>\n",
              "    </tr>\n",
              "  </tbody>\n",
              "</table>\n",
              "</div>\n",
              "      <button class=\"colab-df-convert\" onclick=\"convertToInteractive('df-4496e36e-e994-41da-bd80-88438d9ab06a')\"\n",
              "              title=\"Convert this dataframe to an interactive table.\"\n",
              "              style=\"display:none;\">\n",
              "        \n",
              "  <svg xmlns=\"http://www.w3.org/2000/svg\" height=\"24px\"viewBox=\"0 0 24 24\"\n",
              "       width=\"24px\">\n",
              "    <path d=\"M0 0h24v24H0V0z\" fill=\"none\"/>\n",
              "    <path d=\"M18.56 5.44l.94 2.06.94-2.06 2.06-.94-2.06-.94-.94-2.06-.94 2.06-2.06.94zm-11 1L8.5 8.5l.94-2.06 2.06-.94-2.06-.94L8.5 2.5l-.94 2.06-2.06.94zm10 10l.94 2.06.94-2.06 2.06-.94-2.06-.94-.94-2.06-.94 2.06-2.06.94z\"/><path d=\"M17.41 7.96l-1.37-1.37c-.4-.4-.92-.59-1.43-.59-.52 0-1.04.2-1.43.59L10.3 9.45l-7.72 7.72c-.78.78-.78 2.05 0 2.83L4 21.41c.39.39.9.59 1.41.59.51 0 1.02-.2 1.41-.59l7.78-7.78 2.81-2.81c.8-.78.8-2.07 0-2.86zM5.41 20L4 18.59l7.72-7.72 1.47 1.35L5.41 20z\"/>\n",
              "  </svg>\n",
              "      </button>\n",
              "      \n",
              "  <style>\n",
              "    .colab-df-container {\n",
              "      display:flex;\n",
              "      flex-wrap:wrap;\n",
              "      gap: 12px;\n",
              "    }\n",
              "\n",
              "    .colab-df-convert {\n",
              "      background-color: #E8F0FE;\n",
              "      border: none;\n",
              "      border-radius: 50%;\n",
              "      cursor: pointer;\n",
              "      display: none;\n",
              "      fill: #1967D2;\n",
              "      height: 32px;\n",
              "      padding: 0 0 0 0;\n",
              "      width: 32px;\n",
              "    }\n",
              "\n",
              "    .colab-df-convert:hover {\n",
              "      background-color: #E2EBFA;\n",
              "      box-shadow: 0px 1px 2px rgba(60, 64, 67, 0.3), 0px 1px 3px 1px rgba(60, 64, 67, 0.15);\n",
              "      fill: #174EA6;\n",
              "    }\n",
              "\n",
              "    [theme=dark] .colab-df-convert {\n",
              "      background-color: #3B4455;\n",
              "      fill: #D2E3FC;\n",
              "    }\n",
              "\n",
              "    [theme=dark] .colab-df-convert:hover {\n",
              "      background-color: #434B5C;\n",
              "      box-shadow: 0px 1px 3px 1px rgba(0, 0, 0, 0.15);\n",
              "      filter: drop-shadow(0px 1px 2px rgba(0, 0, 0, 0.3));\n",
              "      fill: #FFFFFF;\n",
              "    }\n",
              "  </style>\n",
              "\n",
              "      <script>\n",
              "        const buttonEl =\n",
              "          document.querySelector('#df-4496e36e-e994-41da-bd80-88438d9ab06a button.colab-df-convert');\n",
              "        buttonEl.style.display =\n",
              "          google.colab.kernel.accessAllowed ? 'block' : 'none';\n",
              "\n",
              "        async function convertToInteractive(key) {\n",
              "          const element = document.querySelector('#df-4496e36e-e994-41da-bd80-88438d9ab06a');\n",
              "          const dataTable =\n",
              "            await google.colab.kernel.invokeFunction('convertToInteractive',\n",
              "                                                     [key], {});\n",
              "          if (!dataTable) return;\n",
              "\n",
              "          const docLinkHtml = 'Like what you see? Visit the ' +\n",
              "            '<a target=\"_blank\" href=https://colab.research.google.com/notebooks/data_table.ipynb>data table notebook</a>'\n",
              "            + ' to learn more about interactive tables.';\n",
              "          element.innerHTML = '';\n",
              "          dataTable['output_type'] = 'display_data';\n",
              "          await google.colab.output.renderOutput(dataTable, element);\n",
              "          const docLink = document.createElement('div');\n",
              "          docLink.innerHTML = docLinkHtml;\n",
              "          element.appendChild(docLink);\n",
              "        }\n",
              "      </script>\n",
              "    </div>\n",
              "  </div>\n",
              "  "
            ]
          },
          "metadata": {},
          "execution_count": 12
        }
      ],
      "source": [
        "stock.head()"
      ]
    },
    {
      "cell_type": "code",
      "execution_count": 13,
      "metadata": {
        "id": "keb4TO0VlSVN",
        "outputId": "f920900a-fd64-4906-9015-60fb34a87843",
        "colab": {
          "base_uri": "https://localhost:8080/",
          "height": 238
        }
      },
      "outputs": [
        {
          "output_type": "execute_result",
          "data": {
            "text/plain": [
              "                End     Open     High      Low     Amount     Val\n",
              "Date                                                             \n",
              "2020-02-17  2242.17  2243.07  2250.05  2230.26  458250000  -0.06%\n",
              "2020-02-18  2208.88  2225.98  2232.93  2205.21  470420000  -1.48%\n",
              "2020-02-19  2210.34  2222.51  2226.00  2191.20  591160000   0.07%\n",
              "2020-02-20  2195.50  2223.55  2228.18  2186.72  709560000  -0.67%\n",
              "2020-02-21  2162.84  2165.65  2184.43  2160.28  635470000  -1.49%"
            ],
            "text/html": [
              "\n",
              "  <div id=\"df-ff7b99a2-f70a-4017-aeed-cff08921ad58\">\n",
              "    <div class=\"colab-df-container\">\n",
              "      <div>\n",
              "<style scoped>\n",
              "    .dataframe tbody tr th:only-of-type {\n",
              "        vertical-align: middle;\n",
              "    }\n",
              "\n",
              "    .dataframe tbody tr th {\n",
              "        vertical-align: top;\n",
              "    }\n",
              "\n",
              "    .dataframe thead th {\n",
              "        text-align: right;\n",
              "    }\n",
              "</style>\n",
              "<table border=\"1\" class=\"dataframe\">\n",
              "  <thead>\n",
              "    <tr style=\"text-align: right;\">\n",
              "      <th></th>\n",
              "      <th>End</th>\n",
              "      <th>Open</th>\n",
              "      <th>High</th>\n",
              "      <th>Low</th>\n",
              "      <th>Amount</th>\n",
              "      <th>Val</th>\n",
              "    </tr>\n",
              "    <tr>\n",
              "      <th>Date</th>\n",
              "      <th></th>\n",
              "      <th></th>\n",
              "      <th></th>\n",
              "      <th></th>\n",
              "      <th></th>\n",
              "      <th></th>\n",
              "    </tr>\n",
              "  </thead>\n",
              "  <tbody>\n",
              "    <tr>\n",
              "      <th>2020-02-17</th>\n",
              "      <td>2242.17</td>\n",
              "      <td>2243.07</td>\n",
              "      <td>2250.05</td>\n",
              "      <td>2230.26</td>\n",
              "      <td>458250000</td>\n",
              "      <td>-0.06%</td>\n",
              "    </tr>\n",
              "    <tr>\n",
              "      <th>2020-02-18</th>\n",
              "      <td>2208.88</td>\n",
              "      <td>2225.98</td>\n",
              "      <td>2232.93</td>\n",
              "      <td>2205.21</td>\n",
              "      <td>470420000</td>\n",
              "      <td>-1.48%</td>\n",
              "    </tr>\n",
              "    <tr>\n",
              "      <th>2020-02-19</th>\n",
              "      <td>2210.34</td>\n",
              "      <td>2222.51</td>\n",
              "      <td>2226.00</td>\n",
              "      <td>2191.20</td>\n",
              "      <td>591160000</td>\n",
              "      <td>0.07%</td>\n",
              "    </tr>\n",
              "    <tr>\n",
              "      <th>2020-02-20</th>\n",
              "      <td>2195.50</td>\n",
              "      <td>2223.55</td>\n",
              "      <td>2228.18</td>\n",
              "      <td>2186.72</td>\n",
              "      <td>709560000</td>\n",
              "      <td>-0.67%</td>\n",
              "    </tr>\n",
              "    <tr>\n",
              "      <th>2020-02-21</th>\n",
              "      <td>2162.84</td>\n",
              "      <td>2165.65</td>\n",
              "      <td>2184.43</td>\n",
              "      <td>2160.28</td>\n",
              "      <td>635470000</td>\n",
              "      <td>-1.49%</td>\n",
              "    </tr>\n",
              "  </tbody>\n",
              "</table>\n",
              "</div>\n",
              "      <button class=\"colab-df-convert\" onclick=\"convertToInteractive('df-ff7b99a2-f70a-4017-aeed-cff08921ad58')\"\n",
              "              title=\"Convert this dataframe to an interactive table.\"\n",
              "              style=\"display:none;\">\n",
              "        \n",
              "  <svg xmlns=\"http://www.w3.org/2000/svg\" height=\"24px\"viewBox=\"0 0 24 24\"\n",
              "       width=\"24px\">\n",
              "    <path d=\"M0 0h24v24H0V0z\" fill=\"none\"/>\n",
              "    <path d=\"M18.56 5.44l.94 2.06.94-2.06 2.06-.94-2.06-.94-.94-2.06-.94 2.06-2.06.94zm-11 1L8.5 8.5l.94-2.06 2.06-.94-2.06-.94L8.5 2.5l-.94 2.06-2.06.94zm10 10l.94 2.06.94-2.06 2.06-.94-2.06-.94-.94-2.06-.94 2.06-2.06.94z\"/><path d=\"M17.41 7.96l-1.37-1.37c-.4-.4-.92-.59-1.43-.59-.52 0-1.04.2-1.43.59L10.3 9.45l-7.72 7.72c-.78.78-.78 2.05 0 2.83L4 21.41c.39.39.9.59 1.41.59.51 0 1.02-.2 1.41-.59l7.78-7.78 2.81-2.81c.8-.78.8-2.07 0-2.86zM5.41 20L4 18.59l7.72-7.72 1.47 1.35L5.41 20z\"/>\n",
              "  </svg>\n",
              "      </button>\n",
              "      \n",
              "  <style>\n",
              "    .colab-df-container {\n",
              "      display:flex;\n",
              "      flex-wrap:wrap;\n",
              "      gap: 12px;\n",
              "    }\n",
              "\n",
              "    .colab-df-convert {\n",
              "      background-color: #E8F0FE;\n",
              "      border: none;\n",
              "      border-radius: 50%;\n",
              "      cursor: pointer;\n",
              "      display: none;\n",
              "      fill: #1967D2;\n",
              "      height: 32px;\n",
              "      padding: 0 0 0 0;\n",
              "      width: 32px;\n",
              "    }\n",
              "\n",
              "    .colab-df-convert:hover {\n",
              "      background-color: #E2EBFA;\n",
              "      box-shadow: 0px 1px 2px rgba(60, 64, 67, 0.3), 0px 1px 3px 1px rgba(60, 64, 67, 0.15);\n",
              "      fill: #174EA6;\n",
              "    }\n",
              "\n",
              "    [theme=dark] .colab-df-convert {\n",
              "      background-color: #3B4455;\n",
              "      fill: #D2E3FC;\n",
              "    }\n",
              "\n",
              "    [theme=dark] .colab-df-convert:hover {\n",
              "      background-color: #434B5C;\n",
              "      box-shadow: 0px 1px 3px 1px rgba(0, 0, 0, 0.15);\n",
              "      filter: drop-shadow(0px 1px 2px rgba(0, 0, 0, 0.3));\n",
              "      fill: #FFFFFF;\n",
              "    }\n",
              "  </style>\n",
              "\n",
              "      <script>\n",
              "        const buttonEl =\n",
              "          document.querySelector('#df-ff7b99a2-f70a-4017-aeed-cff08921ad58 button.colab-df-convert');\n",
              "        buttonEl.style.display =\n",
              "          google.colab.kernel.accessAllowed ? 'block' : 'none';\n",
              "\n",
              "        async function convertToInteractive(key) {\n",
              "          const element = document.querySelector('#df-ff7b99a2-f70a-4017-aeed-cff08921ad58');\n",
              "          const dataTable =\n",
              "            await google.colab.kernel.invokeFunction('convertToInteractive',\n",
              "                                                     [key], {});\n",
              "          if (!dataTable) return;\n",
              "\n",
              "          const docLinkHtml = 'Like what you see? Visit the ' +\n",
              "            '<a target=\"_blank\" href=https://colab.research.google.com/notebooks/data_table.ipynb>data table notebook</a>'\n",
              "            + ' to learn more about interactive tables.';\n",
              "          element.innerHTML = '';\n",
              "          dataTable['output_type'] = 'display_data';\n",
              "          await google.colab.output.renderOutput(dataTable, element);\n",
              "          const docLink = document.createElement('div');\n",
              "          docLink.innerHTML = docLinkHtml;\n",
              "          element.appendChild(docLink);\n",
              "        }\n",
              "      </script>\n",
              "    </div>\n",
              "  </div>\n",
              "  "
            ]
          },
          "metadata": {},
          "execution_count": 13
        }
      ],
      "source": [
        "stock.tail()"
      ]
    },
    {
      "cell_type": "code",
      "execution_count": 14,
      "metadata": {
        "id": "cObg6g5ylSVN",
        "outputId": "b6d3dc27-2240-4308-d422-e877b4de6ace",
        "colab": {
          "base_uri": "https://localhost:8080/"
        }
      },
      "outputs": [
        {
          "output_type": "execute_result",
          "data": {
            "text/plain": [
              "DatetimeIndex(['1981-05-01', '1981-05-02', '1981-05-04', '1981-05-06',\n",
              "               '1981-05-07', '1981-05-08', '1981-05-09', '1981-05-12',\n",
              "               '1981-05-13', '1981-05-14',\n",
              "               ...\n",
              "               '2020-02-10', '2020-02-11', '2020-02-12', '2020-02-13',\n",
              "               '2020-02-14', '2020-02-17', '2020-02-18', '2020-02-19',\n",
              "               '2020-02-20', '2020-02-21'],\n",
              "              dtype='datetime64[ns]', name='Date', length=10388, freq=None)"
            ]
          },
          "metadata": {},
          "execution_count": 14
        }
      ],
      "source": [
        "stock.index"
      ]
    },
    {
      "cell_type": "markdown",
      "metadata": {
        "id": "-6KTekBtlSVO"
      },
      "source": [
        "위에서 보시는 바와 같이 index가 `DatetimeIndex`로 지정되어 있습니다.\n",
        "\n",
        "`DatetimeIndex`로 정의되어 있다면, 아래와 같이 연도, 월, 일을 쪼갤 수 있으며, **월별, 연도별 피벗데이터**를 만들때 유용하게 활용할 수 있습니다."
      ]
    },
    {
      "cell_type": "code",
      "execution_count": 15,
      "metadata": {
        "id": "fif43Fh-0l4L"
      },
      "outputs": [],
      "source": [
        "stock['Year'] = stock.index.year\n",
        "stock['Month'] = stock.index.month\n",
        "stock['Day'] = stock.index.day"
      ]
    },
    {
      "cell_type": "code",
      "execution_count": 16,
      "metadata": {
        "colab": {
          "base_uri": "https://localhost:8080/",
          "height": 238
        },
        "id": "0yAKE9Ag0l4S",
        "outputId": "41f7c5a7-3dfc-4518-a95e-3f1f7b459147"
      },
      "outputs": [
        {
          "output_type": "execute_result",
          "data": {
            "text/plain": [
              "              End   Open   High    Low   Amount     Val  Year  Month  Day\n",
              "Date                                                                     \n",
              "1981-05-01  123.6  123.6  123.6  123.6  3330000   0.98%  1981      5    1\n",
              "1981-05-02  123.5  123.5  123.5  123.5  2040000  -0.08%  1981      5    2\n",
              "1981-05-04  120.6  120.6  120.6  120.6  1930000  -2.35%  1981      5    4\n",
              "1981-05-06  120.7  120.7  120.7  120.7  1690000   0.08%  1981      5    6\n",
              "1981-05-07  119.3  119.3  119.3  119.3  1480000  -1.16%  1981      5    7"
            ],
            "text/html": [
              "\n",
              "  <div id=\"df-e1ea67c1-698e-47db-99a0-96da9fd7251d\">\n",
              "    <div class=\"colab-df-container\">\n",
              "      <div>\n",
              "<style scoped>\n",
              "    .dataframe tbody tr th:only-of-type {\n",
              "        vertical-align: middle;\n",
              "    }\n",
              "\n",
              "    .dataframe tbody tr th {\n",
              "        vertical-align: top;\n",
              "    }\n",
              "\n",
              "    .dataframe thead th {\n",
              "        text-align: right;\n",
              "    }\n",
              "</style>\n",
              "<table border=\"1\" class=\"dataframe\">\n",
              "  <thead>\n",
              "    <tr style=\"text-align: right;\">\n",
              "      <th></th>\n",
              "      <th>End</th>\n",
              "      <th>Open</th>\n",
              "      <th>High</th>\n",
              "      <th>Low</th>\n",
              "      <th>Amount</th>\n",
              "      <th>Val</th>\n",
              "      <th>Year</th>\n",
              "      <th>Month</th>\n",
              "      <th>Day</th>\n",
              "    </tr>\n",
              "    <tr>\n",
              "      <th>Date</th>\n",
              "      <th></th>\n",
              "      <th></th>\n",
              "      <th></th>\n",
              "      <th></th>\n",
              "      <th></th>\n",
              "      <th></th>\n",
              "      <th></th>\n",
              "      <th></th>\n",
              "      <th></th>\n",
              "    </tr>\n",
              "  </thead>\n",
              "  <tbody>\n",
              "    <tr>\n",
              "      <th>1981-05-01</th>\n",
              "      <td>123.6</td>\n",
              "      <td>123.6</td>\n",
              "      <td>123.6</td>\n",
              "      <td>123.6</td>\n",
              "      <td>3330000</td>\n",
              "      <td>0.98%</td>\n",
              "      <td>1981</td>\n",
              "      <td>5</td>\n",
              "      <td>1</td>\n",
              "    </tr>\n",
              "    <tr>\n",
              "      <th>1981-05-02</th>\n",
              "      <td>123.5</td>\n",
              "      <td>123.5</td>\n",
              "      <td>123.5</td>\n",
              "      <td>123.5</td>\n",
              "      <td>2040000</td>\n",
              "      <td>-0.08%</td>\n",
              "      <td>1981</td>\n",
              "      <td>5</td>\n",
              "      <td>2</td>\n",
              "    </tr>\n",
              "    <tr>\n",
              "      <th>1981-05-04</th>\n",
              "      <td>120.6</td>\n",
              "      <td>120.6</td>\n",
              "      <td>120.6</td>\n",
              "      <td>120.6</td>\n",
              "      <td>1930000</td>\n",
              "      <td>-2.35%</td>\n",
              "      <td>1981</td>\n",
              "      <td>5</td>\n",
              "      <td>4</td>\n",
              "    </tr>\n",
              "    <tr>\n",
              "      <th>1981-05-06</th>\n",
              "      <td>120.7</td>\n",
              "      <td>120.7</td>\n",
              "      <td>120.7</td>\n",
              "      <td>120.7</td>\n",
              "      <td>1690000</td>\n",
              "      <td>0.08%</td>\n",
              "      <td>1981</td>\n",
              "      <td>5</td>\n",
              "      <td>6</td>\n",
              "    </tr>\n",
              "    <tr>\n",
              "      <th>1981-05-07</th>\n",
              "      <td>119.3</td>\n",
              "      <td>119.3</td>\n",
              "      <td>119.3</td>\n",
              "      <td>119.3</td>\n",
              "      <td>1480000</td>\n",
              "      <td>-1.16%</td>\n",
              "      <td>1981</td>\n",
              "      <td>5</td>\n",
              "      <td>7</td>\n",
              "    </tr>\n",
              "  </tbody>\n",
              "</table>\n",
              "</div>\n",
              "      <button class=\"colab-df-convert\" onclick=\"convertToInteractive('df-e1ea67c1-698e-47db-99a0-96da9fd7251d')\"\n",
              "              title=\"Convert this dataframe to an interactive table.\"\n",
              "              style=\"display:none;\">\n",
              "        \n",
              "  <svg xmlns=\"http://www.w3.org/2000/svg\" height=\"24px\"viewBox=\"0 0 24 24\"\n",
              "       width=\"24px\">\n",
              "    <path d=\"M0 0h24v24H0V0z\" fill=\"none\"/>\n",
              "    <path d=\"M18.56 5.44l.94 2.06.94-2.06 2.06-.94-2.06-.94-.94-2.06-.94 2.06-2.06.94zm-11 1L8.5 8.5l.94-2.06 2.06-.94-2.06-.94L8.5 2.5l-.94 2.06-2.06.94zm10 10l.94 2.06.94-2.06 2.06-.94-2.06-.94-.94-2.06-.94 2.06-2.06.94z\"/><path d=\"M17.41 7.96l-1.37-1.37c-.4-.4-.92-.59-1.43-.59-.52 0-1.04.2-1.43.59L10.3 9.45l-7.72 7.72c-.78.78-.78 2.05 0 2.83L4 21.41c.39.39.9.59 1.41.59.51 0 1.02-.2 1.41-.59l7.78-7.78 2.81-2.81c.8-.78.8-2.07 0-2.86zM5.41 20L4 18.59l7.72-7.72 1.47 1.35L5.41 20z\"/>\n",
              "  </svg>\n",
              "      </button>\n",
              "      \n",
              "  <style>\n",
              "    .colab-df-container {\n",
              "      display:flex;\n",
              "      flex-wrap:wrap;\n",
              "      gap: 12px;\n",
              "    }\n",
              "\n",
              "    .colab-df-convert {\n",
              "      background-color: #E8F0FE;\n",
              "      border: none;\n",
              "      border-radius: 50%;\n",
              "      cursor: pointer;\n",
              "      display: none;\n",
              "      fill: #1967D2;\n",
              "      height: 32px;\n",
              "      padding: 0 0 0 0;\n",
              "      width: 32px;\n",
              "    }\n",
              "\n",
              "    .colab-df-convert:hover {\n",
              "      background-color: #E2EBFA;\n",
              "      box-shadow: 0px 1px 2px rgba(60, 64, 67, 0.3), 0px 1px 3px 1px rgba(60, 64, 67, 0.15);\n",
              "      fill: #174EA6;\n",
              "    }\n",
              "\n",
              "    [theme=dark] .colab-df-convert {\n",
              "      background-color: #3B4455;\n",
              "      fill: #D2E3FC;\n",
              "    }\n",
              "\n",
              "    [theme=dark] .colab-df-convert:hover {\n",
              "      background-color: #434B5C;\n",
              "      box-shadow: 0px 1px 3px 1px rgba(0, 0, 0, 0.15);\n",
              "      filter: drop-shadow(0px 1px 2px rgba(0, 0, 0, 0.3));\n",
              "      fill: #FFFFFF;\n",
              "    }\n",
              "  </style>\n",
              "\n",
              "      <script>\n",
              "        const buttonEl =\n",
              "          document.querySelector('#df-e1ea67c1-698e-47db-99a0-96da9fd7251d button.colab-df-convert');\n",
              "        buttonEl.style.display =\n",
              "          google.colab.kernel.accessAllowed ? 'block' : 'none';\n",
              "\n",
              "        async function convertToInteractive(key) {\n",
              "          const element = document.querySelector('#df-e1ea67c1-698e-47db-99a0-96da9fd7251d');\n",
              "          const dataTable =\n",
              "            await google.colab.kernel.invokeFunction('convertToInteractive',\n",
              "                                                     [key], {});\n",
              "          if (!dataTable) return;\n",
              "\n",
              "          const docLinkHtml = 'Like what you see? Visit the ' +\n",
              "            '<a target=\"_blank\" href=https://colab.research.google.com/notebooks/data_table.ipynb>data table notebook</a>'\n",
              "            + ' to learn more about interactive tables.';\n",
              "          element.innerHTML = '';\n",
              "          dataTable['output_type'] = 'display_data';\n",
              "          await google.colab.output.renderOutput(dataTable, element);\n",
              "          const docLink = document.createElement('div');\n",
              "          docLink.innerHTML = docLinkHtml;\n",
              "          element.appendChild(docLink);\n",
              "        }\n",
              "      </script>\n",
              "    </div>\n",
              "  </div>\n",
              "  "
            ]
          },
          "metadata": {},
          "execution_count": 16
        }
      ],
      "source": [
        "stock.head()"
      ]
    },
    {
      "cell_type": "markdown",
      "metadata": {
        "id": "5FBTlube0l4d"
      },
      "source": [
        "## 시각화"
      ]
    },
    {
      "cell_type": "code",
      "execution_count": 17,
      "metadata": {
        "colab": {
          "base_uri": "https://localhost:8080/",
          "height": 569
        },
        "id": "MWcaWEa80l4o",
        "outputId": "8c48604d-8872-4849-f205-fad28e8cb243"
      },
      "outputs": [
        {
          "output_type": "execute_result",
          "data": {
            "text/plain": [
              "Text(0, 0.5, 'price')"
            ]
          },
          "metadata": {},
          "execution_count": 17
        },
        {
          "output_type": "display_data",
          "data": {
            "text/plain": [
              "<Figure size 1152x648 with 1 Axes>"
            ],
            "image/png": "[encoded data removed]"
          },
          "metadata": {
            "needs_background": "light"
          }
        }
      ],
      "source": [
        "plt.figure(figsize=(16, 9))\n",
        "sns.lineplot(y=stock['End'], x=stock.index)\n",
        "plt.xlabel('time')\n",
        "plt.ylabel('price')"
      ]
    },
    {
      "cell_type": "code",
      "execution_count": 19,
      "metadata": {
        "id": "tFjO0w-olSVP",
        "outputId": "9912d532-bf7b-4cb3-9e1a-f79badbc55df",
        "colab": {
          "base_uri": "https://localhost:8080/",
          "height": 657
        }
      },
      "outputs": [
        {
          "output_type": "display_data",
          "data": {
            "text/plain": [
              "<Figure size 1152x648 with 4 Axes>"
            ],
            "image/png": "[encoded data removed]"
          },
          "metadata": {
            "needs_background": "light"
          }
        }
      ],
      "source": [
        "time_steps = [['1981', '1990'],\n",
        "              ['1990', '2000'], \n",
        "              ['2000', '2010'], \n",
        "              ['2010', '2015'], \n",
        "              ['2015', '2020']]\n",
        "\n",
        "fig, axes = plt.subplots(2, 2)\n",
        "fig.set_size_inches(16, 9)\n",
        "for i in range(4):\n",
        "    ax = axes[i//2, i%2]\n",
        "    df = stock.loc[(stock.index > time_steps[i][0]) & (stock.index < time_steps[i][1])]\n",
        "    sns.lineplot(y=df['End'], x=df.index, ax=ax)\n",
        "    ax.set_title(f'{time_steps[i][0]}~{time_steps[i][1]}')\n",
        "    ax.set_xlabel('time')\n",
        "    ax.set_ylabel('price')\n",
        "plt.tight_layout()\n",
        "plt.show()"
      ]
    },
    {
      "cell_type": "markdown",
      "metadata": {
        "id": "7eyi9Ac-lSVQ"
      },
      "source": [
        "## 데이터 전처리"
      ]
    },
    {
      "cell_type": "markdown",
      "metadata": {
        "id": "qcELZW_zlSVQ"
      },
      "source": [
        "주가 데이터에 대하여 딥러닝 모델이 더 잘 학습할 수 있도록 **정규화(Normalization)**를 해주도록 하겠습니다.\n",
        "\n",
        "**표준화 (Standardization)**와 **정규화(Normalization)**에 대한 내용은 아래 링크에서 더 자세히 다루니, 참고해 보시기 바랍니다.\n",
        "\n",
        "- [데이터 전처리에 관하여](https://teddylee777.github.io/scikit-learn/scikit-learn-preprocessing)"
      ]
    },
    {
      "cell_type": "code",
      "execution_count": null,
      "metadata": {
        "colab": {
          "base_uri": "https://localhost:8080/"
        },
        "id": "4-4PgRMZ0l5Q",
        "outputId": "ea1d9461-0fc2-498e-9692-51b5cd0c2d20"
      },
      "outputs": [
        {
          "output_type": "execute_result",
          "data": {
            "text/plain": [
              "array([[0.2883355 , 0.28548113, 0.28754902, 0.28543389, 0.01791633],\n",
              "       [0.28536628, 0.28781265, 0.28758798, 0.28928172, 0.02394197],\n",
              "       [0.28957954, 0.28795945, 0.28706854, 0.28494213, 0.02206789],\n",
              "       ...,\n",
              "       [0.84052883, 0.83545544, 0.82843328, 0.83269275, 0.24833216],\n",
              "       [0.84097963, 0.83639669, 0.82649404, 0.8262912 , 0.29808366],\n",
              "       [0.8158821 , 0.81750709, 0.81504904, 0.81220262, 0.26695115]])"
            ]
          },
          "metadata": {},
          "execution_count": 16
        }
      ],
      "source": [
        "from sklearn.preprocessing import MinMaxScaler\n",
        "\n",
        "scaler = MinMaxScaler()\n",
        "# 스케일을 적용할 column을 정의합니다.\n",
        "scale_cols = [ 'Open', 'High', 'Low','End', 'Amount']\n",
        "# 스케일 후 columns\n",
        "scaled = scaler.fit_transform(stock[scale_cols])\n",
        "scaled"
      ]
    },
    {
      "cell_type": "markdown",
      "metadata": {
        "id": "6kC8exjblSVR"
      },
      "source": [
        "스케일이 완료된 column으로 새로운 데이터프레임을 생성합니다.\n",
        "\n",
        "**시간 순으로 정렬**되어 있으며, datetime index는 제외했습니다.\n",
        "\n",
        "*6,000개의 row, 5개 column*으로 이루어진 데이터셋이 DataFrame으로 정리되었습니다."
      ]
    },
    {
      "cell_type": "code",
      "execution_count": null,
      "metadata": {
        "id": "dIJjE21B0l5m"
      },
      "outputs": [],
      "source": [
        "df = pd.DataFrame(scaled, columns=scale_cols)"
      ]
    },
    {
      "cell_type": "markdown",
      "metadata": {
        "id": "cYrRV9NllSVR"
      },
      "source": [
        "## train / test 분할"
      ]
    },
    {
      "cell_type": "code",
      "execution_count": null,
      "metadata": {
        "id": "UD0IsqGhlSVS"
      },
      "outputs": [],
      "source": [
        "from sklearn.model_selection import train_test_split"
      ]
    },
    {
      "cell_type": "code",
      "execution_count": null,
      "metadata": {
        "id": "o2-nEkUllSVS"
      },
      "outputs": [],
      "source": [
        "x_train, x_test, y_train, y_test = train_test_split(df.drop('End', 1), df['End'], test_size=0.2, random_state=0, shuffle=False)"
      ]
    },
    {
      "cell_type": "code",
      "execution_count": null,
      "metadata": {
        "id": "bMCRQyhblSVS",
        "outputId": "c189d563-e488-4a86-ae3d-f9c6837cd870",
        "colab": {
          "base_uri": "https://localhost:8080/"
        }
      },
      "outputs": [
        {
          "output_type": "execute_result",
          "data": {
            "text/plain": [
              "((4799, 4), (4799,))"
            ]
          },
          "metadata": {},
          "execution_count": 20
        }
      ],
      "source": [
        "x_train.shape, y_train.shape"
      ]
    },
    {
      "cell_type": "code",
      "execution_count": null,
      "metadata": {
        "id": "WNV__wI2lSVS",
        "outputId": "f371bb71-accb-4499-ec57-1808dd16056a",
        "colab": {
          "base_uri": "https://localhost:8080/"
        }
      },
      "outputs": [
        {
          "output_type": "execute_result",
          "data": {
            "text/plain": [
              "((1200, 4), (1200,))"
            ]
          },
          "metadata": {},
          "execution_count": 21
        }
      ],
      "source": [
        "x_test.shape, y_test.shape"
      ]
    },
    {
      "cell_type": "code",
      "execution_count": null,
      "metadata": {
        "id": "6f23ztGolSVT",
        "outputId": "f76fad44-cc74-4cb5-d542-dabcb2274fb7",
        "colab": {
          "base_uri": "https://localhost:8080/",
          "height": 423
        }
      },
      "outputs": [
        {
          "output_type": "execute_result",
          "data": {
            "text/plain": [
              "          Open      High       Low    Amount\n",
              "0     0.288336  0.285481  0.287549  0.017916\n",
              "1     0.285366  0.287813  0.287588  0.023942\n",
              "2     0.289580  0.287959  0.287069  0.022068\n",
              "3     0.284824  0.287398  0.284463  0.019358\n",
              "4     0.292219  0.296374  0.294432  0.023950\n",
              "...        ...       ...       ...       ...\n",
              "4794  0.755674  0.749643  0.752976  0.188580\n",
              "4795  0.755609  0.752242  0.753513  0.184630\n",
              "4796  0.762419  0.758127  0.759625  0.233529\n",
              "4797  0.759423  0.754733  0.756335  0.228011\n",
              "4798  0.760074  0.755342  0.757885  0.275519\n",
              "\n",
              "[4799 rows x 4 columns]"
            ],
            "text/html": [
              "\n",
              "  <div id=\"df-1c122094-4379-4e9e-a942-52a7e6bd5d1e\">\n",
              "    <div class=\"colab-df-container\">\n",
              "      <div>\n",
              "<style scoped>\n",
              "    .dataframe tbody tr th:only-of-type {\n",
              "        vertical-align: middle;\n",
              "    }\n",
              "\n",
              "    .dataframe tbody tr th {\n",
              "        vertical-align: top;\n",
              "    }\n",
              "\n",
              "    .dataframe thead th {\n",
              "        text-align: right;\n",
              "    }\n",
              "</style>\n",
              "<table border=\"1\" class=\"dataframe\">\n",
              "  <thead>\n",
              "    <tr style=\"text-align: right;\">\n",
              "      <th></th>\n",
              "      <th>Open</th>\n",
              "      <th>High</th>\n",
              "      <th>Low</th>\n",
              "      <th>Amount</th>\n",
              "    </tr>\n",
              "  </thead>\n",
              "  <tbody>\n",
              "    <tr>\n",
              "      <th>0</th>\n",
              "      <td>0.288336</td>\n",
              "      <td>0.285481</td>\n",
              "      <td>0.287549</td>\n",
              "      <td>0.017916</td>\n",
              "    </tr>\n",
              "    <tr>\n",
              "      <th>1</th>\n",
              "      <td>0.285366</td>\n",
              "      <td>0.287813</td>\n",
              "      <td>0.287588</td>\n",
              "      <td>0.023942</td>\n",
              "    </tr>\n",
              "    <tr>\n",
              "      <th>2</th>\n",
              "      <td>0.289580</td>\n",
              "      <td>0.287959</td>\n",
              "      <td>0.287069</td>\n",
              "      <td>0.022068</td>\n",
              "    </tr>\n",
              "    <tr>\n",
              "      <th>3</th>\n",
              "      <td>0.284824</td>\n",
              "      <td>0.287398</td>\n",
              "      <td>0.284463</td>\n",
              "      <td>0.019358</td>\n",
              "    </tr>\n",
              "    <tr>\n",
              "      <th>4</th>\n",
              "      <td>0.292219</td>\n",
              "      <td>0.296374</td>\n",
              "      <td>0.294432</td>\n",
              "      <td>0.023950</td>\n",
              "    </tr>\n",
              "    <tr>\n",
              "      <th>...</th>\n",
              "      <td>...</td>\n",
              "      <td>...</td>\n",
              "      <td>...</td>\n",
              "      <td>...</td>\n",
              "    </tr>\n",
              "    <tr>\n",
              "      <th>4794</th>\n",
              "      <td>0.755674</td>\n",
              "      <td>0.749643</td>\n",
              "      <td>0.752976</td>\n",
              "      <td>0.188580</td>\n",
              "    </tr>\n",
              "    <tr>\n",
              "      <th>4795</th>\n",
              "      <td>0.755609</td>\n",
              "      <td>0.752242</td>\n",
              "      <td>0.753513</td>\n",
              "      <td>0.184630</td>\n",
              "    </tr>\n",
              "    <tr>\n",
              "      <th>4796</th>\n",
              "      <td>0.762419</td>\n",
              "      <td>0.758127</td>\n",
              "      <td>0.759625</td>\n",
              "      <td>0.233529</td>\n",
              "    </tr>\n",
              "    <tr>\n",
              "      <th>4797</th>\n",
              "      <td>0.759423</td>\n",
              "      <td>0.754733</td>\n",
              "      <td>0.756335</td>\n",
              "      <td>0.228011</td>\n",
              "    </tr>\n",
              "    <tr>\n",
              "      <th>4798</th>\n",
              "      <td>0.760074</td>\n",
              "      <td>0.755342</td>\n",
              "      <td>0.757885</td>\n",
              "      <td>0.275519</td>\n",
              "    </tr>\n",
              "  </tbody>\n",
              "</table>\n",
              "<p>4799 rows × 4 columns</p>\n",
              "</div>\n",
              "      <button class=\"colab-df-convert\" onclick=\"convertToInteractive('df-1c122094-4379-4e9e-a942-52a7e6bd5d1e')\"\n",
              "              title=\"Convert this dataframe to an interactive table.\"\n",
              "              style=\"display:none;\">\n",
              "        \n",
              "  <svg xmlns=\"http://www.w3.org/2000/svg\" height=\"24px\"viewBox=\"0 0 24 24\"\n",
              "       width=\"24px\">\n",
              "    <path d=\"M0 0h24v24H0V0z\" fill=\"none\"/>\n",
              "    <path d=\"M18.56 5.44l.94 2.06.94-2.06 2.06-.94-2.06-.94-.94-2.06-.94 2.06-2.06.94zm-11 1L8.5 8.5l.94-2.06 2.06-.94-2.06-.94L8.5 2.5l-.94 2.06-2.06.94zm10 10l.94 2.06.94-2.06 2.06-.94-2.06-.94-.94-2.06-.94 2.06-2.06.94z\"/><path d=\"M17.41 7.96l-1.37-1.37c-.4-.4-.92-.59-1.43-.59-.52 0-1.04.2-1.43.59L10.3 9.45l-7.72 7.72c-.78.78-.78 2.05 0 2.83L4 21.41c.39.39.9.59 1.41.59.51 0 1.02-.2 1.41-.59l7.78-7.78 2.81-2.81c.8-.78.8-2.07 0-2.86zM5.41 20L4 18.59l7.72-7.72 1.47 1.35L5.41 20z\"/>\n",
              "  </svg>\n",
              "      </button>\n",
              "      \n",
              "  <style>\n",
              "    .colab-df-container {\n",
              "      display:flex;\n",
              "      flex-wrap:wrap;\n",
              "      gap: 12px;\n",
              "    }\n",
              "\n",
              "    .colab-df-convert {\n",
              "      background-color: #E8F0FE;\n",
              "      border: none;\n",
              "      border-radius: 50%;\n",
              "      cursor: pointer;\n",
              "      display: none;\n",
              "      fill: #1967D2;\n",
              "      height: 32px;\n",
              "      padding: 0 0 0 0;\n",
              "      width: 32px;\n",
              "    }\n",
              "\n",
              "    .colab-df-convert:hover {\n",
              "      background-color: #E2EBFA;\n",
              "      box-shadow: 0px 1px 2px rgba(60, 64, 67, 0.3), 0px 1px 3px 1px rgba(60, 64, 67, 0.15);\n",
              "      fill: #174EA6;\n",
              "    }\n",
              "\n",
              "    [theme=dark] .colab-df-convert {\n",
              "      background-color: #3B4455;\n",
              "      fill: #D2E3FC;\n",
              "    }\n",
              "\n",
              "    [theme=dark] .colab-df-convert:hover {\n",
              "      background-color: #434B5C;\n",
              "      box-shadow: 0px 1px 3px 1px rgba(0, 0, 0, 0.15);\n",
              "      filter: drop-shadow(0px 1px 2px rgba(0, 0, 0, 0.3));\n",
              "      fill: #FFFFFF;\n",
              "    }\n",
              "  </style>\n",
              "\n",
              "      <script>\n",
              "        const buttonEl =\n",
              "          document.querySelector('#df-1c122094-4379-4e9e-a942-52a7e6bd5d1e button.colab-df-convert');\n",
              "        buttonEl.style.display =\n",
              "          google.colab.kernel.accessAllowed ? 'block' : 'none';\n",
              "\n",
              "        async function convertToInteractive(key) {\n",
              "          const element = document.querySelector('#df-1c122094-4379-4e9e-a942-52a7e6bd5d1e');\n",
              "          const dataTable =\n",
              "            await google.colab.kernel.invokeFunction('convertToInteractive',\n",
              "                                                     [key], {});\n",
              "          if (!dataTable) return;\n",
              "\n",
              "          const docLinkHtml = 'Like what you see? Visit the ' +\n",
              "            '<a target=\"_blank\" href=https://colab.research.google.com/notebooks/data_table.ipynb>data table notebook</a>'\n",
              "            + ' to learn more about interactive tables.';\n",
              "          element.innerHTML = '';\n",
              "          dataTable['output_type'] = 'display_data';\n",
              "          await google.colab.output.renderOutput(dataTable, element);\n",
              "          const docLink = document.createElement('div');\n",
              "          docLink.innerHTML = docLinkHtml;\n",
              "          element.appendChild(docLink);\n",
              "        }\n",
              "      </script>\n",
              "    </div>\n",
              "  </div>\n",
              "  "
            ]
          },
          "metadata": {},
          "execution_count": 48
        }
      ],
      "source": [
        "x_train"
      ]
    },
    {
      "cell_type": "markdown",
      "metadata": {
        "id": "CX9xZvlFlSVT"
      },
      "source": [
        "## TensroFlow Dataset을 활용한 시퀀스 데이터셋 구성\n",
        "\n",
        "\n",
        "\n",
        "\n",
        "\n",
        "\n"
      ]
    },
    {
      "cell_type": "code",
      "execution_count": null,
      "metadata": {
        "id": "PaifRwSalSVT"
      },
      "outputs": [],
      "source": [
        "import tensorflow as tf"
      ]
    },
    {
      "cell_type": "code",
      "execution_count": null,
      "metadata": {
        "id": "5gdplEcOlSVT"
      },
      "outputs": [],
      "source": [
        "def windowed_dataset(series, window_size, batch_size, shuffle):\n",
        "    series = tf.expand_dims(series, axis=-1)\n",
        "    ds = tf.data.Dataset.from_tensor_slices(series)\n",
        "    ds = ds.window(window_size + 1, shift=1, drop_remainder=True)\n",
        "    ds = ds.flat_map(lambda w: w.batch(window_size + 1))\n",
        "    if shuffle:\n",
        "        ds = ds.shuffle(1000)\n",
        "    ds = ds.map(lambda w: (w[:-1], w[-1]))\n",
        "    return ds.batch(batch_size).prefetch(1)"
      ]
    },
    {
      "cell_type": "markdown",
      "metadata": {
        "id": "5uGExHnMlSVT"
      },
      "source": [
        "Hyperparameter를 정의"
      ]
    },
    {
      "cell_type": "code",
      "execution_count": null,
      "metadata": {
        "id": "e3xKeN1glSVU"
      },
      "outputs": [],
      "source": [
        "WINDOW_SIZE=20\n",
        "BATCH_SIZE=32"
      ]
    },
    {
      "cell_type": "code",
      "execution_count": null,
      "metadata": {
        "id": "jcNfWatOlSVU"
      },
      "outputs": [],
      "source": [
        "# trian_data는 학습용, test_data는 검증용\n",
        "train_data = windowed_dataset(y_train, WINDOW_SIZE, BATCH_SIZE, True)\n",
        "test_data = windowed_dataset(y_test, WINDOW_SIZE, BATCH_SIZE, False)"
      ]
    },
    {
      "cell_type": "code",
      "execution_count": null,
      "metadata": {
        "id": "xOg3dQi6lSVU",
        "outputId": "9f8a41dd-e79d-4894-af9c-cf4dbe520b41",
        "colab": {
          "base_uri": "https://localhost:8080/"
        }
      },
      "outputs": [
        {
          "output_type": "stream",
          "name": "stdout",
          "text": [
            "데이터셋(X) 구성(batch_size, window_size, feature갯수): (32, 20, 1)\n",
            "데이터셋(Y) 구성(batch_size, window_size, feature갯수): (32, 1)\n"
          ]
        }
      ],
      "source": [
        "# 아래의 코드로 데이터셋의 구성을 확인\n",
        "# X: (batch_size, window_size, feature)\n",
        "# Y: (batch_size, feature)\n",
        "for data in train_data.take(1):\n",
        "    print(f'데이터셋(X) 구성(batch_size, window_size, feature갯수): {data[0].shape}')\n",
        "    print(f'데이터셋(Y) 구성(batch_size, window_size, feature갯수): {data[1].shape}')"
      ]
    },
    {
      "cell_type": "markdown",
      "metadata": {
        "id": "1WhLw0ZglSVV"
      },
      "source": [
        "## 모델"
      ]
    },
    {
      "cell_type": "code",
      "execution_count": null,
      "metadata": {
        "id": "mAkmGu1j0l8M"
      },
      "outputs": [],
      "source": [
        "model = Sequential([\n",
        "    # 1차원 feature map 생성\n",
        "    Conv1D(filters=32, kernel_size=5,\n",
        "           padding=\"causal\",\n",
        "           activation=\"relu\",\n",
        "           input_shape=[WINDOW_SIZE, 1]),\n",
        "    # LSTM\n",
        "    LSTM(16, activation='tanh'),\n",
        "    Dense(16, activation=\"relu\"),\n",
        "    Dense(1),\n",
        "])"
      ]
    },
    {
      "cell_type": "code",
      "execution_count": null,
      "metadata": {
        "id": "xShll_EX0l8T"
      },
      "outputs": [],
      "source": [
        "# Sequence 학습에 비교적 좋은 퍼포먼스를 내는 Huber()를 사용합니다.\n",
        "loss = Huber()\n",
        "optimizer = Adam(0.0005)\n",
        "model.compile(loss=Huber(), optimizer=optimizer, metrics=['mae'])"
      ]
    },
    {
      "cell_type": "code",
      "execution_count": null,
      "metadata": {
        "id": "JnI7SwT-lSVW"
      },
      "outputs": [],
      "source": [
        "# earlystopping은 10번 epoch통안 val_loss 개선이 없다면 학습을 멈춥니다.\n",
        "earlystopping = EarlyStopping(monitor='val_loss', patience=10)\n",
        "# val_loss 기준 체크포인터도 생성합니다.\n",
        "filename = os.path.join('tmp', 'ckeckpointer.ckpt')\n",
        "checkpoint = ModelCheckpoint(filename, \n",
        "                             save_weights_only=True, \n",
        "                             save_best_only=True, \n",
        "                             monitor='val_loss', \n",
        "                             verbose=1)"
      ]
    },
    {
      "cell_type": "code",
      "execution_count": null,
      "metadata": {
        "colab": {
          "base_uri": "https://localhost:8080/"
        },
        "outputId": "b1215dbb-e482-4bc2-9d72-4f895868ebae",
        "id": "NTPS12_TlSVW"
      },
      "outputs": [
        {
          "output_type": "stream",
          "name": "stdout",
          "text": [
            "Epoch 1/50\n",
            "    150/Unknown - 11s 5ms/step - loss: 0.0015 - mse: 0.0031\n",
            "Epoch 1: val_loss improved from inf to 0.00028, saving model to tmp/ckeckpointer.ckpt\n",
            "150/150 [==============================] - 12s 15ms/step - loss: 0.0015 - mse: 0.0031 - val_loss: 2.8275e-04 - val_mse: 5.6550e-04\n",
            "Epoch 2/50\n",
            "143/150 [===========================>..] - ETA: 0s - loss: 1.2651e-04 - mse: 2.5301e-04\n",
            "Epoch 2: val_loss improved from 0.00028 to 0.00016, saving model to tmp/ckeckpointer.ckpt\n",
            "150/150 [==============================] - 1s 7ms/step - loss: 1.2522e-04 - mse: 2.5044e-04 - val_loss: 1.6216e-04 - val_mse: 3.2433e-04\n",
            "Epoch 3/50\n",
            "150/150 [==============================] - ETA: 0s - loss: 1.1717e-04 - mse: 2.3434e-04\n",
            "Epoch 3: val_loss did not improve from 0.00016\n",
            "150/150 [==============================] - 1s 6ms/step - loss: 1.1717e-04 - mse: 2.3434e-04 - val_loss: 1.7388e-04 - val_mse: 3.4776e-04\n",
            "Epoch 4/50\n",
            "141/150 [===========================>..] - ETA: 0s - loss: 1.1160e-04 - mse: 2.2320e-04\n",
            "Epoch 4: val_loss improved from 0.00016 to 0.00013, saving model to tmp/ckeckpointer.ckpt\n",
            "150/150 [==============================] - 1s 6ms/step - loss: 1.1180e-04 - mse: 2.2360e-04 - val_loss: 1.2968e-04 - val_mse: 2.5936e-04\n",
            "Epoch 5/50\n",
            "144/150 [===========================>..] - ETA: 0s - loss: 1.0254e-04 - mse: 2.0508e-04\n",
            "Epoch 5: val_loss did not improve from 0.00013\n",
            "150/150 [==============================] - 1s 6ms/step - loss: 1.0506e-04 - mse: 2.1013e-04 - val_loss: 1.6043e-04 - val_mse: 3.2085e-04\n",
            "Epoch 6/50\n",
            "147/150 [============================>.] - ETA: 0s - loss: 9.8059e-05 - mse: 1.9612e-04\n",
            "Epoch 6: val_loss did not improve from 0.00013\n",
            "150/150 [==============================] - 1s 6ms/step - loss: 9.9276e-05 - mse: 1.9855e-04 - val_loss: 1.4137e-04 - val_mse: 2.8273e-04\n",
            "Epoch 7/50\n",
            "140/150 [===========================>..] - ETA: 0s - loss: 9.5719e-05 - mse: 1.9144e-04\n",
            "Epoch 7: val_loss did not improve from 0.00013\n",
            "150/150 [==============================] - 1s 6ms/step - loss: 9.7419e-05 - mse: 1.9484e-04 - val_loss: 2.4697e-04 - val_mse: 4.9395e-04\n",
            "Epoch 8/50\n",
            "142/150 [===========================>..] - ETA: 0s - loss: 9.2105e-05 - mse: 1.8421e-04\n",
            "Epoch 8: val_loss improved from 0.00013 to 0.00011, saving model to tmp/ckeckpointer.ckpt\n",
            "150/150 [==============================] - 1s 6ms/step - loss: 9.2416e-05 - mse: 1.8483e-04 - val_loss: 1.1101e-04 - val_mse: 2.2202e-04\n",
            "Epoch 9/50\n",
            "139/150 [==========================>...] - ETA: 0s - loss: 9.2808e-05 - mse: 1.8562e-04\n",
            "Epoch 9: val_loss improved from 0.00011 to 0.00011, saving model to tmp/ckeckpointer.ckpt\n",
            "150/150 [==============================] - 1s 6ms/step - loss: 9.4007e-05 - mse: 1.8801e-04 - val_loss: 1.0690e-04 - val_mse: 2.1380e-04\n",
            "Epoch 10/50\n",
            "147/150 [============================>.] - ETA: 0s - loss: 8.2008e-05 - mse: 1.6402e-04\n",
            "Epoch 10: val_loss did not improve from 0.00011\n",
            "150/150 [==============================] - 1s 6ms/step - loss: 8.1680e-05 - mse: 1.6336e-04 - val_loss: 1.4422e-04 - val_mse: 2.8843e-04\n",
            "Epoch 11/50\n",
            "142/150 [===========================>..] - ETA: 0s - loss: 8.4964e-05 - mse: 1.6993e-04\n",
            "Epoch 11: val_loss improved from 0.00011 to 0.00011, saving model to tmp/ckeckpointer.ckpt\n",
            "150/150 [==============================] - 1s 7ms/step - loss: 8.7155e-05 - mse: 1.7431e-04 - val_loss: 1.0588e-04 - val_mse: 2.1175e-04\n",
            "Epoch 12/50\n",
            "144/150 [===========================>..] - ETA: 0s - loss: 8.0674e-05 - mse: 1.6135e-04\n",
            "Epoch 12: val_loss improved from 0.00011 to 0.00009, saving model to tmp/ckeckpointer.ckpt\n",
            "150/150 [==============================] - 1s 6ms/step - loss: 8.2128e-05 - mse: 1.6426e-04 - val_loss: 8.6449e-05 - val_mse: 1.7290e-04\n",
            "Epoch 13/50\n",
            "148/150 [============================>.] - ETA: 0s - loss: 7.5872e-05 - mse: 1.5174e-04\n",
            "Epoch 13: val_loss did not improve from 0.00009\n",
            "150/150 [==============================] - 1s 6ms/step - loss: 7.5732e-05 - mse: 1.5146e-04 - val_loss: 9.3057e-05 - val_mse: 1.8611e-04\n",
            "Epoch 14/50\n",
            "142/150 [===========================>..] - ETA: 0s - loss: 7.0100e-05 - mse: 1.4020e-04\n",
            "Epoch 14: val_loss did not improve from 0.00009\n",
            "150/150 [==============================] - 1s 6ms/step - loss: 6.9136e-05 - mse: 1.3827e-04 - val_loss: 9.4932e-05 - val_mse: 1.8986e-04\n",
            "Epoch 15/50\n",
            "150/150 [==============================] - ETA: 0s - loss: 6.7314e-05 - mse: 1.3463e-04\n",
            "Epoch 15: val_loss did not improve from 0.00009\n",
            "150/150 [==============================] - 1s 6ms/step - loss: 6.7314e-05 - mse: 1.3463e-04 - val_loss: 1.5715e-04 - val_mse: 3.1431e-04\n",
            "Epoch 16/50\n",
            "140/150 [===========================>..] - ETA: 0s - loss: 6.6057e-05 - mse: 1.3211e-04\n",
            "Epoch 16: val_loss did not improve from 0.00009\n",
            "150/150 [==============================] - 1s 6ms/step - loss: 6.8710e-05 - mse: 1.3742e-04 - val_loss: 1.5610e-04 - val_mse: 3.1220e-04\n",
            "Epoch 17/50\n",
            "144/150 [===========================>..] - ETA: 0s - loss: 6.2444e-05 - mse: 1.2489e-04\n",
            "Epoch 17: val_loss did not improve from 0.00009\n",
            "150/150 [==============================] - 1s 8ms/step - loss: 6.3930e-05 - mse: 1.2786e-04 - val_loss: 9.4685e-05 - val_mse: 1.8937e-04\n",
            "Epoch 18/50\n",
            "149/150 [============================>.] - ETA: 0s - loss: 6.7049e-05 - mse: 1.3410e-04\n",
            "Epoch 18: val_loss did not improve from 0.00009\n",
            "150/150 [==============================] - 1s 7ms/step - loss: 6.6986e-05 - mse: 1.3397e-04 - val_loss: 1.1964e-04 - val_mse: 2.3928e-04\n",
            "Epoch 19/50\n",
            "149/150 [============================>.] - ETA: 0s - loss: 5.5697e-05 - mse: 1.1139e-04\n",
            "Epoch 19: val_loss improved from 0.00009 to 0.00008, saving model to tmp/ckeckpointer.ckpt\n",
            "150/150 [==============================] - 1s 8ms/step - loss: 5.5649e-05 - mse: 1.1130e-04 - val_loss: 7.7093e-05 - val_mse: 1.5419e-04\n",
            "Epoch 20/50\n",
            "139/150 [==========================>...] - ETA: 0s - loss: 5.4305e-05 - mse: 1.0861e-04\n",
            "Epoch 20: val_loss improved from 0.00008 to 0.00007, saving model to tmp/ckeckpointer.ckpt\n",
            "150/150 [==============================] - 1s 6ms/step - loss: 5.4635e-05 - mse: 1.0927e-04 - val_loss: 7.1529e-05 - val_mse: 1.4306e-04\n",
            "Epoch 21/50\n",
            "139/150 [==========================>...] - ETA: 0s - loss: 5.6223e-05 - mse: 1.1245e-04\n",
            "Epoch 21: val_loss improved from 0.00007 to 0.00007, saving model to tmp/ckeckpointer.ckpt\n",
            "150/150 [==============================] - 1s 6ms/step - loss: 5.6768e-05 - mse: 1.1354e-04 - val_loss: 6.5986e-05 - val_mse: 1.3197e-04\n",
            "Epoch 22/50\n",
            "144/150 [===========================>..] - ETA: 0s - loss: 5.3306e-05 - mse: 1.0661e-04\n",
            "Epoch 22: val_loss did not improve from 0.00007\n",
            "150/150 [==============================] - 1s 6ms/step - loss: 5.3337e-05 - mse: 1.0667e-04 - val_loss: 6.7998e-05 - val_mse: 1.3600e-04\n",
            "Epoch 23/50\n",
            "146/150 [============================>.] - ETA: 0s - loss: 4.9977e-05 - mse: 9.9955e-05\n",
            "Epoch 23: val_loss did not improve from 0.00007\n",
            "150/150 [==============================] - 1s 6ms/step - loss: 5.0636e-05 - mse: 1.0127e-04 - val_loss: 6.8031e-05 - val_mse: 1.3606e-04\n",
            "Epoch 24/50\n",
            "146/150 [============================>.] - ETA: 0s - loss: 4.9099e-05 - mse: 9.8198e-05\n",
            "Epoch 24: val_loss improved from 0.00007 to 0.00006, saving model to tmp/ckeckpointer.ckpt\n",
            "150/150 [==============================] - 1s 6ms/step - loss: 4.9090e-05 - mse: 9.8181e-05 - val_loss: 6.0542e-05 - val_mse: 1.2108e-04\n",
            "Epoch 25/50\n",
            "141/150 [===========================>..] - ETA: 0s - loss: 5.0138e-05 - mse: 1.0028e-04\n",
            "Epoch 25: val_loss did not improve from 0.00006\n",
            "150/150 [==============================] - 1s 6ms/step - loss: 5.0578e-05 - mse: 1.0116e-04 - val_loss: 1.4327e-04 - val_mse: 2.8654e-04\n",
            "Epoch 26/50\n",
            "142/150 [===========================>..] - ETA: 0s - loss: 4.9844e-05 - mse: 9.9689e-05\n",
            "Epoch 26: val_loss did not improve from 0.00006\n",
            "150/150 [==============================] - 1s 6ms/step - loss: 4.9525e-05 - mse: 9.9049e-05 - val_loss: 1.9405e-04 - val_mse: 3.8810e-04\n",
            "Epoch 27/50\n",
            "147/150 [============================>.] - ETA: 0s - loss: 4.6201e-05 - mse: 9.2402e-05\n",
            "Epoch 27: val_loss improved from 0.00006 to 0.00005, saving model to tmp/ckeckpointer.ckpt\n",
            "150/150 [==============================] - 1s 6ms/step - loss: 4.6333e-05 - mse: 9.2666e-05 - val_loss: 4.7236e-05 - val_mse: 9.4472e-05\n",
            "Epoch 28/50\n",
            "148/150 [============================>.] - ETA: 0s - loss: 5.2905e-05 - mse: 1.0581e-04\n",
            "Epoch 28: val_loss did not improve from 0.00005\n",
            "150/150 [==============================] - 1s 6ms/step - loss: 5.2672e-05 - mse: 1.0534e-04 - val_loss: 7.2804e-05 - val_mse: 1.4561e-04\n",
            "Epoch 29/50\n",
            "142/150 [===========================>..] - ETA: 0s - loss: 4.6829e-05 - mse: 9.3658e-05\n",
            "Epoch 29: val_loss did not improve from 0.00005\n",
            "150/150 [==============================] - 1s 6ms/step - loss: 4.6319e-05 - mse: 9.2638e-05 - val_loss: 5.3160e-05 - val_mse: 1.0632e-04\n",
            "Epoch 30/50\n",
            "149/150 [============================>.] - ETA: 0s - loss: 4.7215e-05 - mse: 9.4430e-05\n",
            "Epoch 30: val_loss did not improve from 0.00005\n",
            "150/150 [==============================] - 1s 6ms/step - loss: 4.7465e-05 - mse: 9.4931e-05 - val_loss: 7.7605e-05 - val_mse: 1.5521e-04\n",
            "Epoch 31/50\n",
            "142/150 [===========================>..] - ETA: 0s - loss: 4.4404e-05 - mse: 8.8808e-05\n",
            "Epoch 31: val_loss did not improve from 0.00005\n",
            "150/150 [==============================] - 1s 6ms/step - loss: 4.4531e-05 - mse: 8.9062e-05 - val_loss: 5.9732e-05 - val_mse: 1.1946e-04\n",
            "Epoch 32/50\n",
            "146/150 [============================>.] - ETA: 0s - loss: 4.4137e-05 - mse: 8.8273e-05\n",
            "Epoch 32: val_loss did not improve from 0.00005\n",
            "150/150 [==============================] - 1s 6ms/step - loss: 4.3803e-05 - mse: 8.7606e-05 - val_loss: 5.5706e-05 - val_mse: 1.1141e-04\n",
            "Epoch 33/50\n",
            "145/150 [============================>.] - ETA: 0s - loss: 4.1961e-05 - mse: 8.3922e-05\n",
            "Epoch 33: val_loss did not improve from 0.00005\n",
            "150/150 [==============================] - 1s 6ms/step - loss: 4.2537e-05 - mse: 8.5075e-05 - val_loss: 5.5914e-05 - val_mse: 1.1183e-04\n",
            "Epoch 34/50\n",
            "140/150 [===========================>..] - ETA: 0s - loss: 4.3364e-05 - mse: 8.6729e-05\n",
            "Epoch 34: val_loss did not improve from 0.00005\n",
            "150/150 [==============================] - 1s 6ms/step - loss: 4.3565e-05 - mse: 8.7129e-05 - val_loss: 7.3096e-05 - val_mse: 1.4619e-04\n",
            "Epoch 35/50\n",
            "140/150 [===========================>..] - ETA: 0s - loss: 4.2112e-05 - mse: 8.4225e-05\n",
            "Epoch 35: val_loss did not improve from 0.00005\n",
            "150/150 [==============================] - 1s 6ms/step - loss: 4.1926e-05 - mse: 8.3853e-05 - val_loss: 6.8790e-05 - val_mse: 1.3758e-04\n",
            "Epoch 36/50\n",
            "147/150 [============================>.] - ETA: 0s - loss: 4.1412e-05 - mse: 8.2824e-05\n",
            "Epoch 36: val_loss did not improve from 0.00005\n",
            "150/150 [==============================] - 1s 6ms/step - loss: 4.1393e-05 - mse: 8.2785e-05 - val_loss: 5.1219e-05 - val_mse: 1.0244e-04\n",
            "Epoch 37/50\n",
            "143/150 [===========================>..] - ETA: 0s - loss: 4.0601e-05 - mse: 8.1202e-05\n",
            "Epoch 37: val_loss did not improve from 0.00005\n",
            "150/150 [==============================] - 1s 6ms/step - loss: 4.1685e-05 - mse: 8.3370e-05 - val_loss: 1.0844e-04 - val_mse: 2.1687e-04\n"
          ]
        }
      ],
      "source": [
        "history = model.fit(train_data, \n",
        "                    validation_data=(test_data), \n",
        "                    epochs=50, \n",
        "                    callbacks=[checkpoint, earlystopping])"
      ]
    },
    {
      "cell_type": "markdown",
      "metadata": {
        "id": "UIkU_SkUlSVW"
      },
      "source": [
        "저장한 ModelCheckpoint 를 로드합니다."
      ]
    },
    {
      "cell_type": "code",
      "execution_count": null,
      "metadata": {
        "id": "RoPIDRSo32f-",
        "outputId": "e3f012ae-bbe5-4d55-efc5-e3bd798bd1b2",
        "colab": {
          "base_uri": "https://localhost:8080/"
        }
      },
      "outputs": [
        {
          "output_type": "execute_result",
          "data": {
            "text/plain": [
              "<tensorflow.python.training.tracking.util.CheckpointLoadStatus at 0x7f93d31c1390>"
            ]
          },
          "metadata": {},
          "execution_count": 98
        }
      ],
      "source": [
        "model.load_weights(filename)"
      ]
    },
    {
      "cell_type": "markdown",
      "metadata": {
        "id": "qeVGD2KwlSVX"
      },
      "source": [
        "`test_data`를 활용하여 예측을 진행합니다.\n",
        "\n",
        "\n"
      ]
    },
    {
      "cell_type": "code",
      "execution_count": null,
      "metadata": {
        "id": "WxAxSLNL0l8Z"
      },
      "outputs": [],
      "source": [
        "pred = model.predict(test_data)"
      ]
    },
    {
      "cell_type": "code",
      "execution_count": null,
      "metadata": {
        "colab": {
          "base_uri": "https://localhost:8080/"
        },
        "id": "yMPXjSQ10l8d",
        "outputId": "0928f945-3006-4c1b-cfb0-68972b7ac084"
      },
      "outputs": [
        {
          "output_type": "execute_result",
          "data": {
            "text/plain": [
              "(1180, 1)"
            ]
          },
          "metadata": {},
          "execution_count": 100
        }
      ],
      "source": [
        "pred.shape"
      ]
    },
    {
      "cell_type": "code",
      "source": [
        "from sklearn.metrics import mean_squared_error \n",
        "mean_squared_error(test_data, pred)"
      ],
      "metadata": {
        "colab": {
          "base_uri": "https://localhost:8080/",
          "height": 456
        },
        "id": "PlY836Pp4rm0",
        "outputId": "34ffce1e-ec36-48e5-f77b-6bc18d8370c1"
      },
      "execution_count": null,
      "outputs": [
        {
          "output_type": "error",
          "ename": "TypeError",
          "evalue": "ignored",
          "traceback": [
            "\u001b[0;31m---------------------------------------------------------------------------\u001b[0m",
            "\u001b[0;31mTypeError\u001b[0m                                 Traceback (most recent call last)",
            "\u001b[0;32m/usr/local/lib/python3.7/dist-packages/sklearn/utils/validation.py\u001b[0m in \u001b[0;36m_num_samples\u001b[0;34m(x)\u001b[0m\n\u001b[1;32m    277\u001b[0m     \u001b[0;32mtry\u001b[0m\u001b[0;34m:\u001b[0m\u001b[0;34m\u001b[0m\u001b[0;34m\u001b[0m\u001b[0m\n\u001b[0;32m--> 278\u001b[0;31m         \u001b[0;32mreturn\u001b[0m \u001b[0mlen\u001b[0m\u001b[0;34m(\u001b[0m\u001b[0mx\u001b[0m\u001b[0;34m)\u001b[0m\u001b[0;34m\u001b[0m\u001b[0;34m\u001b[0m\u001b[0m\n\u001b[0m\u001b[1;32m    279\u001b[0m     \u001b[0;32mexcept\u001b[0m \u001b[0mTypeError\u001b[0m \u001b[0;32mas\u001b[0m \u001b[0mtype_error\u001b[0m\u001b[0;34m:\u001b[0m\u001b[0;34m\u001b[0m\u001b[0;34m\u001b[0m\u001b[0m\n",
            "\u001b[0;32m/usr/local/lib/python3.7/dist-packages/tensorflow/python/data/ops/dataset_ops.py\u001b[0m in \u001b[0;36m__len__\u001b[0;34m(self)\u001b[0m\n\u001b[1;32m    517\u001b[0m     \u001b[0;32mif\u001b[0m \u001b[0mlength\u001b[0m\u001b[0;34m.\u001b[0m\u001b[0mnumpy\u001b[0m\u001b[0;34m(\u001b[0m\u001b[0;34m)\u001b[0m \u001b[0;34m==\u001b[0m \u001b[0mUNKNOWN\u001b[0m\u001b[0;34m:\u001b[0m\u001b[0;34m\u001b[0m\u001b[0;34m\u001b[0m\u001b[0m\n\u001b[0;32m--> 518\u001b[0;31m       \u001b[0;32mraise\u001b[0m \u001b[0mTypeError\u001b[0m\u001b[0;34m(\u001b[0m\u001b[0;34m\"The dataset length is unknown.\"\u001b[0m\u001b[0;34m)\u001b[0m\u001b[0;34m\u001b[0m\u001b[0;34m\u001b[0m\u001b[0m\n\u001b[0m\u001b[1;32m    519\u001b[0m     \u001b[0;32mreturn\u001b[0m \u001b[0mlength\u001b[0m\u001b[0;34m\u001b[0m\u001b[0;34m\u001b[0m\u001b[0m\n",
            "\u001b[0;31mTypeError\u001b[0m: The dataset length is unknown.",
            "\nThe above exception was the direct cause of the following exception:\n",
            "\u001b[0;31mTypeError\u001b[0m                                 Traceback (most recent call last)",
            "\u001b[0;32m<ipython-input-104-e27add05fd2d>\u001b[0m in \u001b[0;36m<module>\u001b[0;34m()\u001b[0m\n\u001b[1;32m      1\u001b[0m \u001b[0;32mfrom\u001b[0m \u001b[0msklearn\u001b[0m\u001b[0;34m.\u001b[0m\u001b[0mmetrics\u001b[0m \u001b[0;32mimport\u001b[0m \u001b[0mmean_squared_error\u001b[0m\u001b[0;34m\u001b[0m\u001b[0;34m\u001b[0m\u001b[0m\n\u001b[0;32m----> 2\u001b[0;31m \u001b[0mmean_squared_error\u001b[0m\u001b[0;34m(\u001b[0m\u001b[0mtest_data\u001b[0m\u001b[0;34m,\u001b[0m \u001b[0mpred\u001b[0m\u001b[0;34m)\u001b[0m\u001b[0;34m\u001b[0m\u001b[0;34m\u001b[0m\u001b[0m\n\u001b[0m",
            "\u001b[0;32m/usr/local/lib/python3.7/dist-packages/sklearn/metrics/_regression.py\u001b[0m in \u001b[0;36mmean_squared_error\u001b[0;34m(y_true, y_pred, sample_weight, multioutput, squared)\u001b[0m\n\u001b[1;32m    437\u001b[0m     \"\"\"\n\u001b[1;32m    438\u001b[0m     y_type, y_true, y_pred, multioutput = _check_reg_targets(\n\u001b[0;32m--> 439\u001b[0;31m         \u001b[0my_true\u001b[0m\u001b[0;34m,\u001b[0m \u001b[0my_pred\u001b[0m\u001b[0;34m,\u001b[0m \u001b[0mmultioutput\u001b[0m\u001b[0;34m\u001b[0m\u001b[0;34m\u001b[0m\u001b[0m\n\u001b[0m\u001b[1;32m    440\u001b[0m     )\n\u001b[1;32m    441\u001b[0m     \u001b[0mcheck_consistent_length\u001b[0m\u001b[0;34m(\u001b[0m\u001b[0my_true\u001b[0m\u001b[0;34m,\u001b[0m \u001b[0my_pred\u001b[0m\u001b[0;34m,\u001b[0m \u001b[0msample_weight\u001b[0m\u001b[0;34m)\u001b[0m\u001b[0;34m\u001b[0m\u001b[0;34m\u001b[0m\u001b[0m\n",
            "\u001b[0;32m/usr/local/lib/python3.7/dist-packages/sklearn/metrics/_regression.py\u001b[0m in \u001b[0;36m_check_reg_targets\u001b[0;34m(y_true, y_pred, multioutput, dtype)\u001b[0m\n\u001b[1;32m     92\u001b[0m         \u001b[0mthe\u001b[0m \u001b[0mdtype\u001b[0m \u001b[0margument\u001b[0m \u001b[0mpassed\u001b[0m \u001b[0mto\u001b[0m \u001b[0mcheck_array\u001b[0m\u001b[0;34m.\u001b[0m\u001b[0;34m\u001b[0m\u001b[0;34m\u001b[0m\u001b[0m\n\u001b[1;32m     93\u001b[0m     \"\"\"\n\u001b[0;32m---> 94\u001b[0;31m     \u001b[0mcheck_consistent_length\u001b[0m\u001b[0;34m(\u001b[0m\u001b[0my_true\u001b[0m\u001b[0;34m,\u001b[0m \u001b[0my_pred\u001b[0m\u001b[0;34m)\u001b[0m\u001b[0;34m\u001b[0m\u001b[0;34m\u001b[0m\u001b[0m\n\u001b[0m\u001b[1;32m     95\u001b[0m     \u001b[0my_true\u001b[0m \u001b[0;34m=\u001b[0m \u001b[0mcheck_array\u001b[0m\u001b[0;34m(\u001b[0m\u001b[0my_true\u001b[0m\u001b[0;34m,\u001b[0m \u001b[0mensure_2d\u001b[0m\u001b[0;34m=\u001b[0m\u001b[0;32mFalse\u001b[0m\u001b[0;34m,\u001b[0m \u001b[0mdtype\u001b[0m\u001b[0;34m=\u001b[0m\u001b[0mdtype\u001b[0m\u001b[0;34m)\u001b[0m\u001b[0;34m\u001b[0m\u001b[0;34m\u001b[0m\u001b[0m\n\u001b[1;32m     96\u001b[0m     \u001b[0my_pred\u001b[0m \u001b[0;34m=\u001b[0m \u001b[0mcheck_array\u001b[0m\u001b[0;34m(\u001b[0m\u001b[0my_pred\u001b[0m\u001b[0;34m,\u001b[0m \u001b[0mensure_2d\u001b[0m\u001b[0;34m=\u001b[0m\u001b[0;32mFalse\u001b[0m\u001b[0;34m,\u001b[0m \u001b[0mdtype\u001b[0m\u001b[0;34m=\u001b[0m\u001b[0mdtype\u001b[0m\u001b[0;34m)\u001b[0m\u001b[0;34m\u001b[0m\u001b[0;34m\u001b[0m\u001b[0m\n",
            "\u001b[0;32m/usr/local/lib/python3.7/dist-packages/sklearn/utils/validation.py\u001b[0m in \u001b[0;36mcheck_consistent_length\u001b[0;34m(*arrays)\u001b[0m\n\u001b[1;32m    327\u001b[0m     \"\"\"\n\u001b[1;32m    328\u001b[0m \u001b[0;34m\u001b[0m\u001b[0m\n\u001b[0;32m--> 329\u001b[0;31m     \u001b[0mlengths\u001b[0m \u001b[0;34m=\u001b[0m \u001b[0;34m[\u001b[0m\u001b[0m_num_samples\u001b[0m\u001b[0;34m(\u001b[0m\u001b[0mX\u001b[0m\u001b[0;34m)\u001b[0m \u001b[0;32mfor\u001b[0m \u001b[0mX\u001b[0m \u001b[0;32min\u001b[0m \u001b[0marrays\u001b[0m \u001b[0;32mif\u001b[0m \u001b[0mX\u001b[0m \u001b[0;32mis\u001b[0m \u001b[0;32mnot\u001b[0m \u001b[0;32mNone\u001b[0m\u001b[0;34m]\u001b[0m\u001b[0;34m\u001b[0m\u001b[0;34m\u001b[0m\u001b[0m\n\u001b[0m\u001b[1;32m    330\u001b[0m     \u001b[0muniques\u001b[0m \u001b[0;34m=\u001b[0m \u001b[0mnp\u001b[0m\u001b[0;34m.\u001b[0m\u001b[0munique\u001b[0m\u001b[0;34m(\u001b[0m\u001b[0mlengths\u001b[0m\u001b[0;34m)\u001b[0m\u001b[0;34m\u001b[0m\u001b[0;34m\u001b[0m\u001b[0m\n\u001b[1;32m    331\u001b[0m     \u001b[0;32mif\u001b[0m \u001b[0mlen\u001b[0m\u001b[0;34m(\u001b[0m\u001b[0muniques\u001b[0m\u001b[0;34m)\u001b[0m \u001b[0;34m>\u001b[0m \u001b[0;36m1\u001b[0m\u001b[0;34m:\u001b[0m\u001b[0;34m\u001b[0m\u001b[0;34m\u001b[0m\u001b[0m\n",
            "\u001b[0;32m/usr/local/lib/python3.7/dist-packages/sklearn/utils/validation.py\u001b[0m in \u001b[0;36m<listcomp>\u001b[0;34m(.0)\u001b[0m\n\u001b[1;32m    327\u001b[0m     \"\"\"\n\u001b[1;32m    328\u001b[0m \u001b[0;34m\u001b[0m\u001b[0m\n\u001b[0;32m--> 329\u001b[0;31m     \u001b[0mlengths\u001b[0m \u001b[0;34m=\u001b[0m \u001b[0;34m[\u001b[0m\u001b[0m_num_samples\u001b[0m\u001b[0;34m(\u001b[0m\u001b[0mX\u001b[0m\u001b[0;34m)\u001b[0m \u001b[0;32mfor\u001b[0m \u001b[0mX\u001b[0m \u001b[0;32min\u001b[0m \u001b[0marrays\u001b[0m \u001b[0;32mif\u001b[0m \u001b[0mX\u001b[0m \u001b[0;32mis\u001b[0m \u001b[0;32mnot\u001b[0m \u001b[0;32mNone\u001b[0m\u001b[0;34m]\u001b[0m\u001b[0;34m\u001b[0m\u001b[0;34m\u001b[0m\u001b[0m\n\u001b[0m\u001b[1;32m    330\u001b[0m     \u001b[0muniques\u001b[0m \u001b[0;34m=\u001b[0m \u001b[0mnp\u001b[0m\u001b[0;34m.\u001b[0m\u001b[0munique\u001b[0m\u001b[0;34m(\u001b[0m\u001b[0mlengths\u001b[0m\u001b[0;34m)\u001b[0m\u001b[0;34m\u001b[0m\u001b[0;34m\u001b[0m\u001b[0m\n\u001b[1;32m    331\u001b[0m     \u001b[0;32mif\u001b[0m \u001b[0mlen\u001b[0m\u001b[0;34m(\u001b[0m\u001b[0muniques\u001b[0m\u001b[0;34m)\u001b[0m \u001b[0;34m>\u001b[0m \u001b[0;36m1\u001b[0m\u001b[0;34m:\u001b[0m\u001b[0;34m\u001b[0m\u001b[0;34m\u001b[0m\u001b[0m\n",
            "\u001b[0;32m/usr/local/lib/python3.7/dist-packages/sklearn/utils/validation.py\u001b[0m in \u001b[0;36m_num_samples\u001b[0;34m(x)\u001b[0m\n\u001b[1;32m    278\u001b[0m         \u001b[0;32mreturn\u001b[0m \u001b[0mlen\u001b[0m\u001b[0;34m(\u001b[0m\u001b[0mx\u001b[0m\u001b[0;34m)\u001b[0m\u001b[0;34m\u001b[0m\u001b[0;34m\u001b[0m\u001b[0m\n\u001b[1;32m    279\u001b[0m     \u001b[0;32mexcept\u001b[0m \u001b[0mTypeError\u001b[0m \u001b[0;32mas\u001b[0m \u001b[0mtype_error\u001b[0m\u001b[0;34m:\u001b[0m\u001b[0;34m\u001b[0m\u001b[0;34m\u001b[0m\u001b[0m\n\u001b[0;32m--> 280\u001b[0;31m         \u001b[0;32mraise\u001b[0m \u001b[0mTypeError\u001b[0m\u001b[0;34m(\u001b[0m\u001b[0mmessage\u001b[0m\u001b[0;34m)\u001b[0m \u001b[0;32mfrom\u001b[0m \u001b[0mtype_error\u001b[0m\u001b[0;34m\u001b[0m\u001b[0;34m\u001b[0m\u001b[0m\n\u001b[0m\u001b[1;32m    281\u001b[0m \u001b[0;34m\u001b[0m\u001b[0m\n\u001b[1;32m    282\u001b[0m \u001b[0;34m\u001b[0m\u001b[0m\n",
            "\u001b[0;31mTypeError\u001b[0m: Expected sequence or array-like, got <class 'tensorflow.python.data.ops.dataset_ops.PrefetchDataset'>"
          ]
        }
      ]
    },
    {
      "cell_type": "markdown",
      "metadata": {
        "id": "jaWpXnQf6zMt"
      },
      "source": [
        "## 예측 데이터 시각화"
      ]
    },
    {
      "cell_type": "markdown",
      "metadata": {
        "id": "X207w9zdlSVX"
      },
      "source": [
        "아래 시각화 코드중 y_test 데이터에 **[20:]**으로 슬라이싱을 한 이유는\n",
        "\n",
        "예측 데이터에서 20일치의 데이터로 21일치를 예측해야하기 때문에 test_data로 예측 시 *앞의 20일은 예측하지 않습니다.*\n",
        "\n",
        "따라서, 20번 째 index와 비교하면 더욱 정확합니다."
      ]
    },
    {
      "cell_type": "code",
      "execution_count": null,
      "metadata": {
        "colab": {
          "base_uri": "https://localhost:8080/",
          "height": 863
        },
        "id": "2F4QQ1O_0l8m",
        "outputId": "c886f0a7-a756-4f8a-e56a-c50022a33331"
      },
      "outputs": [
        {
          "output_type": "display_data",
          "data": {
            "text/plain": [
              "<Figure size 2160x1080 with 1 Axes>"
            ],
            "image/png": "[encoded data removed]"
          },
          "metadata": {
            "needs_background": "light"
          }
        }
      ],
      "source": [
        "plt.figure(figsize=(30, 15))\n",
        "plt.plot(np.asarray(y_test)[20:], label='actual')\n",
        "plt.plot(pred[:], label='prediction')\n",
        "plt.legend()\n",
        "plt.show()"
      ]
    },
    {
      "cell_type": "markdown",
      "source": [
        "#AutoEncoder"
      ],
      "metadata": {
        "id": "nodpAg6GMXag"
      }
    },
    {
      "cell_type": "code",
      "source": [
        "encoder = tf.keras.models.Sequential([\n",
        "    tf.keras.layers.Dense(4, activation = 'relu', input_shape = (4,)),\n",
        "    tf.keras.layers.Dense(3, activation = 'relu'),\n",
        "    tf.keras.layers.Dense(2, activation = None)\n",
        "])\n",
        "\n",
        "decoder = tf.keras.models.Sequential([\n",
        "    tf.keras.layers.Dense(3, activation = 'relu', input_shape = (2,)),\n",
        "    tf.keras.layers.Dense(4, activation = 'relu'),\n",
        "    tf.keras.layers.Dense(4, activation = None)\n",
        "])\n",
        "\n",
        "autoencoder = tf.keras.models.Sequential([encoder, decoder])"
      ],
      "metadata": {
        "id": "3-ftJTfnMW-N"
      },
      "execution_count": null,
      "outputs": []
    },
    {
      "cell_type": "code",
      "source": [
        "autoencoder.compile(optimizer = tf.keras.optimizers.Adam(0.001),\n",
        "                    loss = 'mean_squared_error',\n",
        "                    metrics = ['mse'])"
      ],
      "metadata": {
        "id": "Gq3zRV8TNYoT"
      },
      "execution_count": null,
      "outputs": []
    },
    {
      "cell_type": "code",
      "source": [
        "training = autoencoder.fit(x_train, x_train, batch_size = 30, epochs = 50)"
      ],
      "metadata": {
        "colab": {
          "base_uri": "https://localhost:8080/"
        },
        "id": "ItYcAxcxNc2b",
        "outputId": "ce4d669a-de15-4d99-bdc8-dffb09911177"
      },
      "execution_count": null,
      "outputs": [
        {
          "output_type": "stream",
          "name": "stdout",
          "text": [
            "Epoch 1/50\n",
            "160/160 [==============================] - 1s 2ms/step - loss: 0.0796 - mse: 0.0796\n",
            "Epoch 2/50\n",
            "160/160 [==============================] - 0s 2ms/step - loss: 0.0179 - mse: 0.0179\n",
            "Epoch 3/50\n",
            "160/160 [==============================] - 0s 2ms/step - loss: 0.0063 - mse: 0.0063\n",
            "Epoch 4/50\n",
            "160/160 [==============================] - 0s 2ms/step - loss: 0.0029 - mse: 0.0029\n",
            "Epoch 5/50\n",
            "160/160 [==============================] - 0s 2ms/step - loss: 0.0023 - mse: 0.0023\n",
            "Epoch 6/50\n",
            "160/160 [==============================] - 0s 2ms/step - loss: 0.0022 - mse: 0.0022\n",
            "Epoch 7/50\n",
            "160/160 [==============================] - 0s 2ms/step - loss: 0.0022 - mse: 0.0022\n",
            "Epoch 8/50\n",
            "160/160 [==============================] - 0s 2ms/step - loss: 0.0022 - mse: 0.0022\n",
            "Epoch 9/50\n",
            "160/160 [==============================] - 0s 3ms/step - loss: 0.0022 - mse: 0.0022\n",
            "Epoch 10/50\n",
            "160/160 [==============================] - 0s 2ms/step - loss: 0.0022 - mse: 0.0022\n",
            "Epoch 11/50\n",
            "160/160 [==============================] - 0s 2ms/step - loss: 0.0022 - mse: 0.0022\n",
            "Epoch 12/50\n",
            "160/160 [==============================] - 0s 2ms/step - loss: 0.0022 - mse: 0.0022\n",
            "Epoch 13/50\n",
            "160/160 [==============================] - 0s 2ms/step - loss: 0.0022 - mse: 0.0022\n",
            "Epoch 14/50\n",
            "160/160 [==============================] - 0s 3ms/step - loss: 0.0022 - mse: 0.0022\n",
            "Epoch 15/50\n",
            "160/160 [==============================] - 0s 2ms/step - loss: 0.0022 - mse: 0.0022\n",
            "Epoch 16/50\n",
            "160/160 [==============================] - 0s 2ms/step - loss: 0.0022 - mse: 0.0022\n",
            "Epoch 17/50\n",
            "160/160 [==============================] - 0s 2ms/step - loss: 0.0022 - mse: 0.0022\n",
            "Epoch 18/50\n",
            "160/160 [==============================] - 0s 2ms/step - loss: 0.0022 - mse: 0.0022\n",
            "Epoch 19/50\n",
            "160/160 [==============================] - 0s 2ms/step - loss: 0.0022 - mse: 0.0022\n",
            "Epoch 20/50\n",
            "160/160 [==============================] - 0s 2ms/step - loss: 0.0022 - mse: 0.0022\n",
            "Epoch 21/50\n",
            "160/160 [==============================] - 0s 2ms/step - loss: 0.0022 - mse: 0.0022\n",
            "Epoch 22/50\n",
            "160/160 [==============================] - 0s 2ms/step - loss: 0.0022 - mse: 0.0022\n",
            "Epoch 23/50\n",
            "160/160 [==============================] - 0s 2ms/step - loss: 0.0022 - mse: 0.0022\n",
            "Epoch 24/50\n",
            "160/160 [==============================] - 0s 2ms/step - loss: 0.0022 - mse: 0.0022\n",
            "Epoch 25/50\n",
            "160/160 [==============================] - 0s 3ms/step - loss: 0.0022 - mse: 0.0022\n",
            "Epoch 26/50\n",
            "160/160 [==============================] - 0s 2ms/step - loss: 0.0022 - mse: 0.0022\n",
            "Epoch 27/50\n",
            "160/160 [==============================] - 0s 2ms/step - loss: 0.0022 - mse: 0.0022\n",
            "Epoch 28/50\n",
            "160/160 [==============================] - 0s 2ms/step - loss: 0.0022 - mse: 0.0022\n",
            "Epoch 29/50\n",
            "160/160 [==============================] - 0s 2ms/step - loss: 0.0022 - mse: 0.0022\n",
            "Epoch 30/50\n",
            "160/160 [==============================] - 0s 2ms/step - loss: 0.0022 - mse: 0.0022\n",
            "Epoch 31/50\n",
            "160/160 [==============================] - 0s 2ms/step - loss: 0.0022 - mse: 0.0022\n",
            "Epoch 32/50\n",
            "160/160 [==============================] - 0s 2ms/step - loss: 0.0022 - mse: 0.0022\n",
            "Epoch 33/50\n",
            "160/160 [==============================] - 0s 2ms/step - loss: 0.0022 - mse: 0.0022\n",
            "Epoch 34/50\n",
            "160/160 [==============================] - 0s 2ms/step - loss: 0.0022 - mse: 0.0022\n",
            "Epoch 35/50\n",
            "160/160 [==============================] - 0s 2ms/step - loss: 0.0022 - mse: 0.0022\n",
            "Epoch 36/50\n",
            "160/160 [==============================] - 0s 2ms/step - loss: 0.0022 - mse: 0.0022\n",
            "Epoch 37/50\n",
            "160/160 [==============================] - 0s 2ms/step - loss: 0.0022 - mse: 0.0022\n",
            "Epoch 38/50\n",
            "160/160 [==============================] - 0s 2ms/step - loss: 0.0022 - mse: 0.0022\n",
            "Epoch 39/50\n",
            "160/160 [==============================] - 0s 2ms/step - loss: 0.0022 - mse: 0.0022\n",
            "Epoch 40/50\n",
            "160/160 [==============================] - 0s 2ms/step - loss: 0.0022 - mse: 0.0022\n",
            "Epoch 41/50\n",
            "160/160 [==============================] - 0s 2ms/step - loss: 0.0022 - mse: 0.0022\n",
            "Epoch 42/50\n",
            "160/160 [==============================] - 0s 2ms/step - loss: 0.0022 - mse: 0.0022\n",
            "Epoch 43/50\n",
            "160/160 [==============================] - 0s 3ms/step - loss: 0.0022 - mse: 0.0022\n",
            "Epoch 44/50\n",
            "160/160 [==============================] - 0s 2ms/step - loss: 0.0022 - mse: 0.0022\n",
            "Epoch 45/50\n",
            "160/160 [==============================] - 0s 2ms/step - loss: 0.0022 - mse: 0.0022\n",
            "Epoch 46/50\n",
            "160/160 [==============================] - 0s 2ms/step - loss: 0.0022 - mse: 0.0022\n",
            "Epoch 47/50\n",
            "160/160 [==============================] - 0s 2ms/step - loss: 0.0022 - mse: 0.0022\n",
            "Epoch 48/50\n",
            "160/160 [==============================] - 0s 2ms/step - loss: 0.0022 - mse: 0.0022\n",
            "Epoch 49/50\n",
            "160/160 [==============================] - 0s 2ms/step - loss: 0.0022 - mse: 0.0022\n",
            "Epoch 50/50\n",
            "160/160 [==============================] - 0s 2ms/step - loss: 0.0022 - mse: 0.0022\n"
          ]
        }
      ]
    },
    {
      "cell_type": "code",
      "source": [
        "test_scores = autoencoder.evaluate(x_train, x_train, verbose = 2)\n",
        "print('Test loss: {}'.format(test_scores[0]))\n",
        "print('Mean Squared Error: {} %'.format(test_scores[1]*100))"
      ],
      "metadata": {
        "colab": {
          "base_uri": "https://localhost:8080/"
        },
        "id": "QMDyYPHFQSA3",
        "outputId": "e318bb83-16e7-4a5c-82e8-dd28d2c1a909"
      },
      "execution_count": null,
      "outputs": [
        {
          "output_type": "stream",
          "name": "stdout",
          "text": [
            "150/150 - 0s - loss: 0.0022 - mse: 0.0022 - 300ms/epoch - 2ms/step\n",
            "Test loss: 0.002190712606534362\n",
            "Mean Squared Error: 0.21907126065343618 %\n"
          ]
        }
      ]
    },
    {
      "cell_type": "code",
      "source": [
        "yhat = autoencoder.predict(x_train, verbose=0)\n",
        "print(np.round(yhat,20))"
      ],
      "metadata": {
        "colab": {
          "base_uri": "https://localhost:8080/"
        },
        "id": "OM-PhGiZKgrD",
        "outputId": "76fb3ffb-d3f8-4807-d92c-0f79e3d3c83b"
      },
      "execution_count": null,
      "outputs": [
        {
          "output_type": "stream",
          "name": "stdout",
          "text": [
            "[[0.28655562 0.2841155  0.28449    0.14329238]\n",
            " [0.28780395 0.28535888 0.28573176 0.14333975]\n",
            " [0.28880057 0.2863515  0.28672314 0.14337759]\n",
            " ...\n",
            " [0.7628859  0.7585507  0.75832003 0.16137192]\n",
            " [0.7595177  0.75519586 0.7549694  0.16124406]\n",
            " [0.76057315 0.75624716 0.7560194  0.16128413]]\n"
          ]
        }
      ]
    },
    {
      "cell_type": "markdown",
      "source": [
        "#LSTM Encoder"
      ],
      "metadata": {
        "id": "TLwTl3DCBwbu"
      }
    },
    {
      "cell_type": "code",
      "source": [
        "def temporalize(X, y, lookback):\n",
        "    output_X = []\n",
        "    output_y = []\n",
        "    for i in range(len(X)-lookback-1):\n",
        "        t = []\n",
        "        for j in range(1,lookback+1):\n",
        "            # Gather past records upto the lookback period\n",
        "            t.append(X[[(i+j+1)], :])\n",
        "        output_X.append(t)\n",
        "        output_y.append(y[i+lookback+1])\n",
        "    return output_X, output_y"
      ],
      "metadata": {
        "id": "8977zyJkCCPw"
      },
      "execution_count": null,
      "outputs": []
    },
    {
      "cell_type": "code",
      "source": [
        "timeseries = x_train.to_numpy()\n",
        "timesteps = timeseries.shape[0]\n",
        "n_features = timeseries.shape[1]\n",
        "\n",
        "timeseries"
      ],
      "metadata": {
        "colab": {
          "base_uri": "https://localhost:8080/"
        },
        "id": "a0r3L3NOi9Vh",
        "outputId": "5120bef8-6289-4148-b8a8-4f4e7eff68fd"
      },
      "execution_count": null,
      "outputs": [
        {
          "output_type": "execute_result",
          "data": {
            "text/plain": [
              "array([[0.2883355 , 0.28548113, 0.28754902, 0.01791633],\n",
              "       [0.28536628, 0.28781265, 0.28758798, 0.02394197],\n",
              "       [0.28957954, 0.28795945, 0.28706854, 0.02206789],\n",
              "       ...,\n",
              "       [0.76241873, 0.75812684, 0.75962479, 0.23352857],\n",
              "       [0.75942349, 0.75473319, 0.756335  , 0.22801136],\n",
              "       [0.76007369, 0.75534198, 0.75788467, 0.275519  ]])"
            ]
          },
          "metadata": {},
          "execution_count": 56
        }
      ]
    },
    {
      "cell_type": "code",
      "source": [
        "timesteps = 5\n",
        "X, y = temporalize(X = timeseries, y = np.zeros(len(timeseries)), lookback = timesteps)\n",
        "\n",
        "n_features = 4\n",
        "X = np.array(X)\n",
        "X = X.reshape(X.shape[0], timesteps, n_features)\n",
        "X"
      ],
      "metadata": {
        "colab": {
          "base_uri": "https://localhost:8080/"
        },
        "id": "UlMypu3ikTKk",
        "outputId": "2f346606-a3bf-4ed8-8d5a-bcabe4b3cd89"
      },
      "execution_count": null,
      "outputs": [
        {
          "output_type": "execute_result",
          "data": {
            "text/plain": [
              "array([[[0.28957954, 0.28795945, 0.28706854, 0.02206789],\n",
              "        [0.28482445, 0.28739816, 0.28446268, 0.01935761],\n",
              "        [0.29221933, 0.29637449, 0.2944316 , 0.02395038],\n",
              "        [0.29528825, 0.29405593, 0.29535361, 0.01847939],\n",
              "        [0.29524057, 0.29280382, 0.29734912, 0.01242433]],\n",
              "\n",
              "       [[0.28482445, 0.28739816, 0.28446268, 0.01935761],\n",
              "        [0.29221933, 0.29637449, 0.2944316 , 0.02395038],\n",
              "        [0.29528825, 0.29405593, 0.29535361, 0.01847939],\n",
              "        [0.29524057, 0.29280382, 0.29734912, 0.01242433],\n",
              "        [0.29712614, 0.300541  , 0.29933165, 0.02448823]],\n",
              "\n",
              "       [[0.29221933, 0.29637449, 0.2944316 , 0.02395038],\n",
              "        [0.29528825, 0.29405593, 0.29535361, 0.01847939],\n",
              "        [0.29524057, 0.29280382, 0.29734912, 0.01242433],\n",
              "        [0.29712614, 0.300541  , 0.29933165, 0.02448823],\n",
              "        [0.30408322, 0.30233281, 0.30329671, 0.02890872]],\n",
              "\n",
              "       ...,\n",
              "\n",
              "       [[0.76278717, 0.75815707, 0.7621787 , 0.17784387],\n",
              "        [0.75586909, 0.75372287, 0.7541144 , 0.14374476],\n",
              "        [0.75567404, 0.74964272, 0.75297596, 0.18857994],\n",
              "        [0.75560902, 0.75224192, 0.75351271, 0.18463007],\n",
              "        [0.76241873, 0.75812684, 0.75962479, 0.23352857]],\n",
              "\n",
              "       [[0.75586909, 0.75372287, 0.7541144 , 0.14374476],\n",
              "        [0.75567404, 0.74964272, 0.75297596, 0.18857994],\n",
              "        [0.75560902, 0.75224192, 0.75351271, 0.18463007],\n",
              "        [0.76241873, 0.75812684, 0.75962479, 0.23352857],\n",
              "        [0.75942349, 0.75473319, 0.756335  , 0.22801136]],\n",
              "\n",
              "       [[0.75567404, 0.74964272, 0.75297596, 0.18857994],\n",
              "        [0.75560902, 0.75224192, 0.75351271, 0.18463007],\n",
              "        [0.76241873, 0.75812684, 0.75962479, 0.23352857],\n",
              "        [0.75942349, 0.75473319, 0.756335  , 0.22801136],\n",
              "        [0.76007369, 0.75534198, 0.75788467, 0.275519  ]]])"
            ]
          },
          "metadata": {},
          "execution_count": 60
        }
      ]
    },
    {
      "cell_type": "code",
      "source": [
        "model = Sequential()\n",
        "model.add(LSTM(128, activation='relu', input_shape=(timesteps,n_features), return_sequences=True))\n",
        "model.add(LSTM(64, activation='relu', return_sequences=False))\n",
        "model.add(RepeatVector(timesteps))\n",
        "model.add(LSTM(64, activation='relu', return_sequences=True))\n",
        "model.add(LSTM(128, activation='relu', return_sequences=True))\n",
        "model.add(TimeDistributed(Dense(n_features)))\n",
        "\n",
        "model.compile(optimizer='adam', loss='mse')\n",
        "model.summary()"
      ],
      "metadata": {
        "colab": {
          "base_uri": "https://localhost:8080/"
        },
        "id": "w155wrj0jPvO",
        "outputId": "78921788-0e40-41af-bf4a-fec32b382f37"
      },
      "execution_count": null,
      "outputs": [
        {
          "output_type": "stream",
          "name": "stdout",
          "text": [
            "WARNING:tensorflow:Layer lstm_13 will not use cuDNN kernels since it doesn't meet the criteria. It will use a generic GPU kernel as fallback when running on GPU.\n",
            "WARNING:tensorflow:Layer lstm_14 will not use cuDNN kernels since it doesn't meet the criteria. It will use a generic GPU kernel as fallback when running on GPU.\n",
            "WARNING:tensorflow:Layer lstm_15 will not use cuDNN kernels since it doesn't meet the criteria. It will use a generic GPU kernel as fallback when running on GPU.\n",
            "WARNING:tensorflow:Layer lstm_16 will not use cuDNN kernels since it doesn't meet the criteria. It will use a generic GPU kernel as fallback when running on GPU.\n",
            "Model: \"sequential_7\"\n",
            "_________________________________________________________________\n",
            " Layer (type)                Output Shape              Param #   \n",
            "=================================================================\n",
            " lstm_13 (LSTM)              (None, 5, 128)            68096     \n",
            "                                                                 \n",
            " lstm_14 (LSTM)              (None, 64)                49408     \n",
            "                                                                 \n",
            " repeat_vector_3 (RepeatVect  (None, 5, 64)            0         \n",
            " or)                                                             \n",
            "                                                                 \n",
            " lstm_15 (LSTM)              (None, 5, 64)             33024     \n",
            "                                                                 \n",
            " lstm_16 (LSTM)              (None, 5, 128)            98816     \n",
            "                                                                 \n",
            " time_distributed_3 (TimeDis  (None, 5, 4)             516       \n",
            " tributed)                                                       \n",
            "                                                                 \n",
            "=================================================================\n",
            "Total params: 249,860\n",
            "Trainable params: 249,860\n",
            "Non-trainable params: 0\n",
            "_________________________________________________________________\n"
          ]
        }
      ]
    },
    {
      "cell_type": "code",
      "source": [
        "# fit model\n",
        "model.fit(X, X, epochs=300, batch_size=4793, verbose=2)\n",
        "# demonstrate reconstruction\n",
        "yhat = model.predict(X, verbose=0)\n",
        "print('---Predicted---')\n",
        "print(np.round(yhat,20))\n",
        "print('---Actual---')\n",
        "print(np.round(X, 20))"
      ],
      "metadata": {
        "id": "2g0lRtX8k3U9",
        "colab": {
          "base_uri": "https://localhost:8080/"
        },
        "outputId": "afb38cae-56ba-4409-a324-098844fc16f7"
      },
      "execution_count": null,
      "outputs": [
        {
          "output_type": "stream",
          "name": "stdout",
          "text": [
            "Epoch 1/300\n",
            "1/1 - 0s - loss: 2.5864e-04 - 52ms/epoch - 52ms/step\n",
            "Epoch 2/300\n",
            "1/1 - 0s - loss: 2.5695e-04 - 46ms/epoch - 46ms/step\n",
            "Epoch 3/300\n",
            "1/1 - 0s - loss: 2.5706e-04 - 46ms/epoch - 46ms/step\n",
            "Epoch 4/300\n",
            "1/1 - 0s - loss: 2.5826e-04 - 46ms/epoch - 46ms/step\n",
            "Epoch 5/300\n",
            "1/1 - 0s - loss: 2.5934e-04 - 47ms/epoch - 47ms/step\n",
            "Epoch 6/300\n",
            "1/1 - 0s - loss: 2.5940e-04 - 40ms/epoch - 40ms/step\n",
            "Epoch 7/300\n",
            "1/1 - 0s - loss: 2.5828e-04 - 41ms/epoch - 41ms/step\n",
            "Epoch 8/300\n",
            "1/1 - 0s - loss: 2.5659e-04 - 35ms/epoch - 35ms/step\n",
            "Epoch 9/300\n",
            "1/1 - 0s - loss: 2.5525e-04 - 35ms/epoch - 35ms/step\n",
            "Epoch 10/300\n",
            "1/1 - 0s - loss: 2.5477e-04 - 39ms/epoch - 39ms/step\n",
            "Epoch 11/300\n",
            "1/1 - 0s - loss: 2.5507e-04 - 40ms/epoch - 40ms/step\n",
            "Epoch 12/300\n",
            "1/1 - 0s - loss: 2.5565e-04 - 40ms/epoch - 40ms/step\n",
            "Epoch 13/300\n",
            "1/1 - 0s - loss: 2.5600e-04 - 36ms/epoch - 36ms/step\n",
            "Epoch 14/300\n",
            "1/1 - 0s - loss: 2.5582e-04 - 34ms/epoch - 34ms/step\n",
            "Epoch 15/300\n",
            "1/1 - 0s - loss: 2.5519e-04 - 34ms/epoch - 34ms/step\n",
            "Epoch 16/300\n",
            "1/1 - 0s - loss: 2.5434e-04 - 35ms/epoch - 35ms/step\n",
            "Epoch 17/300\n",
            "1/1 - 0s - loss: 2.5360e-04 - 34ms/epoch - 34ms/step\n",
            "Epoch 18/300\n",
            "1/1 - 0s - loss: 2.5323e-04 - 34ms/epoch - 34ms/step\n",
            "Epoch 19/300\n",
            "1/1 - 0s - loss: 2.5334e-04 - 36ms/epoch - 36ms/step\n",
            "Epoch 20/300\n",
            "1/1 - 0s - loss: 2.5406e-04 - 35ms/epoch - 35ms/step\n",
            "Epoch 21/300\n",
            "1/1 - 0s - loss: 2.5574e-04 - 35ms/epoch - 35ms/step\n",
            "Epoch 22/300\n",
            "1/1 - 0s - loss: 2.5909e-04 - 34ms/epoch - 34ms/step\n",
            "Epoch 23/300\n",
            "1/1 - 0s - loss: 2.6476e-04 - 35ms/epoch - 35ms/step\n",
            "Epoch 24/300\n",
            "1/1 - 0s - loss: 2.7208e-04 - 35ms/epoch - 35ms/step\n",
            "Epoch 25/300\n",
            "1/1 - 0s - loss: 2.7409e-04 - 34ms/epoch - 34ms/step\n",
            "Epoch 26/300\n",
            "1/1 - 0s - loss: 2.6619e-04 - 36ms/epoch - 36ms/step\n",
            "Epoch 27/300\n",
            "1/1 - 0s - loss: 2.5431e-04 - 35ms/epoch - 35ms/step\n",
            "Epoch 28/300\n",
            "1/1 - 0s - loss: 2.5282e-04 - 35ms/epoch - 35ms/step\n",
            "Epoch 29/300\n",
            "1/1 - 0s - loss: 2.6040e-04 - 34ms/epoch - 34ms/step\n",
            "Epoch 30/300\n",
            "1/1 - 0s - loss: 2.6247e-04 - 33ms/epoch - 33ms/step\n",
            "Epoch 31/300\n",
            "1/1 - 0s - loss: 2.5522e-04 - 33ms/epoch - 33ms/step\n",
            "Epoch 32/300\n",
            "1/1 - 0s - loss: 2.5067e-04 - 32ms/epoch - 32ms/step\n",
            "Epoch 33/300\n",
            "1/1 - 0s - loss: 2.5456e-04 - 32ms/epoch - 32ms/step\n",
            "Epoch 34/300\n",
            "1/1 - 0s - loss: 2.5736e-04 - 32ms/epoch - 32ms/step\n",
            "Epoch 35/300\n",
            "1/1 - 0s - loss: 2.5343e-04 - 34ms/epoch - 34ms/step\n",
            "Epoch 36/300\n",
            "1/1 - 0s - loss: 2.5033e-04 - 43ms/epoch - 43ms/step\n",
            "Epoch 37/300\n",
            "1/1 - 0s - loss: 2.5277e-04 - 37ms/epoch - 37ms/step\n",
            "Epoch 38/300\n",
            "1/1 - 0s - loss: 2.5456e-04 - 38ms/epoch - 38ms/step\n",
            "Epoch 39/300\n",
            "1/1 - 0s - loss: 2.5173e-04 - 35ms/epoch - 35ms/step\n",
            "Epoch 40/300\n",
            "1/1 - 0s - loss: 2.4927e-04 - 39ms/epoch - 39ms/step\n",
            "Epoch 41/300\n",
            "1/1 - 0s - loss: 2.5070e-04 - 34ms/epoch - 34ms/step\n",
            "Epoch 42/300\n",
            "1/1 - 0s - loss: 2.5220e-04 - 50ms/epoch - 50ms/step\n",
            "Epoch 43/300\n",
            "1/1 - 0s - loss: 2.5068e-04 - 39ms/epoch - 39ms/step\n",
            "Epoch 44/300\n",
            "1/1 - 0s - loss: 2.4887e-04 - 40ms/epoch - 40ms/step\n",
            "Epoch 45/300\n",
            "1/1 - 0s - loss: 2.4947e-04 - 35ms/epoch - 35ms/step\n",
            "Epoch 46/300\n",
            "1/1 - 0s - loss: 2.5064e-04 - 37ms/epoch - 37ms/step\n",
            "Epoch 47/300\n",
            "1/1 - 0s - loss: 2.4994e-04 - 38ms/epoch - 38ms/step\n",
            "Epoch 48/300\n",
            "1/1 - 0s - loss: 2.4838e-04 - 41ms/epoch - 41ms/step\n",
            "Epoch 49/300\n",
            "1/1 - 0s - loss: 2.4813e-04 - 39ms/epoch - 39ms/step\n",
            "Epoch 50/300\n",
            "1/1 - 0s - loss: 2.4893e-04 - 38ms/epoch - 38ms/step\n",
            "Epoch 51/300\n",
            "1/1 - 0s - loss: 2.4901e-04 - 39ms/epoch - 39ms/step\n",
            "Epoch 52/300\n",
            "1/1 - 0s - loss: 2.4807e-04 - 43ms/epoch - 43ms/step\n",
            "Epoch 53/300\n",
            "1/1 - 0s - loss: 2.4732e-04 - 37ms/epoch - 37ms/step\n",
            "Epoch 54/300\n",
            "1/1 - 0s - loss: 2.4748e-04 - 46ms/epoch - 46ms/step\n",
            "Epoch 55/300\n",
            "1/1 - 0s - loss: 2.4794e-04 - 38ms/epoch - 38ms/step\n",
            "Epoch 56/300\n",
            "1/1 - 0s - loss: 2.4784e-04 - 37ms/epoch - 37ms/step\n",
            "Epoch 57/300\n",
            "1/1 - 0s - loss: 2.4722e-04 - 35ms/epoch - 35ms/step\n",
            "Epoch 58/300\n",
            "1/1 - 0s - loss: 2.4675e-04 - 36ms/epoch - 36ms/step\n",
            "Epoch 59/300\n",
            "1/1 - 0s - loss: 2.4681e-04 - 35ms/epoch - 35ms/step\n",
            "Epoch 60/300\n",
            "1/1 - 0s - loss: 2.4714e-04 - 38ms/epoch - 38ms/step\n",
            "Epoch 61/300\n",
            "1/1 - 0s - loss: 2.4732e-04 - 38ms/epoch - 38ms/step\n",
            "Epoch 62/300\n",
            "1/1 - 0s - loss: 2.4729e-04 - 37ms/epoch - 37ms/step\n",
            "Epoch 63/300\n",
            "1/1 - 0s - loss: 2.4741e-04 - 36ms/epoch - 36ms/step\n",
            "Epoch 64/300\n",
            "1/1 - 0s - loss: 2.4816e-04 - 39ms/epoch - 39ms/step\n",
            "Epoch 65/300\n",
            "1/1 - 0s - loss: 2.4998e-04 - 38ms/epoch - 38ms/step\n",
            "Epoch 66/300\n",
            "1/1 - 0s - loss: 2.5338e-04 - 36ms/epoch - 36ms/step\n",
            "Epoch 67/300\n",
            "1/1 - 0s - loss: 2.5895e-04 - 35ms/epoch - 35ms/step\n",
            "Epoch 68/300\n",
            "1/1 - 0s - loss: 2.6714e-04 - 34ms/epoch - 34ms/step\n",
            "Epoch 69/300\n",
            "1/1 - 0s - loss: 2.7655e-04 - 35ms/epoch - 35ms/step\n",
            "Epoch 70/300\n",
            "1/1 - 0s - loss: 2.8122e-04 - 35ms/epoch - 35ms/step\n",
            "Epoch 71/300\n",
            "1/1 - 0s - loss: 2.7583e-04 - 35ms/epoch - 35ms/step\n",
            "Epoch 72/300\n",
            "1/1 - 0s - loss: 2.5945e-04 - 35ms/epoch - 35ms/step\n",
            "Epoch 73/300\n",
            "1/1 - 0s - loss: 2.4679e-04 - 38ms/epoch - 38ms/step\n",
            "Epoch 74/300\n",
            "1/1 - 0s - loss: 2.4774e-04 - 36ms/epoch - 36ms/step\n",
            "Epoch 75/300\n",
            "1/1 - 0s - loss: 2.5710e-04 - 38ms/epoch - 38ms/step\n",
            "Epoch 76/300\n",
            "1/1 - 0s - loss: 2.6101e-04 - 33ms/epoch - 33ms/step\n",
            "Epoch 77/300\n",
            "1/1 - 0s - loss: 2.5362e-04 - 33ms/epoch - 33ms/step\n",
            "Epoch 78/300\n",
            "1/1 - 0s - loss: 2.4537e-04 - 33ms/epoch - 33ms/step\n",
            "Epoch 79/300\n",
            "1/1 - 0s - loss: 2.4633e-04 - 35ms/epoch - 35ms/step\n",
            "Epoch 80/300\n",
            "1/1 - 0s - loss: 2.5248e-04 - 34ms/epoch - 34ms/step\n",
            "Epoch 81/300\n",
            "1/1 - 0s - loss: 2.5338e-04 - 32ms/epoch - 32ms/step\n",
            "Epoch 82/300\n",
            "1/1 - 0s - loss: 2.4767e-04 - 33ms/epoch - 33ms/step\n",
            "Epoch 83/300\n",
            "1/1 - 0s - loss: 2.4399e-04 - 33ms/epoch - 33ms/step\n",
            "Epoch 84/300\n",
            "1/1 - 0s - loss: 2.4643e-04 - 33ms/epoch - 33ms/step\n",
            "Epoch 85/300\n",
            "1/1 - 0s - loss: 2.4948e-04 - 32ms/epoch - 32ms/step\n",
            "Epoch 86/300\n",
            "1/1 - 0s - loss: 2.4792e-04 - 33ms/epoch - 33ms/step\n",
            "Epoch 87/300\n",
            "1/1 - 0s - loss: 2.4427e-04 - 35ms/epoch - 35ms/step\n",
            "Epoch 88/300\n",
            "1/1 - 0s - loss: 2.4380e-04 - 34ms/epoch - 34ms/step\n",
            "Epoch 89/300\n",
            "1/1 - 0s - loss: 2.4616e-04 - 34ms/epoch - 34ms/step\n",
            "Epoch 90/300\n",
            "1/1 - 0s - loss: 2.4703e-04 - 34ms/epoch - 34ms/step\n",
            "Epoch 91/300\n",
            "1/1 - 0s - loss: 2.4516e-04 - 34ms/epoch - 34ms/step\n",
            "Epoch 92/300\n",
            "1/1 - 0s - loss: 2.4352e-04 - 36ms/epoch - 36ms/step\n",
            "Epoch 93/300\n",
            "1/1 - 0s - loss: 2.4438e-04 - 34ms/epoch - 34ms/step\n",
            "Epoch 94/300\n",
            "1/1 - 0s - loss: 2.4646e-04 - 34ms/epoch - 34ms/step\n",
            "Epoch 95/300\n",
            "1/1 - 0s - loss: 2.4759e-04 - 33ms/epoch - 33ms/step\n",
            "Epoch 96/300\n",
            "1/1 - 0s - loss: 2.4854e-04 - 34ms/epoch - 34ms/step\n",
            "Epoch 97/300\n",
            "1/1 - 0s - loss: 2.5145e-04 - 34ms/epoch - 34ms/step\n",
            "Epoch 98/300\n",
            "1/1 - 0s - loss: 2.5739e-04 - 35ms/epoch - 35ms/step\n",
            "Epoch 99/300\n",
            "1/1 - 0s - loss: 2.6219e-04 - 33ms/epoch - 33ms/step\n",
            "Epoch 100/300\n",
            "1/1 - 0s - loss: 2.6150e-04 - 33ms/epoch - 33ms/step\n",
            "Epoch 101/300\n",
            "1/1 - 0s - loss: 2.5286e-04 - 34ms/epoch - 34ms/step\n",
            "Epoch 102/300\n",
            "1/1 - 0s - loss: 2.4395e-04 - 34ms/epoch - 34ms/step\n",
            "Epoch 103/300\n",
            "1/1 - 0s - loss: 2.4264e-04 - 35ms/epoch - 35ms/step\n",
            "Epoch 104/300\n",
            "1/1 - 0s - loss: 2.4774e-04 - 33ms/epoch - 33ms/step\n",
            "Epoch 105/300\n",
            "1/1 - 0s - loss: 2.5069e-04 - 32ms/epoch - 32ms/step\n",
            "Epoch 106/300\n",
            "1/1 - 0s - loss: 2.4699e-04 - 34ms/epoch - 34ms/step\n",
            "Epoch 107/300\n",
            "1/1 - 0s - loss: 2.4217e-04 - 34ms/epoch - 34ms/step\n",
            "Epoch 108/300\n",
            "1/1 - 0s - loss: 2.4247e-04 - 33ms/epoch - 33ms/step\n",
            "Epoch 109/300\n",
            "1/1 - 0s - loss: 2.4583e-04 - 33ms/epoch - 33ms/step\n",
            "Epoch 110/300\n",
            "1/1 - 0s - loss: 2.4618e-04 - 32ms/epoch - 32ms/step\n",
            "Epoch 111/300\n",
            "1/1 - 0s - loss: 2.4289e-04 - 32ms/epoch - 32ms/step\n",
            "Epoch 112/300\n",
            "1/1 - 0s - loss: 2.4093e-04 - 31ms/epoch - 31ms/step\n",
            "Epoch 113/300\n",
            "1/1 - 0s - loss: 2.4244e-04 - 32ms/epoch - 32ms/step\n",
            "Epoch 114/300\n",
            "1/1 - 0s - loss: 2.4413e-04 - 32ms/epoch - 32ms/step\n",
            "Epoch 115/300\n",
            "1/1 - 0s - loss: 2.4312e-04 - 34ms/epoch - 34ms/step\n",
            "Epoch 116/300\n",
            "1/1 - 0s - loss: 2.4090e-04 - 34ms/epoch - 34ms/step\n",
            "Epoch 117/300\n",
            "1/1 - 0s - loss: 2.4041e-04 - 33ms/epoch - 33ms/step\n",
            "Epoch 118/300\n",
            "1/1 - 0s - loss: 2.4165e-04 - 33ms/epoch - 33ms/step\n",
            "Epoch 119/300\n",
            "1/1 - 0s - loss: 2.4238e-04 - 32ms/epoch - 32ms/step\n",
            "Epoch 120/300\n",
            "1/1 - 0s - loss: 2.4148e-04 - 34ms/epoch - 34ms/step\n",
            "Epoch 121/300\n",
            "1/1 - 0s - loss: 2.4009e-04 - 34ms/epoch - 34ms/step\n",
            "Epoch 122/300\n",
            "1/1 - 0s - loss: 2.3966e-04 - 34ms/epoch - 34ms/step\n",
            "Epoch 123/300\n",
            "1/1 - 0s - loss: 2.4023e-04 - 32ms/epoch - 32ms/step\n",
            "Epoch 124/300\n",
            "1/1 - 0s - loss: 2.4082e-04 - 32ms/epoch - 32ms/step\n",
            "Epoch 125/300\n",
            "1/1 - 0s - loss: 2.4073e-04 - 32ms/epoch - 32ms/step\n",
            "Epoch 126/300\n",
            "1/1 - 0s - loss: 2.4006e-04 - 37ms/epoch - 37ms/step\n",
            "Epoch 127/300\n",
            "1/1 - 0s - loss: 2.3929e-04 - 34ms/epoch - 34ms/step\n",
            "Epoch 128/300\n",
            "1/1 - 0s - loss: 2.3883e-04 - 32ms/epoch - 32ms/step\n",
            "Epoch 129/300\n",
            "1/1 - 0s - loss: 2.3875e-04 - 33ms/epoch - 33ms/step\n",
            "Epoch 130/300\n",
            "1/1 - 0s - loss: 2.3891e-04 - 33ms/epoch - 33ms/step\n",
            "Epoch 131/300\n",
            "1/1 - 0s - loss: 2.3916e-04 - 34ms/epoch - 34ms/step\n",
            "Epoch 132/300\n",
            "1/1 - 0s - loss: 2.3941e-04 - 34ms/epoch - 34ms/step\n",
            "Epoch 133/300\n",
            "1/1 - 0s - loss: 2.3958e-04 - 35ms/epoch - 35ms/step\n",
            "Epoch 134/300\n",
            "1/1 - 0s - loss: 2.3970e-04 - 34ms/epoch - 34ms/step\n",
            "Epoch 135/300\n",
            "1/1 - 0s - loss: 2.3977e-04 - 34ms/epoch - 34ms/step\n",
            "Epoch 136/300\n",
            "1/1 - 0s - loss: 2.3986e-04 - 35ms/epoch - 35ms/step\n",
            "Epoch 137/300\n",
            "1/1 - 0s - loss: 2.4005e-04 - 34ms/epoch - 34ms/step\n",
            "Epoch 138/300\n",
            "1/1 - 0s - loss: 2.4049e-04 - 34ms/epoch - 34ms/step\n",
            "Epoch 139/300\n",
            "1/1 - 0s - loss: 2.4127e-04 - 33ms/epoch - 33ms/step\n",
            "Epoch 140/300\n",
            "1/1 - 0s - loss: 2.4271e-04 - 35ms/epoch - 35ms/step\n",
            "Epoch 141/300\n",
            "1/1 - 0s - loss: 2.4479e-04 - 34ms/epoch - 34ms/step\n",
            "Epoch 142/300\n",
            "1/1 - 0s - loss: 2.4794e-04 - 34ms/epoch - 34ms/step\n",
            "Epoch 143/300\n",
            "1/1 - 0s - loss: 2.5125e-04 - 36ms/epoch - 36ms/step\n",
            "Epoch 144/300\n",
            "1/1 - 0s - loss: 2.5425e-04 - 35ms/epoch - 35ms/step\n",
            "Epoch 145/300\n",
            "1/1 - 0s - loss: 2.5380e-04 - 34ms/epoch - 34ms/step\n",
            "Epoch 146/300\n",
            "1/1 - 0s - loss: 2.4950e-04 - 34ms/epoch - 34ms/step\n",
            "Epoch 147/300\n",
            "1/1 - 0s - loss: 2.4243e-04 - 34ms/epoch - 34ms/step\n",
            "Epoch 148/300\n",
            "1/1 - 0s - loss: 2.3745e-04 - 36ms/epoch - 36ms/step\n",
            "Epoch 149/300\n",
            "1/1 - 0s - loss: 2.3751e-04 - 34ms/epoch - 34ms/step\n",
            "Epoch 150/300\n",
            "1/1 - 0s - loss: 2.4073e-04 - 32ms/epoch - 32ms/step\n",
            "Epoch 151/300\n",
            "1/1 - 0s - loss: 2.4273e-04 - 32ms/epoch - 32ms/step\n",
            "Epoch 152/300\n",
            "1/1 - 0s - loss: 2.4119e-04 - 33ms/epoch - 33ms/step\n",
            "Epoch 153/300\n",
            "1/1 - 0s - loss: 2.3809e-04 - 33ms/epoch - 33ms/step\n",
            "Epoch 154/300\n",
            "1/1 - 0s - loss: 2.3668e-04 - 34ms/epoch - 34ms/step\n",
            "Epoch 155/300\n",
            "1/1 - 0s - loss: 2.3775e-04 - 34ms/epoch - 34ms/step\n",
            "Epoch 156/300\n",
            "1/1 - 0s - loss: 2.3915e-04 - 34ms/epoch - 34ms/step\n",
            "Epoch 157/300\n",
            "1/1 - 0s - loss: 2.3882e-04 - 34ms/epoch - 34ms/step\n",
            "Epoch 158/300\n",
            "1/1 - 0s - loss: 2.3702e-04 - 33ms/epoch - 33ms/step\n",
            "Epoch 159/300\n",
            "1/1 - 0s - loss: 2.3560e-04 - 34ms/epoch - 34ms/step\n",
            "Epoch 160/300\n",
            "1/1 - 0s - loss: 2.3573e-04 - 36ms/epoch - 36ms/step\n",
            "Epoch 161/300\n",
            "1/1 - 0s - loss: 2.3680e-04 - 33ms/epoch - 33ms/step\n",
            "Epoch 162/300\n",
            "1/1 - 0s - loss: 2.3744e-04 - 34ms/epoch - 34ms/step\n",
            "Epoch 163/300\n",
            "1/1 - 0s - loss: 2.3691e-04 - 34ms/epoch - 34ms/step\n",
            "Epoch 164/300\n",
            "1/1 - 0s - loss: 2.3565e-04 - 34ms/epoch - 34ms/step\n",
            "Epoch 165/300\n",
            "1/1 - 0s - loss: 2.3459e-04 - 33ms/epoch - 33ms/step\n",
            "Epoch 166/300\n",
            "1/1 - 0s - loss: 2.3429e-04 - 33ms/epoch - 33ms/step\n",
            "Epoch 167/300\n",
            "1/1 - 0s - loss: 2.3467e-04 - 34ms/epoch - 34ms/step\n",
            "Epoch 168/300\n",
            "1/1 - 0s - loss: 2.3521e-04 - 32ms/epoch - 32ms/step\n",
            "Epoch 169/300\n",
            "1/1 - 0s - loss: 2.3550e-04 - 32ms/epoch - 32ms/step\n",
            "Epoch 170/300\n",
            "1/1 - 0s - loss: 2.3536e-04 - 35ms/epoch - 35ms/step\n",
            "Epoch 171/300\n",
            "1/1 - 0s - loss: 2.3488e-04 - 39ms/epoch - 39ms/step\n",
            "Epoch 172/300\n",
            "1/1 - 0s - loss: 2.3428e-04 - 35ms/epoch - 35ms/step\n",
            "Epoch 173/300\n",
            "1/1 - 0s - loss: 2.3377e-04 - 34ms/epoch - 34ms/step\n",
            "Epoch 174/300\n",
            "1/1 - 0s - loss: 2.3347e-04 - 36ms/epoch - 36ms/step\n",
            "Epoch 175/300\n",
            "1/1 - 0s - loss: 2.3350e-04 - 36ms/epoch - 36ms/step\n",
            "Epoch 176/300\n",
            "1/1 - 0s - loss: 2.3397e-04 - 35ms/epoch - 35ms/step\n",
            "Epoch 177/300\n",
            "1/1 - 0s - loss: 2.3522e-04 - 34ms/epoch - 34ms/step\n",
            "Epoch 178/300\n",
            "1/1 - 0s - loss: 2.3819e-04 - 34ms/epoch - 34ms/step\n",
            "Epoch 179/300\n",
            "1/1 - 0s - loss: 2.4516e-04 - 34ms/epoch - 34ms/step\n",
            "Epoch 180/300\n",
            "1/1 - 0s - loss: 2.6184e-04 - 33ms/epoch - 33ms/step\n",
            "Epoch 181/300\n",
            "1/1 - 0s - loss: 2.9663e-04 - 34ms/epoch - 34ms/step\n",
            "Epoch 182/300\n",
            "1/1 - 0s - loss: 3.5442e-04 - 33ms/epoch - 33ms/step\n",
            "Epoch 183/300\n",
            "1/1 - 0s - loss: 3.8515e-04 - 36ms/epoch - 36ms/step\n",
            "Epoch 184/300\n",
            "1/1 - 0s - loss: 3.2022e-04 - 33ms/epoch - 33ms/step\n",
            "Epoch 185/300\n",
            "1/1 - 0s - loss: 2.3707e-04 - 32ms/epoch - 32ms/step\n",
            "Epoch 186/300\n",
            "1/1 - 0s - loss: 2.6964e-04 - 34ms/epoch - 34ms/step\n",
            "Epoch 187/300\n",
            "1/1 - 0s - loss: 3.0234e-04 - 32ms/epoch - 32ms/step\n",
            "Epoch 188/300\n",
            "1/1 - 0s - loss: 2.4931e-04 - 34ms/epoch - 34ms/step\n",
            "Epoch 189/300\n",
            "1/1 - 0s - loss: 2.5214e-04 - 34ms/epoch - 34ms/step\n",
            "Epoch 190/300\n",
            "1/1 - 0s - loss: 2.7809e-04 - 33ms/epoch - 33ms/step\n",
            "Epoch 191/300\n",
            "1/1 - 0s - loss: 2.4135e-04 - 32ms/epoch - 32ms/step\n",
            "Epoch 192/300\n",
            "1/1 - 0s - loss: 2.5146e-04 - 34ms/epoch - 34ms/step\n",
            "Epoch 193/300\n",
            "1/1 - 0s - loss: 2.6382e-04 - 33ms/epoch - 33ms/step\n",
            "Epoch 194/300\n",
            "1/1 - 0s - loss: 2.3481e-04 - 33ms/epoch - 33ms/step\n",
            "Epoch 195/300\n",
            "1/1 - 0s - loss: 2.5095e-04 - 32ms/epoch - 32ms/step\n",
            "Epoch 196/300\n",
            "1/1 - 0s - loss: 2.5083e-04 - 33ms/epoch - 33ms/step\n",
            "Epoch 197/300\n",
            "1/1 - 0s - loss: 2.3422e-04 - 32ms/epoch - 32ms/step\n",
            "Epoch 198/300\n",
            "1/1 - 0s - loss: 2.4936e-04 - 34ms/epoch - 34ms/step\n",
            "Epoch 199/300\n",
            "1/1 - 0s - loss: 2.4031e-04 - 34ms/epoch - 34ms/step\n",
            "Epoch 200/300\n",
            "1/1 - 0s - loss: 2.3627e-04 - 34ms/epoch - 34ms/step\n",
            "Epoch 201/300\n",
            "1/1 - 0s - loss: 2.4580e-04 - 34ms/epoch - 34ms/step\n",
            "Epoch 202/300\n",
            "1/1 - 0s - loss: 2.3430e-04 - 33ms/epoch - 33ms/step\n",
            "Epoch 203/300\n",
            "1/1 - 0s - loss: 2.3760e-04 - 34ms/epoch - 34ms/step\n",
            "Epoch 204/300\n",
            "1/1 - 0s - loss: 2.4121e-04 - 33ms/epoch - 33ms/step\n",
            "Epoch 205/300\n",
            "1/1 - 0s - loss: 2.3220e-04 - 33ms/epoch - 33ms/step\n",
            "Epoch 206/300\n",
            "1/1 - 0s - loss: 2.3752e-04 - 33ms/epoch - 33ms/step\n",
            "Epoch 207/300\n",
            "1/1 - 0s - loss: 2.3692e-04 - 34ms/epoch - 34ms/step\n",
            "Epoch 208/300\n",
            "1/1 - 0s - loss: 2.3179e-04 - 33ms/epoch - 33ms/step\n",
            "Epoch 209/300\n",
            "1/1 - 0s - loss: 2.3663e-04 - 34ms/epoch - 34ms/step\n",
            "Epoch 210/300\n",
            "1/1 - 0s - loss: 2.3387e-04 - 34ms/epoch - 34ms/step\n",
            "Epoch 211/300\n",
            "1/1 - 0s - loss: 2.3156e-04 - 34ms/epoch - 34ms/step\n",
            "Epoch 212/300\n",
            "1/1 - 0s - loss: 2.3529e-04 - 36ms/epoch - 36ms/step\n",
            "Epoch 213/300\n",
            "1/1 - 0s - loss: 2.3215e-04 - 34ms/epoch - 34ms/step\n",
            "Epoch 214/300\n",
            "1/1 - 0s - loss: 2.3111e-04 - 35ms/epoch - 35ms/step\n",
            "Epoch 215/300\n",
            "1/1 - 0s - loss: 2.3367e-04 - 33ms/epoch - 33ms/step\n",
            "Epoch 216/300\n",
            "1/1 - 0s - loss: 2.3109e-04 - 34ms/epoch - 34ms/step\n",
            "Epoch 217/300\n",
            "1/1 - 0s - loss: 2.3059e-04 - 34ms/epoch - 34ms/step\n",
            "Epoch 218/300\n",
            "1/1 - 0s - loss: 2.3222e-04 - 35ms/epoch - 35ms/step\n",
            "Epoch 219/300\n",
            "1/1 - 0s - loss: 2.3022e-04 - 37ms/epoch - 37ms/step\n",
            "Epoch 220/300\n",
            "1/1 - 0s - loss: 2.2986e-04 - 34ms/epoch - 34ms/step\n",
            "Epoch 221/300\n",
            "1/1 - 0s - loss: 2.3110e-04 - 33ms/epoch - 33ms/step\n",
            "Epoch 222/300\n",
            "1/1 - 0s - loss: 2.2960e-04 - 33ms/epoch - 33ms/step\n",
            "Epoch 223/300\n",
            "1/1 - 0s - loss: 2.2901e-04 - 33ms/epoch - 33ms/step\n",
            "Epoch 224/300\n",
            "1/1 - 0s - loss: 2.3002e-04 - 34ms/epoch - 34ms/step\n",
            "Epoch 225/300\n",
            "1/1 - 0s - loss: 2.2916e-04 - 35ms/epoch - 35ms/step\n",
            "Epoch 226/300\n",
            "1/1 - 0s - loss: 2.2831e-04 - 34ms/epoch - 34ms/step\n",
            "Epoch 227/300\n",
            "1/1 - 0s - loss: 2.2896e-04 - 34ms/epoch - 34ms/step\n",
            "Epoch 228/300\n",
            "1/1 - 0s - loss: 2.2863e-04 - 33ms/epoch - 33ms/step\n",
            "Epoch 229/300\n",
            "1/1 - 0s - loss: 2.2772e-04 - 33ms/epoch - 33ms/step\n",
            "Epoch 230/300\n",
            "1/1 - 0s - loss: 2.2798e-04 - 35ms/epoch - 35ms/step\n",
            "Epoch 231/300\n",
            "1/1 - 0s - loss: 2.2807e-04 - 35ms/epoch - 35ms/step\n",
            "Epoch 232/300\n",
            "1/1 - 0s - loss: 2.2728e-04 - 32ms/epoch - 32ms/step\n",
            "Epoch 233/300\n",
            "1/1 - 0s - loss: 2.2702e-04 - 33ms/epoch - 33ms/step\n",
            "Epoch 234/300\n",
            "1/1 - 0s - loss: 2.2726e-04 - 33ms/epoch - 33ms/step\n",
            "Epoch 235/300\n",
            "1/1 - 0s - loss: 2.2690e-04 - 33ms/epoch - 33ms/step\n",
            "Epoch 236/300\n",
            "1/1 - 0s - loss: 2.2633e-04 - 32ms/epoch - 32ms/step\n",
            "Epoch 237/300\n",
            "1/1 - 0s - loss: 2.2628e-04 - 32ms/epoch - 32ms/step\n",
            "Epoch 238/300\n",
            "1/1 - 0s - loss: 2.2626e-04 - 35ms/epoch - 35ms/step\n",
            "Epoch 239/300\n",
            "1/1 - 0s - loss: 2.2582e-04 - 33ms/epoch - 33ms/step\n",
            "Epoch 240/300\n",
            "1/1 - 0s - loss: 2.2541e-04 - 35ms/epoch - 35ms/step\n",
            "Epoch 241/300\n",
            "1/1 - 0s - loss: 2.2533e-04 - 33ms/epoch - 33ms/step\n",
            "Epoch 242/300\n",
            "1/1 - 0s - loss: 2.2523e-04 - 33ms/epoch - 33ms/step\n",
            "Epoch 243/300\n",
            "1/1 - 0s - loss: 2.2486e-04 - 32ms/epoch - 32ms/step\n",
            "Epoch 244/300\n",
            "1/1 - 0s - loss: 2.2447e-04 - 32ms/epoch - 32ms/step\n",
            "Epoch 245/300\n",
            "1/1 - 0s - loss: 2.2428e-04 - 32ms/epoch - 32ms/step\n",
            "Epoch 246/300\n",
            "1/1 - 0s - loss: 2.2418e-04 - 34ms/epoch - 34ms/step\n",
            "Epoch 247/300\n",
            "1/1 - 0s - loss: 2.2397e-04 - 35ms/epoch - 35ms/step\n",
            "Epoch 248/300\n",
            "1/1 - 0s - loss: 2.2363e-04 - 37ms/epoch - 37ms/step\n",
            "Epoch 249/300\n",
            "1/1 - 0s - loss: 2.2330e-04 - 33ms/epoch - 33ms/step\n",
            "Epoch 250/300\n",
            "1/1 - 0s - loss: 2.2307e-04 - 35ms/epoch - 35ms/step\n",
            "Epoch 251/300\n",
            "1/1 - 0s - loss: 2.2290e-04 - 37ms/epoch - 37ms/step\n",
            "Epoch 252/300\n",
            "1/1 - 0s - loss: 2.2272e-04 - 34ms/epoch - 34ms/step\n",
            "Epoch 253/300\n",
            "1/1 - 0s - loss: 2.2247e-04 - 35ms/epoch - 35ms/step\n",
            "Epoch 254/300\n",
            "1/1 - 0s - loss: 2.2219e-04 - 35ms/epoch - 35ms/step\n",
            "Epoch 255/300\n",
            "1/1 - 0s - loss: 2.2195e-04 - 35ms/epoch - 35ms/step\n",
            "Epoch 256/300\n",
            "1/1 - 0s - loss: 2.2181e-04 - 34ms/epoch - 34ms/step\n",
            "Epoch 257/300\n",
            "1/1 - 0s - loss: 2.2188e-04 - 34ms/epoch - 34ms/step\n",
            "Epoch 258/300\n",
            "1/1 - 0s - loss: 2.2254e-04 - 34ms/epoch - 34ms/step\n",
            "Epoch 259/300\n",
            "1/1 - 0s - loss: 2.2501e-04 - 33ms/epoch - 33ms/step\n",
            "Epoch 260/300\n",
            "1/1 - 0s - loss: 2.3345e-04 - 33ms/epoch - 33ms/step\n",
            "Epoch 261/300\n",
            "1/1 - 0s - loss: 2.6079e-04 - 33ms/epoch - 33ms/step\n",
            "Epoch 262/300\n",
            "1/1 - 0s - loss: 3.2958e-04 - 33ms/epoch - 33ms/step\n",
            "Epoch 263/300\n",
            "1/1 - 0s - loss: 4.2903e-04 - 39ms/epoch - 39ms/step\n",
            "Epoch 264/300\n",
            "1/1 - 0s - loss: 4.2744e-04 - 33ms/epoch - 33ms/step\n",
            "Epoch 265/300\n",
            "1/1 - 0s - loss: 2.6128e-04 - 33ms/epoch - 33ms/step\n",
            "Epoch 266/300\n",
            "1/1 - 0s - loss: 2.5875e-04 - 32ms/epoch - 32ms/step\n",
            "Epoch 267/300\n",
            "1/1 - 0s - loss: 3.3924e-04 - 32ms/epoch - 32ms/step\n",
            "Epoch 268/300\n",
            "1/1 - 0s - loss: 2.4095e-04 - 33ms/epoch - 33ms/step\n",
            "Epoch 269/300\n",
            "1/1 - 0s - loss: 2.7068e-04 - 35ms/epoch - 35ms/step\n",
            "Epoch 270/300\n",
            "1/1 - 0s - loss: 2.9003e-04 - 33ms/epoch - 33ms/step\n",
            "Epoch 271/300\n",
            "1/1 - 0s - loss: 2.2704e-04 - 33ms/epoch - 33ms/step\n",
            "Epoch 272/300\n",
            "1/1 - 0s - loss: 2.8569e-04 - 34ms/epoch - 34ms/step\n",
            "Epoch 273/300\n",
            "1/1 - 0s - loss: 2.4158e-04 - 34ms/epoch - 34ms/step\n",
            "Epoch 274/300\n",
            "1/1 - 0s - loss: 2.5076e-04 - 34ms/epoch - 34ms/step\n",
            "Epoch 275/300\n",
            "1/1 - 0s - loss: 2.5842e-04 - 34ms/epoch - 34ms/step\n",
            "Epoch 276/300\n",
            "1/1 - 0s - loss: 2.2965e-04 - 34ms/epoch - 34ms/step\n",
            "Epoch 277/300\n",
            "1/1 - 0s - loss: 2.6005e-04 - 33ms/epoch - 33ms/step\n",
            "Epoch 278/300\n",
            "1/1 - 0s - loss: 2.2704e-04 - 34ms/epoch - 34ms/step\n",
            "Epoch 279/300\n",
            "1/1 - 0s - loss: 2.4814e-04 - 34ms/epoch - 34ms/step\n",
            "Epoch 280/300\n",
            "1/1 - 0s - loss: 2.3597e-04 - 35ms/epoch - 35ms/step\n",
            "Epoch 281/300\n",
            "1/1 - 0s - loss: 2.3398e-04 - 33ms/epoch - 33ms/step\n",
            "Epoch 282/300\n",
            "1/1 - 0s - loss: 2.4150e-04 - 34ms/epoch - 34ms/step\n",
            "Epoch 283/300\n",
            "1/1 - 0s - loss: 2.2595e-04 - 34ms/epoch - 34ms/step\n",
            "Epoch 284/300\n",
            "1/1 - 0s - loss: 2.4089e-04 - 33ms/epoch - 33ms/step\n",
            "Epoch 285/300\n",
            "1/1 - 0s - loss: 2.2514e-04 - 35ms/epoch - 35ms/step\n",
            "Epoch 286/300\n",
            "1/1 - 0s - loss: 2.3423e-04 - 35ms/epoch - 35ms/step\n",
            "Epoch 287/300\n",
            "1/1 - 0s - loss: 2.2935e-04 - 34ms/epoch - 34ms/step\n",
            "Epoch 288/300\n",
            "1/1 - 0s - loss: 2.2692e-04 - 33ms/epoch - 33ms/step\n",
            "Epoch 289/300\n",
            "1/1 - 0s - loss: 2.3178e-04 - 33ms/epoch - 33ms/step\n",
            "Epoch 290/300\n",
            "1/1 - 0s - loss: 2.2325e-04 - 35ms/epoch - 35ms/step\n",
            "Epoch 291/300\n",
            "1/1 - 0s - loss: 2.3062e-04 - 33ms/epoch - 33ms/step\n",
            "Epoch 292/300\n",
            "1/1 - 0s - loss: 2.2370e-04 - 33ms/epoch - 33ms/step\n",
            "Epoch 293/300\n",
            "1/1 - 0s - loss: 2.2625e-04 - 34ms/epoch - 34ms/step\n",
            "Epoch 294/300\n",
            "1/1 - 0s - loss: 2.2619e-04 - 34ms/epoch - 34ms/step\n",
            "Epoch 295/300\n",
            "1/1 - 0s - loss: 2.2251e-04 - 35ms/epoch - 35ms/step\n",
            "Epoch 296/300\n",
            "1/1 - 0s - loss: 2.2649e-04 - 35ms/epoch - 35ms/step\n",
            "Epoch 297/300\n",
            "1/1 - 0s - loss: 2.2171e-04 - 35ms/epoch - 35ms/step\n",
            "Epoch 298/300\n",
            "1/1 - 0s - loss: 2.2407e-04 - 32ms/epoch - 32ms/step\n",
            "Epoch 299/300\n",
            "1/1 - 0s - loss: 2.2313e-04 - 33ms/epoch - 33ms/step\n",
            "Epoch 300/300\n",
            "1/1 - 0s - loss: 2.2100e-04 - 33ms/epoch - 33ms/step\n",
            "---Predicted---\n",
            "[[[0.28468513 0.28226924 0.28253245 0.02180307]\n",
            "  [0.29444274 0.2905458  0.2910063  0.01461534]\n",
            "  [0.2898079  0.28842998 0.28791657 0.0149858 ]\n",
            "  [0.28992522 0.28866157 0.28829598 0.01673568]\n",
            "  [0.29092732 0.2892456  0.28950343 0.01743315]]\n",
            "\n",
            " [[0.2863088  0.28390118 0.2841479  0.02148346]\n",
            "  [0.2963709  0.29246587 0.29288036 0.01396014]\n",
            "  [0.29174578 0.29034245 0.2898336  0.01427351]\n",
            "  [0.29192156 0.29061943 0.29024875 0.01603877]\n",
            "  [0.2929108  0.29118246 0.2914716  0.01672101]]\n",
            "\n",
            " [[0.29010725 0.2877589  0.28790557 0.02303461]\n",
            "  [0.3003076  0.29662904 0.29671848 0.01536025]\n",
            "  [0.29580513 0.29445046 0.29382277 0.01565558]\n",
            "  [0.29614818 0.29479507 0.2943682  0.01761468]\n",
            "  [0.29718056 0.29536152 0.29566702 0.01830601]]\n",
            "\n",
            " ...\n",
            "\n",
            " [[0.7585113  0.7557466  0.7550988  0.1726857 ]\n",
            "  [0.7600863  0.75779164 0.7564286  0.17480487]\n",
            "  [0.75787085 0.755488   0.7552321  0.1715576 ]\n",
            "  [0.75797004 0.7561654  0.7530527  0.17182729]\n",
            "  [0.758829   0.7548949  0.75264114 0.17066371]]\n",
            "\n",
            " [[0.7552802  0.7527114  0.7516491  0.18257949]\n",
            "  [0.75729233 0.75528336 0.75345486 0.18473834]\n",
            "  [0.7549735  0.75277704 0.75204986 0.18118662]\n",
            "  [0.75516427 0.7536077  0.74980307 0.18120012]\n",
            "  [0.7560051  0.7524042  0.74940246 0.17994979]]\n",
            "\n",
            " [[0.75560373 0.7525086  0.7514257  0.20810813]\n",
            "  [0.75858015 0.75662786 0.75474256 0.21071392]\n",
            "  [0.75569576 0.7533469  0.7523631  0.20598376]\n",
            "  [0.75612605 0.7545212  0.7497389  0.20565607]\n",
            "  [0.7568222  0.75338274 0.74924725 0.20427053]]]\n",
            "---Actual---\n",
            "[[[0.28957954 0.28795945 0.28706854 0.02206789]\n",
            "  [0.28482445 0.28739816 0.28446268 0.01935761]\n",
            "  [0.29221933 0.29637449 0.2944316  0.02395038]\n",
            "  [0.29528825 0.29405593 0.29535361 0.01847939]\n",
            "  [0.29524057 0.29280382 0.29734912 0.01242433]]\n",
            "\n",
            " [[0.28482445 0.28739816 0.28446268 0.01935761]\n",
            "  [0.29221933 0.29637449 0.2944316  0.02395038]\n",
            "  [0.29528825 0.29405593 0.29535361 0.01847939]\n",
            "  [0.29524057 0.29280382 0.29734912 0.01242433]\n",
            "  [0.29712614 0.300541   0.29933165 0.02448823]]\n",
            "\n",
            " [[0.29221933 0.29637449 0.2944316  0.02395038]\n",
            "  [0.29528825 0.29405593 0.29535361 0.01847939]\n",
            "  [0.29524057 0.29280382 0.29734912 0.01242433]\n",
            "  [0.29712614 0.300541   0.29933165 0.02448823]\n",
            "  [0.30408322 0.30233281 0.30329671 0.02890872]]\n",
            "\n",
            " ...\n",
            "\n",
            " [[0.76278717 0.75815707 0.7621787  0.17784387]\n",
            "  [0.75586909 0.75372287 0.7541144  0.14374476]\n",
            "  [0.75567404 0.74964272 0.75297596 0.18857994]\n",
            "  [0.75560902 0.75224192 0.75351271 0.18463007]\n",
            "  [0.76241873 0.75812684 0.75962479 0.23352857]]\n",
            "\n",
            " [[0.75586909 0.75372287 0.7541144  0.14374476]\n",
            "  [0.75567404 0.74964272 0.75297596 0.18857994]\n",
            "  [0.75560902 0.75224192 0.75351271 0.18463007]\n",
            "  [0.76241873 0.75812684 0.75962479 0.23352857]\n",
            "  [0.75942349 0.75473319 0.756335   0.22801136]]\n",
            "\n",
            " [[0.75567404 0.74964272 0.75297596 0.18857994]\n",
            "  [0.75560902 0.75224192 0.75351271 0.18463007]\n",
            "  [0.76241873 0.75812684 0.75962479 0.23352857]\n",
            "  [0.75942349 0.75473319 0.756335   0.22801136]\n",
            "  [0.76007369 0.75534198 0.75788467 0.275519  ]]]\n"
          ]
        }
      ]
    },
    {
      "cell_type": "markdown",
      "source": [
        "#CNN"
      ],
      "metadata": {
        "id": "88Wy2NySoXvt"
      }
    },
    {
      "cell_type": "code",
      "source": [
        "model = Sequential()\n",
        "model.add(Conv1D(filters=128, kernel_size=3, activation='relu'))\n",
        "model.add(Conv1D(filters=64, kernel_size=3, activation='relu'))\n",
        "model.add(MaxPooling1D(pool_size=2))\n",
        "model.add(Flatten())\n",
        "model.add(Dense(100, activation='relu'))\n",
        "model.add(Dense(1, activation='sigmoid'))\n",
        "model.compile(loss='mse', optimizer='adam')\n"
      ],
      "metadata": {
        "id": "a4klDNrXoXhg"
      },
      "execution_count": null,
      "outputs": []
    }
  ],
  "metadata": {
    "accelerator": "GPU",
    "colab": {
      "collapsed_sections": [],
      "name": "LSTM_Kospi_predict.ipynb",
      "provenance": [],
      "machine_shape": "hm",
      "include_colab_link": true
    },
    "kernelspec": {
      "display_name": "Python 3",
      "language": "python",
      "name": "python3"
    },
    "language_info": {
      "codemirror_mode": {
        "name": "ipython",
        "version": 3
      },
      "file_extension": ".py",
      "mimetype": "text/x-python",
      "name": "python",
      "nbconvert_exporter": "python",
      "pygments_lexer": "ipython3",
      "version": "3.6.10"
    }
  },
  "nbformat": 4,
  "nbformat_minor": 0
}