{
  "cells": [
    {
      "cell_type": "markdown",
      "metadata": {
        "id": "view-in-github",
        "colab_type": "text"
      },
      "source": [
        "<a href=\"https://colab.research.google.com/github/Canihelpme/DeepLearning_finance/blob/main/LSTM_Kospi_predict.ipynb\" target=\"_parent\"><img src=\"https://colab.research.google.com/assets/colab-badge.svg\" alt=\"Open In Colab\"/></a>"
      ]
    },
    {
      "cell_type": "markdown",
      "metadata": {
        "id": "y_tRTgM0lSU2"
      },
      "source": [
        "# LSTM을 활용한 주가 예측 모델"
      ]
    },
    {
      "cell_type": "markdown",
      "metadata": {
        "id": "S-A1PUxllSU4"
      },
      "source": [
        "이번 튜토리얼 에서는 다음과 같은 **프로세스 파이프라인**으로 주가 예측을 진행합니다.\n",
        "\n",
        "- FinanceDataReader를 활용하여 주가 데이터 받아오기\n",
        "- TensorFlow Dataset 클래스를 활용하여 주가 데이터 구축\n",
        "- LSTM 을 활용한 주가 예측 모델 구축"
      ]
    },
    {
      "cell_type": "code",
      "source": [
        "from google.colab import drive\n",
        "drive.mount('/content/drive')"
      ],
      "metadata": {
        "colab": {
          "base_uri": "https://localhost:8080/"
        },
        "id": "1Zq2KFVdOg1Q",
        "outputId": "ab7103f7-74be-4f65-c38e-459571ff9116"
      },
      "execution_count": 44,
      "outputs": [
        {
          "output_type": "stream",
          "name": "stdout",
          "text": [
            "Mounted at /content/drive\n"
          ]
        }
      ]
    },
    {
      "cell_type": "code",
      "source": [
        "import os\n",
        "from pathlib import Path\n",
        "\n",
        "folder = \"\"\n",
        "project_dir = \"\"\n",
        "\n",
        "base_path = Path(\"/content/drive/My Drive/\")\n",
        "project_path = base_path / folder / project_dir\n",
        "os.chdir(project_path)\n",
        "for x in list(project_path.glob(\"*\")):\n",
        "    if x.is_dir():\n",
        "        dir_name = str(x.relative_to(project_path))\n",
        "        os.rename(dir_name, dir_name.split(\" \", 1)[0])\n",
        "print(f\"현재 디렉토리 위치: {os.getcwd()}\")"
      ],
      "metadata": {
        "colab": {
          "base_uri": "https://localhost:8080/"
        },
        "id": "Ae8YOtMkOrf_",
        "outputId": "8ddf557a-9ee4-4c8e-fffb-608cb9fe8422"
      },
      "execution_count": 45,
      "outputs": [
        {
          "output_type": "stream",
          "name": "stdout",
          "text": [
            "현재 디렉토리 위치: /content/drive/My Drive\n"
          ]
        }
      ]
    },
    {
      "cell_type": "markdown",
      "metadata": {
        "id": "KROrRst9lSU5"
      },
      "source": [
        "## 필요한 모듈 import"
      ]
    },
    {
      "cell_type": "code",
      "execution_count": 46,
      "metadata": {
        "id": "-NLSi-_FlSU6"
      },
      "outputs": [],
      "source": [
        "import pandas as pd\n",
        "import numpy as np\n",
        "import matplotlib.pyplot as plt\n",
        "import seaborn as sns\n",
        "import warnings\n",
        "import os\n",
        "\n",
        "%matplotlib inline\n",
        "warnings.filterwarnings('ignore')\n",
        "\n",
        "plt.rcParams['font.family'] = 'NanumGothic'"
      ]
    },
    {
      "cell_type": "code",
      "source": [
        "%matplotlib inline\n",
        "filename = '/content/drive/MyDrive/Financial_data/Data/train/ko_train.csv'\n",
        "data = pd.read_csv(filename, sep=\",\",encoding='UTF-8')\n",
        "data.head"
      ],
      "metadata": {
        "colab": {
          "base_uri": "https://localhost:8080/"
        },
        "id": "02o2fxR-O2C0",
        "outputId": "42f63cc2-7e1d-41b7-cee2-fbad1ab21b6d"
      },
      "execution_count": 56,
      "outputs": [
        {
          "output_type": "execute_result",
          "data": {
            "text/plain": [
              "<bound method NDFrame.head of                Date       End      Open      High       Low   Amount     Val\n",
              "0     2020년 02월 21일  2,162.84  2,165.65  2,184.43  2,160.28  635.47M  -1.49%\n",
              "1     2020년 02월 20일  2,195.50  2,223.55  2,228.18  2,186.72  709.56M  -0.67%\n",
              "2     2020년 02월 19일  2,210.34  2,222.51  2,226.00  2,191.20  591.16M   0.07%\n",
              "3     2020년 02월 18일  2,208.88  2,225.98  2,232.93  2,205.21  470.42M  -1.48%\n",
              "4     2020년 02월 17일  2,242.17  2,243.07  2,250.05  2,230.26  458.25M  -0.06%\n",
              "...             ...       ...       ...       ...       ...      ...     ...\n",
              "5994  1996년 04월 25일    964.69    957.56    977.44    957.56   57.17M   0.84%\n",
              "5995  1996년 04월 24일    956.61     940.5    956.65    934.53   46.24M   1.71%\n",
              "5996  1996년 04월 23일    940.55    951.47    957.95    940.55   52.69M  -1.06%\n",
              "5997  1996년 04월 22일    950.61    941.75    957.61    941.75   57.15M   0.95%\n",
              "5998  1996년 04월 20일    941.69     948.6    952.21    941.66   42.81M  -0.70%\n",
              "\n",
              "[5999 rows x 7 columns]>"
            ]
          },
          "metadata": {},
          "execution_count": 56
        }
      ]
    },
    {
      "cell_type": "code",
      "source": [
        "date_index = data\n",
        "date_index = date_index.copy()\n",
        "print(date_index)"
      ],
      "metadata": {
        "colab": {
          "base_uri": "https://localhost:8080/"
        },
        "id": "RUEe-3GwPBVE",
        "outputId": "f64cd2b2-f926-489c-bc62-5ea8f90c0389"
      },
      "execution_count": 57,
      "outputs": [
        {
          "output_type": "stream",
          "name": "stdout",
          "text": [
            "               Date       End      Open      High       Low   Amount     Val\n",
            "0     2020년 02월 21일  2,162.84  2,165.65  2,184.43  2,160.28  635.47M  -1.49%\n",
            "1     2020년 02월 20일  2,195.50  2,223.55  2,228.18  2,186.72  709.56M  -0.67%\n",
            "2     2020년 02월 19일  2,210.34  2,222.51  2,226.00  2,191.20  591.16M   0.07%\n",
            "3     2020년 02월 18일  2,208.88  2,225.98  2,232.93  2,205.21  470.42M  -1.48%\n",
            "4     2020년 02월 17일  2,242.17  2,243.07  2,250.05  2,230.26  458.25M  -0.06%\n",
            "...             ...       ...       ...       ...       ...      ...     ...\n",
            "5994  1996년 04월 25일    964.69    957.56    977.44    957.56   57.17M   0.84%\n",
            "5995  1996년 04월 24일    956.61     940.5    956.65    934.53   46.24M   1.71%\n",
            "5996  1996년 04월 23일    940.55    951.47    957.95    940.55   52.69M  -1.06%\n",
            "5997  1996년 04월 22일    950.61    941.75    957.61    941.75   57.15M   0.95%\n",
            "5998  1996년 04월 20일    941.69     948.6    952.21    941.66   42.81M  -0.70%\n",
            "\n",
            "[5999 rows x 7 columns]\n"
          ]
        }
      ]
    },
    {
      "cell_type": "code",
      "source": [
        "date_index['Date'] = date_index.Date.apply(str).str.replace(\"년\",\"\").str.replace(\"월\",\"\").str.replace(\"일\",\"\")\n",
        "date_index['Date'] = date_index.Date.str.replace(\" \",\"\")\n",
        "\n",
        "date_index['Amount'] = date_index.Amount.apply(str).str.replace(\"B\", \"0000000\").str.replace(\"M\",\"0000\").str.replace(\"K\",\"0\").str.replace(\".\",\"\")\n",
        "date_index['Amount'] = date_index.Amount.astype(int)\n",
        "\n",
        "date_index['End'] = date_index.End.apply(str).str.replace(\",\",\"\").astype(float)\n",
        "date_index['Open'] = date_index.Open.apply(str).str.replace(\",\",\"\").astype(float)\n",
        "date_index['High'] = date_index.High.apply(str).str.replace(\",\",\"\").astype(float)\n",
        "date_index['Low'] = date_index.Low.apply(str).str.replace(\",\",\"\").astype(float)\n",
        "\n",
        "date_index = date_index.loc[::-1].reset_index(drop=True)\n",
        "print(date_index)"
      ],
      "metadata": {
        "colab": {
          "base_uri": "https://localhost:8080/"
        },
        "id": "T_RwqoCjPEJb",
        "outputId": "9f5f7ca5-ae2d-4c9f-c995-5a826a965a20"
      },
      "execution_count": 58,
      "outputs": [
        {
          "output_type": "stream",
          "name": "stdout",
          "text": [
            "          Date      End     Open     High      Low     Amount     Val\n",
            "0     19960420   941.69   948.60   952.21   941.66   42810000  -0.70%\n",
            "1     19960422   950.61   941.75   957.61   941.75   57150000   0.95%\n",
            "2     19960423   940.55   951.47   957.95   940.55   52690000  -1.06%\n",
            "3     19960424   956.61   940.50   956.65   934.53   46240000   1.71%\n",
            "4     19960425   964.69   957.56   977.44   957.56   57170000   0.84%\n",
            "...        ...      ...      ...      ...      ...        ...     ...\n",
            "5994  20200217  2242.17  2243.07  2250.05  2230.26  458250000  -0.06%\n",
            "5995  20200218  2208.88  2225.98  2232.93  2205.21  470420000  -1.48%\n",
            "5996  20200219  2210.34  2222.51  2226.00  2191.20  591160000   0.07%\n",
            "5997  20200220  2195.50  2223.55  2228.18  2186.72  709560000  -0.67%\n",
            "5998  20200221  2162.84  2165.65  2184.43  2160.28  635470000  -1.49%\n",
            "\n",
            "[5999 rows x 7 columns]\n"
          ]
        }
      ]
    },
    {
      "cell_type": "code",
      "source": [
        "date_index['Date'] = pd.to_datetime(date_index['Date'], format='%Y%m%d')\n",
        "#date_index['year'] = date_index['date'].dt.year\n",
        "date_index = date_index.set_index('Date')\n",
        "print(date_index)"
      ],
      "metadata": {
        "colab": {
          "base_uri": "https://localhost:8080/"
        },
        "id": "J40VPlqJPGGC",
        "outputId": "a721e833-b4fb-4bbe-8020-29c14608043d"
      },
      "execution_count": 59,
      "outputs": [
        {
          "output_type": "stream",
          "name": "stdout",
          "text": [
            "                End     Open     High      Low     Amount     Val\n",
            "Date                                                             \n",
            "1996-04-20   941.69   948.60   952.21   941.66   42810000  -0.70%\n",
            "1996-04-22   950.61   941.75   957.61   941.75   57150000   0.95%\n",
            "1996-04-23   940.55   951.47   957.95   940.55   52690000  -1.06%\n",
            "1996-04-24   956.61   940.50   956.65   934.53   46240000   1.71%\n",
            "1996-04-25   964.69   957.56   977.44   957.56   57170000   0.84%\n",
            "...             ...      ...      ...      ...        ...     ...\n",
            "2020-02-17  2242.17  2243.07  2250.05  2230.26  458250000  -0.06%\n",
            "2020-02-18  2208.88  2225.98  2232.93  2205.21  470420000  -1.48%\n",
            "2020-02-19  2210.34  2222.51  2226.00  2191.20  591160000   0.07%\n",
            "2020-02-20  2195.50  2223.55  2228.18  2186.72  709560000  -0.67%\n",
            "2020-02-21  2162.84  2165.65  2184.43  2160.28  635470000  -1.49%\n",
            "\n",
            "[5999 rows x 6 columns]\n"
          ]
        }
      ]
    },
    {
      "cell_type": "markdown",
      "metadata": {
        "id": "lfN89diplSU8"
      },
      "source": [
        "## 데이터 (FinanceDataReader)"
      ]
    },
    {
      "cell_type": "markdown",
      "metadata": {
        "id": "BqawRUMLlSU9"
      },
      "source": [
        "**FinanceDataReader**는 주가 데이터를 편리하게 가져올 수 있는 파이썬 패키지입니다.\n",
        "\n",
        "- [GitHub Repo](https://github.com/FinanceData/FinanceDataReader)"
      ]
    },
    {
      "cell_type": "markdown",
      "metadata": {
        "id": "X1OALP6AlSU-"
      },
      "source": [
        "**FinanceDataReader**가 아직 설치 되지 않으신 분들은 아래의 주석을 해제한 후 명령어로 설치해 주시기 바랍니다."
      ]
    },
    {
      "cell_type": "code",
      "execution_count": 2,
      "metadata": {
        "id": "NYLgPwdSlSVA",
        "outputId": "f5738ce6-9bcd-4a69-fa6b-7af0fb5caf62",
        "colab": {
          "base_uri": "https://localhost:8080/"
        }
      },
      "outputs": [
        {
          "output_type": "stream",
          "name": "stdout",
          "text": [
            "Collecting finance-datareader\n",
            "  Downloading finance_datareader-0.9.33-py3-none-any.whl (48 kB)\n",
            "\u001b[?25l\r\u001b[K     |██████▊                         | 10 kB 19.9 MB/s eta 0:00:01\r\u001b[K     |█████████████▍                  | 20 kB 23.3 MB/s eta 0:00:01\r\u001b[K     |████████████████████▏           | 30 kB 11.4 MB/s eta 0:00:01\r\u001b[K     |██████████████████████████▉     | 40 kB 8.9 MB/s eta 0:00:01\r\u001b[K     |████████████████████████████████| 48 kB 2.4 MB/s \n",
            "\u001b[?25hRequirement already satisfied: lxml in /usr/local/lib/python3.7/dist-packages (from finance-datareader) (4.2.6)\n",
            "Collecting requests-file\n",
            "  Downloading requests_file-1.5.1-py2.py3-none-any.whl (3.7 kB)\n",
            "Requirement already satisfied: requests>=2.3.0 in /usr/local/lib/python3.7/dist-packages (from finance-datareader) (2.23.0)\n",
            "Requirement already satisfied: tqdm in /usr/local/lib/python3.7/dist-packages (from finance-datareader) (4.64.0)\n",
            "Requirement already satisfied: pandas>=0.19.2 in /usr/local/lib/python3.7/dist-packages (from finance-datareader) (1.3.5)\n",
            "Requirement already satisfied: numpy>=1.17.3 in /usr/local/lib/python3.7/dist-packages (from pandas>=0.19.2->finance-datareader) (1.21.6)\n",
            "Requirement already satisfied: pytz>=2017.3 in /usr/local/lib/python3.7/dist-packages (from pandas>=0.19.2->finance-datareader) (2022.1)\n",
            "Requirement already satisfied: python-dateutil>=2.7.3 in /usr/local/lib/python3.7/dist-packages (from pandas>=0.19.2->finance-datareader) (2.8.2)\n",
            "Requirement already satisfied: six>=1.5 in /usr/local/lib/python3.7/dist-packages (from python-dateutil>=2.7.3->pandas>=0.19.2->finance-datareader) (1.15.0)\n",
            "Requirement already satisfied: certifi>=2017.4.17 in /usr/local/lib/python3.7/dist-packages (from requests>=2.3.0->finance-datareader) (2021.10.8)\n",
            "Requirement already satisfied: idna<3,>=2.5 in /usr/local/lib/python3.7/dist-packages (from requests>=2.3.0->finance-datareader) (2.10)\n",
            "Requirement already satisfied: chardet<4,>=3.0.2 in /usr/local/lib/python3.7/dist-packages (from requests>=2.3.0->finance-datareader) (3.0.4)\n",
            "Requirement already satisfied: urllib3!=1.25.0,!=1.25.1,<1.26,>=1.21.1 in /usr/local/lib/python3.7/dist-packages (from requests>=2.3.0->finance-datareader) (1.24.3)\n",
            "Installing collected packages: requests-file, finance-datareader\n",
            "Successfully installed finance-datareader-0.9.33 requests-file-1.5.1\n"
          ]
        }
      ],
      "source": [
        " !pip install finance-datareader"
      ]
    },
    {
      "cell_type": "code",
      "execution_count": 3,
      "metadata": {
        "id": "ReUSVfMXlSVB"
      },
      "outputs": [],
      "source": [
        "import FinanceDataReader as fdr"
      ]
    },
    {
      "cell_type": "code",
      "metadata": {
        "id": "RJtxeKQm0l2w"
      },
      "source": [
        "## 주가데이터 가져오기"
      ],
      "execution_count": 13,
      "outputs": []
    },
    {
      "cell_type": "markdown",
      "metadata": {
        "id": "xk8n7Y-8lSVM"
      },
      "source": [
        "지난 주식 예측 튜토리얼에서는 **삼성전자** 주가데이터로 실습을 해봤으니, \n",
        "\n",
        "이번에는 글로벌 증시의 대장주인 **Apple**사의 주가데이터를 가져와서 예측해 보도록 하겠습니다."
      ]
    },
    {
      "cell_type": "code",
      "execution_count": 14,
      "metadata": {
        "id": "0HwgHRnQlSVM"
      },
      "outputs": [],
      "source": [
        "# 삼성전자 주식코드: 005930\n",
        "STOCK_CODE = '005930'"
      ]
    },
    {
      "cell_type": "code",
      "execution_count": 61,
      "metadata": {
        "id": "eozlNzhQlSVM"
      },
      "outputs": [],
      "source": [
        "#stock = fdr.DataReader(STOCK_CODE)\n",
        "stock = date_index"
      ]
    },
    {
      "cell_type": "code",
      "execution_count": 62,
      "metadata": {
        "id": "8DaqSpkJlSVN",
        "outputId": "5a0d3b5b-3d19-4ad6-a384-544d9064db12",
        "colab": {
          "base_uri": "https://localhost:8080/",
          "height": 238
        }
      },
      "outputs": [
        {
          "output_type": "execute_result",
          "data": {
            "text/plain": [
              "               End    Open    High     Low    Amount     Val\n",
              "Date                                                        \n",
              "1996-04-20  941.69  948.60  952.21  941.66  42810000  -0.70%\n",
              "1996-04-22  950.61  941.75  957.61  941.75  57150000   0.95%\n",
              "1996-04-23  940.55  951.47  957.95  940.55  52690000  -1.06%\n",
              "1996-04-24  956.61  940.50  956.65  934.53  46240000   1.71%\n",
              "1996-04-25  964.69  957.56  977.44  957.56  57170000   0.84%"
            ],
            "text/html": [
              "\n",
              "  <div id=\"df-08e33830-3798-4c5f-8238-3097c519d2a3\">\n",
              "    <div class=\"colab-df-container\">\n",
              "      <div>\n",
              "<style scoped>\n",
              "    .dataframe tbody tr th:only-of-type {\n",
              "        vertical-align: middle;\n",
              "    }\n",
              "\n",
              "    .dataframe tbody tr th {\n",
              "        vertical-align: top;\n",
              "    }\n",
              "\n",
              "    .dataframe thead th {\n",
              "        text-align: right;\n",
              "    }\n",
              "</style>\n",
              "<table border=\"1\" class=\"dataframe\">\n",
              "  <thead>\n",
              "    <tr style=\"text-align: right;\">\n",
              "      <th></th>\n",
              "      <th>End</th>\n",
              "      <th>Open</th>\n",
              "      <th>High</th>\n",
              "      <th>Low</th>\n",
              "      <th>Amount</th>\n",
              "      <th>Val</th>\n",
              "    </tr>\n",
              "    <tr>\n",
              "      <th>Date</th>\n",
              "      <th></th>\n",
              "      <th></th>\n",
              "      <th></th>\n",
              "      <th></th>\n",
              "      <th></th>\n",
              "      <th></th>\n",
              "    </tr>\n",
              "  </thead>\n",
              "  <tbody>\n",
              "    <tr>\n",
              "      <th>1996-04-20</th>\n",
              "      <td>941.69</td>\n",
              "      <td>948.60</td>\n",
              "      <td>952.21</td>\n",
              "      <td>941.66</td>\n",
              "      <td>42810000</td>\n",
              "      <td>-0.70%</td>\n",
              "    </tr>\n",
              "    <tr>\n",
              "      <th>1996-04-22</th>\n",
              "      <td>950.61</td>\n",
              "      <td>941.75</td>\n",
              "      <td>957.61</td>\n",
              "      <td>941.75</td>\n",
              "      <td>57150000</td>\n",
              "      <td>0.95%</td>\n",
              "    </tr>\n",
              "    <tr>\n",
              "      <th>1996-04-23</th>\n",
              "      <td>940.55</td>\n",
              "      <td>951.47</td>\n",
              "      <td>957.95</td>\n",
              "      <td>940.55</td>\n",
              "      <td>52690000</td>\n",
              "      <td>-1.06%</td>\n",
              "    </tr>\n",
              "    <tr>\n",
              "      <th>1996-04-24</th>\n",
              "      <td>956.61</td>\n",
              "      <td>940.50</td>\n",
              "      <td>956.65</td>\n",
              "      <td>934.53</td>\n",
              "      <td>46240000</td>\n",
              "      <td>1.71%</td>\n",
              "    </tr>\n",
              "    <tr>\n",
              "      <th>1996-04-25</th>\n",
              "      <td>964.69</td>\n",
              "      <td>957.56</td>\n",
              "      <td>977.44</td>\n",
              "      <td>957.56</td>\n",
              "      <td>57170000</td>\n",
              "      <td>0.84%</td>\n",
              "    </tr>\n",
              "  </tbody>\n",
              "</table>\n",
              "</div>\n",
              "      <button class=\"colab-df-convert\" onclick=\"convertToInteractive('df-08e33830-3798-4c5f-8238-3097c519d2a3')\"\n",
              "              title=\"Convert this dataframe to an interactive table.\"\n",
              "              style=\"display:none;\">\n",
              "        \n",
              "  <svg xmlns=\"http://www.w3.org/2000/svg\" height=\"24px\"viewBox=\"0 0 24 24\"\n",
              "       width=\"24px\">\n",
              "    <path d=\"M0 0h24v24H0V0z\" fill=\"none\"/>\n",
              "    <path d=\"M18.56 5.44l.94 2.06.94-2.06 2.06-.94-2.06-.94-.94-2.06-.94 2.06-2.06.94zm-11 1L8.5 8.5l.94-2.06 2.06-.94-2.06-.94L8.5 2.5l-.94 2.06-2.06.94zm10 10l.94 2.06.94-2.06 2.06-.94-2.06-.94-.94-2.06-.94 2.06-2.06.94z\"/><path d=\"M17.41 7.96l-1.37-1.37c-.4-.4-.92-.59-1.43-.59-.52 0-1.04.2-1.43.59L10.3 9.45l-7.72 7.72c-.78.78-.78 2.05 0 2.83L4 21.41c.39.39.9.59 1.41.59.51 0 1.02-.2 1.41-.59l7.78-7.78 2.81-2.81c.8-.78.8-2.07 0-2.86zM5.41 20L4 18.59l7.72-7.72 1.47 1.35L5.41 20z\"/>\n",
              "  </svg>\n",
              "      </button>\n",
              "      \n",
              "  <style>\n",
              "    .colab-df-container {\n",
              "      display:flex;\n",
              "      flex-wrap:wrap;\n",
              "      gap: 12px;\n",
              "    }\n",
              "\n",
              "    .colab-df-convert {\n",
              "      background-color: #E8F0FE;\n",
              "      border: none;\n",
              "      border-radius: 50%;\n",
              "      cursor: pointer;\n",
              "      display: none;\n",
              "      fill: #1967D2;\n",
              "      height: 32px;\n",
              "      padding: 0 0 0 0;\n",
              "      width: 32px;\n",
              "    }\n",
              "\n",
              "    .colab-df-convert:hover {\n",
              "      background-color: #E2EBFA;\n",
              "      box-shadow: 0px 1px 2px rgba(60, 64, 67, 0.3), 0px 1px 3px 1px rgba(60, 64, 67, 0.15);\n",
              "      fill: #174EA6;\n",
              "    }\n",
              "\n",
              "    [theme=dark] .colab-df-convert {\n",
              "      background-color: #3B4455;\n",
              "      fill: #D2E3FC;\n",
              "    }\n",
              "\n",
              "    [theme=dark] .colab-df-convert:hover {\n",
              "      background-color: #434B5C;\n",
              "      box-shadow: 0px 1px 3px 1px rgba(0, 0, 0, 0.15);\n",
              "      filter: drop-shadow(0px 1px 2px rgba(0, 0, 0, 0.3));\n",
              "      fill: #FFFFFF;\n",
              "    }\n",
              "  </style>\n",
              "\n",
              "      <script>\n",
              "        const buttonEl =\n",
              "          document.querySelector('#df-08e33830-3798-4c5f-8238-3097c519d2a3 button.colab-df-convert');\n",
              "        buttonEl.style.display =\n",
              "          google.colab.kernel.accessAllowed ? 'block' : 'none';\n",
              "\n",
              "        async function convertToInteractive(key) {\n",
              "          const element = document.querySelector('#df-08e33830-3798-4c5f-8238-3097c519d2a3');\n",
              "          const dataTable =\n",
              "            await google.colab.kernel.invokeFunction('convertToInteractive',\n",
              "                                                     [key], {});\n",
              "          if (!dataTable) return;\n",
              "\n",
              "          const docLinkHtml = 'Like what you see? Visit the ' +\n",
              "            '<a target=\"_blank\" href=https://colab.research.google.com/notebooks/data_table.ipynb>data table notebook</a>'\n",
              "            + ' to learn more about interactive tables.';\n",
              "          element.innerHTML = '';\n",
              "          dataTable['output_type'] = 'display_data';\n",
              "          await google.colab.output.renderOutput(dataTable, element);\n",
              "          const docLink = document.createElement('div');\n",
              "          docLink.innerHTML = docLinkHtml;\n",
              "          element.appendChild(docLink);\n",
              "        }\n",
              "      </script>\n",
              "    </div>\n",
              "  </div>\n",
              "  "
            ]
          },
          "metadata": {},
          "execution_count": 62
        }
      ],
      "source": [
        "stock.head()"
      ]
    },
    {
      "cell_type": "code",
      "execution_count": 63,
      "metadata": {
        "id": "keb4TO0VlSVN",
        "outputId": "ddd9b3f5-285b-42b6-f839-f603c391bf28",
        "colab": {
          "base_uri": "https://localhost:8080/",
          "height": 238
        }
      },
      "outputs": [
        {
          "output_type": "execute_result",
          "data": {
            "text/plain": [
              "                End     Open     High      Low     Amount     Val\n",
              "Date                                                             \n",
              "2020-02-17  2242.17  2243.07  2250.05  2230.26  458250000  -0.06%\n",
              "2020-02-18  2208.88  2225.98  2232.93  2205.21  470420000  -1.48%\n",
              "2020-02-19  2210.34  2222.51  2226.00  2191.20  591160000   0.07%\n",
              "2020-02-20  2195.50  2223.55  2228.18  2186.72  709560000  -0.67%\n",
              "2020-02-21  2162.84  2165.65  2184.43  2160.28  635470000  -1.49%"
            ],
            "text/html": [
              "\n",
              "  <div id=\"df-feb40366-8013-4fc0-8eeb-ade0a8734025\">\n",
              "    <div class=\"colab-df-container\">\n",
              "      <div>\n",
              "<style scoped>\n",
              "    .dataframe tbody tr th:only-of-type {\n",
              "        vertical-align: middle;\n",
              "    }\n",
              "\n",
              "    .dataframe tbody tr th {\n",
              "        vertical-align: top;\n",
              "    }\n",
              "\n",
              "    .dataframe thead th {\n",
              "        text-align: right;\n",
              "    }\n",
              "</style>\n",
              "<table border=\"1\" class=\"dataframe\">\n",
              "  <thead>\n",
              "    <tr style=\"text-align: right;\">\n",
              "      <th></th>\n",
              "      <th>End</th>\n",
              "      <th>Open</th>\n",
              "      <th>High</th>\n",
              "      <th>Low</th>\n",
              "      <th>Amount</th>\n",
              "      <th>Val</th>\n",
              "    </tr>\n",
              "    <tr>\n",
              "      <th>Date</th>\n",
              "      <th></th>\n",
              "      <th></th>\n",
              "      <th></th>\n",
              "      <th></th>\n",
              "      <th></th>\n",
              "      <th></th>\n",
              "    </tr>\n",
              "  </thead>\n",
              "  <tbody>\n",
              "    <tr>\n",
              "      <th>2020-02-17</th>\n",
              "      <td>2242.17</td>\n",
              "      <td>2243.07</td>\n",
              "      <td>2250.05</td>\n",
              "      <td>2230.26</td>\n",
              "      <td>458250000</td>\n",
              "      <td>-0.06%</td>\n",
              "    </tr>\n",
              "    <tr>\n",
              "      <th>2020-02-18</th>\n",
              "      <td>2208.88</td>\n",
              "      <td>2225.98</td>\n",
              "      <td>2232.93</td>\n",
              "      <td>2205.21</td>\n",
              "      <td>470420000</td>\n",
              "      <td>-1.48%</td>\n",
              "    </tr>\n",
              "    <tr>\n",
              "      <th>2020-02-19</th>\n",
              "      <td>2210.34</td>\n",
              "      <td>2222.51</td>\n",
              "      <td>2226.00</td>\n",
              "      <td>2191.20</td>\n",
              "      <td>591160000</td>\n",
              "      <td>0.07%</td>\n",
              "    </tr>\n",
              "    <tr>\n",
              "      <th>2020-02-20</th>\n",
              "      <td>2195.50</td>\n",
              "      <td>2223.55</td>\n",
              "      <td>2228.18</td>\n",
              "      <td>2186.72</td>\n",
              "      <td>709560000</td>\n",
              "      <td>-0.67%</td>\n",
              "    </tr>\n",
              "    <tr>\n",
              "      <th>2020-02-21</th>\n",
              "      <td>2162.84</td>\n",
              "      <td>2165.65</td>\n",
              "      <td>2184.43</td>\n",
              "      <td>2160.28</td>\n",
              "      <td>635470000</td>\n",
              "      <td>-1.49%</td>\n",
              "    </tr>\n",
              "  </tbody>\n",
              "</table>\n",
              "</div>\n",
              "      <button class=\"colab-df-convert\" onclick=\"convertToInteractive('df-feb40366-8013-4fc0-8eeb-ade0a8734025')\"\n",
              "              title=\"Convert this dataframe to an interactive table.\"\n",
              "              style=\"display:none;\">\n",
              "        \n",
              "  <svg xmlns=\"http://www.w3.org/2000/svg\" height=\"24px\"viewBox=\"0 0 24 24\"\n",
              "       width=\"24px\">\n",
              "    <path d=\"M0 0h24v24H0V0z\" fill=\"none\"/>\n",
              "    <path d=\"M18.56 5.44l.94 2.06.94-2.06 2.06-.94-2.06-.94-.94-2.06-.94 2.06-2.06.94zm-11 1L8.5 8.5l.94-2.06 2.06-.94-2.06-.94L8.5 2.5l-.94 2.06-2.06.94zm10 10l.94 2.06.94-2.06 2.06-.94-2.06-.94-.94-2.06-.94 2.06-2.06.94z\"/><path d=\"M17.41 7.96l-1.37-1.37c-.4-.4-.92-.59-1.43-.59-.52 0-1.04.2-1.43.59L10.3 9.45l-7.72 7.72c-.78.78-.78 2.05 0 2.83L4 21.41c.39.39.9.59 1.41.59.51 0 1.02-.2 1.41-.59l7.78-7.78 2.81-2.81c.8-.78.8-2.07 0-2.86zM5.41 20L4 18.59l7.72-7.72 1.47 1.35L5.41 20z\"/>\n",
              "  </svg>\n",
              "      </button>\n",
              "      \n",
              "  <style>\n",
              "    .colab-df-container {\n",
              "      display:flex;\n",
              "      flex-wrap:wrap;\n",
              "      gap: 12px;\n",
              "    }\n",
              "\n",
              "    .colab-df-convert {\n",
              "      background-color: #E8F0FE;\n",
              "      border: none;\n",
              "      border-radius: 50%;\n",
              "      cursor: pointer;\n",
              "      display: none;\n",
              "      fill: #1967D2;\n",
              "      height: 32px;\n",
              "      padding: 0 0 0 0;\n",
              "      width: 32px;\n",
              "    }\n",
              "\n",
              "    .colab-df-convert:hover {\n",
              "      background-color: #E2EBFA;\n",
              "      box-shadow: 0px 1px 2px rgba(60, 64, 67, 0.3), 0px 1px 3px 1px rgba(60, 64, 67, 0.15);\n",
              "      fill: #174EA6;\n",
              "    }\n",
              "\n",
              "    [theme=dark] .colab-df-convert {\n",
              "      background-color: #3B4455;\n",
              "      fill: #D2E3FC;\n",
              "    }\n",
              "\n",
              "    [theme=dark] .colab-df-convert:hover {\n",
              "      background-color: #434B5C;\n",
              "      box-shadow: 0px 1px 3px 1px rgba(0, 0, 0, 0.15);\n",
              "      filter: drop-shadow(0px 1px 2px rgba(0, 0, 0, 0.3));\n",
              "      fill: #FFFFFF;\n",
              "    }\n",
              "  </style>\n",
              "\n",
              "      <script>\n",
              "        const buttonEl =\n",
              "          document.querySelector('#df-feb40366-8013-4fc0-8eeb-ade0a8734025 button.colab-df-convert');\n",
              "        buttonEl.style.display =\n",
              "          google.colab.kernel.accessAllowed ? 'block' : 'none';\n",
              "\n",
              "        async function convertToInteractive(key) {\n",
              "          const element = document.querySelector('#df-feb40366-8013-4fc0-8eeb-ade0a8734025');\n",
              "          const dataTable =\n",
              "            await google.colab.kernel.invokeFunction('convertToInteractive',\n",
              "                                                     [key], {});\n",
              "          if (!dataTable) return;\n",
              "\n",
              "          const docLinkHtml = 'Like what you see? Visit the ' +\n",
              "            '<a target=\"_blank\" href=https://colab.research.google.com/notebooks/data_table.ipynb>data table notebook</a>'\n",
              "            + ' to learn more about interactive tables.';\n",
              "          element.innerHTML = '';\n",
              "          dataTable['output_type'] = 'display_data';\n",
              "          await google.colab.output.renderOutput(dataTable, element);\n",
              "          const docLink = document.createElement('div');\n",
              "          docLink.innerHTML = docLinkHtml;\n",
              "          element.appendChild(docLink);\n",
              "        }\n",
              "      </script>\n",
              "    </div>\n",
              "  </div>\n",
              "  "
            ]
          },
          "metadata": {},
          "execution_count": 63
        }
      ],
      "source": [
        "stock.tail()\n"
      ]
    },
    {
      "cell_type": "code",
      "execution_count": 64,
      "metadata": {
        "id": "cObg6g5ylSVN",
        "outputId": "0e49115e-df29-457b-c545-6ad062e5604e",
        "colab": {
          "base_uri": "https://localhost:8080/"
        }
      },
      "outputs": [
        {
          "output_type": "execute_result",
          "data": {
            "text/plain": [
              "DatetimeIndex(['1996-04-20', '1996-04-22', '1996-04-23', '1996-04-24',\n",
              "               '1996-04-25', '1996-04-26', '1996-04-27', '1996-04-29',\n",
              "               '1996-04-30', '1996-05-02',\n",
              "               ...\n",
              "               '2020-02-10', '2020-02-11', '2020-02-12', '2020-02-13',\n",
              "               '2020-02-14', '2020-02-17', '2020-02-18', '2020-02-19',\n",
              "               '2020-02-20', '2020-02-21'],\n",
              "              dtype='datetime64[ns]', name='Date', length=5999, freq=None)"
            ]
          },
          "metadata": {},
          "execution_count": 64
        }
      ],
      "source": [
        "stock.index"
      ]
    },
    {
      "cell_type": "markdown",
      "metadata": {
        "id": "-6KTekBtlSVO"
      },
      "source": [
        "위에서 보시는 바와 같이 index가 `DatetimeIndex`로 지정되어 있습니다.\n",
        "\n",
        "`DatetimeIndex`로 정의되어 있다면, 아래와 같이 연도, 월, 일을 쪼갤 수 있으며, **월별, 연도별 피벗데이터**를 만들때 유용하게 활용할 수 있습니다."
      ]
    },
    {
      "cell_type": "code",
      "execution_count": 65,
      "metadata": {
        "id": "fif43Fh-0l4L"
      },
      "outputs": [],
      "source": [
        "stock['Year'] = stock.index.year\n",
        "stock['Month'] = stock.index.month\n",
        "stock['Day'] = stock.index.day"
      ]
    },
    {
      "cell_type": "code",
      "execution_count": 66,
      "metadata": {
        "colab": {
          "base_uri": "https://localhost:8080/",
          "height": 238
        },
        "id": "0yAKE9Ag0l4S",
        "outputId": "c9facb53-1b8e-472f-8705-27a183593ea7"
      },
      "outputs": [
        {
          "output_type": "execute_result",
          "data": {
            "text/plain": [
              "               End    Open    High     Low    Amount     Val  Year  Month  Day\n",
              "Date                                                                          \n",
              "1996-04-20  941.69  948.60  952.21  941.66  42810000  -0.70%  1996      4   20\n",
              "1996-04-22  950.61  941.75  957.61  941.75  57150000   0.95%  1996      4   22\n",
              "1996-04-23  940.55  951.47  957.95  940.55  52690000  -1.06%  1996      4   23\n",
              "1996-04-24  956.61  940.50  956.65  934.53  46240000   1.71%  1996      4   24\n",
              "1996-04-25  964.69  957.56  977.44  957.56  57170000   0.84%  1996      4   25"
            ],
            "text/html": [
              "\n",
              "  <div id=\"df-55a5a067-8829-4abc-9757-28ccc502e0ba\">\n",
              "    <div class=\"colab-df-container\">\n",
              "      <div>\n",
              "<style scoped>\n",
              "    .dataframe tbody tr th:only-of-type {\n",
              "        vertical-align: middle;\n",
              "    }\n",
              "\n",
              "    .dataframe tbody tr th {\n",
              "        vertical-align: top;\n",
              "    }\n",
              "\n",
              "    .dataframe thead th {\n",
              "        text-align: right;\n",
              "    }\n",
              "</style>\n",
              "<table border=\"1\" class=\"dataframe\">\n",
              "  <thead>\n",
              "    <tr style=\"text-align: right;\">\n",
              "      <th></th>\n",
              "      <th>End</th>\n",
              "      <th>Open</th>\n",
              "      <th>High</th>\n",
              "      <th>Low</th>\n",
              "      <th>Amount</th>\n",
              "      <th>Val</th>\n",
              "      <th>Year</th>\n",
              "      <th>Month</th>\n",
              "      <th>Day</th>\n",
              "    </tr>\n",
              "    <tr>\n",
              "      <th>Date</th>\n",
              "      <th></th>\n",
              "      <th></th>\n",
              "      <th></th>\n",
              "      <th></th>\n",
              "      <th></th>\n",
              "      <th></th>\n",
              "      <th></th>\n",
              "      <th></th>\n",
              "      <th></th>\n",
              "    </tr>\n",
              "  </thead>\n",
              "  <tbody>\n",
              "    <tr>\n",
              "      <th>1996-04-20</th>\n",
              "      <td>941.69</td>\n",
              "      <td>948.60</td>\n",
              "      <td>952.21</td>\n",
              "      <td>941.66</td>\n",
              "      <td>42810000</td>\n",
              "      <td>-0.70%</td>\n",
              "      <td>1996</td>\n",
              "      <td>4</td>\n",
              "      <td>20</td>\n",
              "    </tr>\n",
              "    <tr>\n",
              "      <th>1996-04-22</th>\n",
              "      <td>950.61</td>\n",
              "      <td>941.75</td>\n",
              "      <td>957.61</td>\n",
              "      <td>941.75</td>\n",
              "      <td>57150000</td>\n",
              "      <td>0.95%</td>\n",
              "      <td>1996</td>\n",
              "      <td>4</td>\n",
              "      <td>22</td>\n",
              "    </tr>\n",
              "    <tr>\n",
              "      <th>1996-04-23</th>\n",
              "      <td>940.55</td>\n",
              "      <td>951.47</td>\n",
              "      <td>957.95</td>\n",
              "      <td>940.55</td>\n",
              "      <td>52690000</td>\n",
              "      <td>-1.06%</td>\n",
              "      <td>1996</td>\n",
              "      <td>4</td>\n",
              "      <td>23</td>\n",
              "    </tr>\n",
              "    <tr>\n",
              "      <th>1996-04-24</th>\n",
              "      <td>956.61</td>\n",
              "      <td>940.50</td>\n",
              "      <td>956.65</td>\n",
              "      <td>934.53</td>\n",
              "      <td>46240000</td>\n",
              "      <td>1.71%</td>\n",
              "      <td>1996</td>\n",
              "      <td>4</td>\n",
              "      <td>24</td>\n",
              "    </tr>\n",
              "    <tr>\n",
              "      <th>1996-04-25</th>\n",
              "      <td>964.69</td>\n",
              "      <td>957.56</td>\n",
              "      <td>977.44</td>\n",
              "      <td>957.56</td>\n",
              "      <td>57170000</td>\n",
              "      <td>0.84%</td>\n",
              "      <td>1996</td>\n",
              "      <td>4</td>\n",
              "      <td>25</td>\n",
              "    </tr>\n",
              "  </tbody>\n",
              "</table>\n",
              "</div>\n",
              "      <button class=\"colab-df-convert\" onclick=\"convertToInteractive('df-55a5a067-8829-4abc-9757-28ccc502e0ba')\"\n",
              "              title=\"Convert this dataframe to an interactive table.\"\n",
              "              style=\"display:none;\">\n",
              "        \n",
              "  <svg xmlns=\"http://www.w3.org/2000/svg\" height=\"24px\"viewBox=\"0 0 24 24\"\n",
              "       width=\"24px\">\n",
              "    <path d=\"M0 0h24v24H0V0z\" fill=\"none\"/>\n",
              "    <path d=\"M18.56 5.44l.94 2.06.94-2.06 2.06-.94-2.06-.94-.94-2.06-.94 2.06-2.06.94zm-11 1L8.5 8.5l.94-2.06 2.06-.94-2.06-.94L8.5 2.5l-.94 2.06-2.06.94zm10 10l.94 2.06.94-2.06 2.06-.94-2.06-.94-.94-2.06-.94 2.06-2.06.94z\"/><path d=\"M17.41 7.96l-1.37-1.37c-.4-.4-.92-.59-1.43-.59-.52 0-1.04.2-1.43.59L10.3 9.45l-7.72 7.72c-.78.78-.78 2.05 0 2.83L4 21.41c.39.39.9.59 1.41.59.51 0 1.02-.2 1.41-.59l7.78-7.78 2.81-2.81c.8-.78.8-2.07 0-2.86zM5.41 20L4 18.59l7.72-7.72 1.47 1.35L5.41 20z\"/>\n",
              "  </svg>\n",
              "      </button>\n",
              "      \n",
              "  <style>\n",
              "    .colab-df-container {\n",
              "      display:flex;\n",
              "      flex-wrap:wrap;\n",
              "      gap: 12px;\n",
              "    }\n",
              "\n",
              "    .colab-df-convert {\n",
              "      background-color: #E8F0FE;\n",
              "      border: none;\n",
              "      border-radius: 50%;\n",
              "      cursor: pointer;\n",
              "      display: none;\n",
              "      fill: #1967D2;\n",
              "      height: 32px;\n",
              "      padding: 0 0 0 0;\n",
              "      width: 32px;\n",
              "    }\n",
              "\n",
              "    .colab-df-convert:hover {\n",
              "      background-color: #E2EBFA;\n",
              "      box-shadow: 0px 1px 2px rgba(60, 64, 67, 0.3), 0px 1px 3px 1px rgba(60, 64, 67, 0.15);\n",
              "      fill: #174EA6;\n",
              "    }\n",
              "\n",
              "    [theme=dark] .colab-df-convert {\n",
              "      background-color: #3B4455;\n",
              "      fill: #D2E3FC;\n",
              "    }\n",
              "\n",
              "    [theme=dark] .colab-df-convert:hover {\n",
              "      background-color: #434B5C;\n",
              "      box-shadow: 0px 1px 3px 1px rgba(0, 0, 0, 0.15);\n",
              "      filter: drop-shadow(0px 1px 2px rgba(0, 0, 0, 0.3));\n",
              "      fill: #FFFFFF;\n",
              "    }\n",
              "  </style>\n",
              "\n",
              "      <script>\n",
              "        const buttonEl =\n",
              "          document.querySelector('#df-55a5a067-8829-4abc-9757-28ccc502e0ba button.colab-df-convert');\n",
              "        buttonEl.style.display =\n",
              "          google.colab.kernel.accessAllowed ? 'block' : 'none';\n",
              "\n",
              "        async function convertToInteractive(key) {\n",
              "          const element = document.querySelector('#df-55a5a067-8829-4abc-9757-28ccc502e0ba');\n",
              "          const dataTable =\n",
              "            await google.colab.kernel.invokeFunction('convertToInteractive',\n",
              "                                                     [key], {});\n",
              "          if (!dataTable) return;\n",
              "\n",
              "          const docLinkHtml = 'Like what you see? Visit the ' +\n",
              "            '<a target=\"_blank\" href=https://colab.research.google.com/notebooks/data_table.ipynb>data table notebook</a>'\n",
              "            + ' to learn more about interactive tables.';\n",
              "          element.innerHTML = '';\n",
              "          dataTable['output_type'] = 'display_data';\n",
              "          await google.colab.output.renderOutput(dataTable, element);\n",
              "          const docLink = document.createElement('div');\n",
              "          docLink.innerHTML = docLinkHtml;\n",
              "          element.appendChild(docLink);\n",
              "        }\n",
              "      </script>\n",
              "    </div>\n",
              "  </div>\n",
              "  "
            ]
          },
          "metadata": {},
          "execution_count": 66
        }
      ],
      "source": [
        "stock.head()"
      ]
    },
    {
      "cell_type": "markdown",
      "metadata": {
        "id": "5FBTlube0l4d"
      },
      "source": [
        "## 시각화"
      ]
    },
    {
      "cell_type": "code",
      "execution_count": 68,
      "metadata": {
        "colab": {
          "base_uri": "https://localhost:8080/",
          "height": 569
        },
        "id": "MWcaWEa80l4o",
        "outputId": "27eb12d8-3e90-4aaa-8afa-336918aaa99f"
      },
      "outputs": [
        {
          "output_type": "execute_result",
          "data": {
            "text/plain": [
              "Text(0, 0.5, 'price')"
            ]
          },
          "metadata": {},
          "execution_count": 68
        },
        {
          "output_type": "display_data",
          "data": {
            "text/plain": [
              "<Figure size 1152x648 with 1 Axes>"
            ],
            "image/png": "[encoded data removed]"
          },
          "metadata": {
            "needs_background": "light"
          }
        }
      ],
      "source": [
        "plt.figure(figsize=(16, 9))\n",
        "sns.lineplot(y=stock['End'], x=stock.index)\n",
        "plt.xlabel('time')\n",
        "plt.ylabel('price')"
      ]
    },
    {
      "cell_type": "code",
      "execution_count": 69,
      "metadata": {
        "id": "tFjO0w-olSVP",
        "outputId": "af6ff53d-dac5-4728-a47f-10c4e559afbe",
        "colab": {
          "base_uri": "https://localhost:8080/",
          "height": 657
        }
      },
      "outputs": [
        {
          "output_type": "display_data",
          "data": {
            "text/plain": [
              "<Figure size 1152x648 with 4 Axes>"
            ],
            "image/png": "[encoded data removed]"
          },
          "metadata": {
            "needs_background": "light"
          }
        }
      ],
      "source": [
        "time_steps = [['1990', '2000'], \n",
        "              ['2000', '2010'], \n",
        "              ['2010', '2015'], \n",
        "              ['2015', '2020']]\n",
        "\n",
        "fig, axes = plt.subplots(2, 2)\n",
        "fig.set_size_inches(16, 9)\n",
        "for i in range(4):\n",
        "    ax = axes[i//2, i%2]\n",
        "    df = stock.loc[(stock.index > time_steps[i][0]) & (stock.index < time_steps[i][1])]\n",
        "    sns.lineplot(y=df['End'], x=df.index, ax=ax)\n",
        "    ax.set_title(f'{time_steps[i][0]}~{time_steps[i][1]}')\n",
        "    ax.set_xlabel('time')\n",
        "    ax.set_ylabel('price')\n",
        "plt.tight_layout()\n",
        "plt.show()"
      ]
    },
    {
      "cell_type": "markdown",
      "metadata": {
        "id": "7eyi9Ac-lSVQ"
      },
      "source": [
        "## 데이터 전처리"
      ]
    },
    {
      "cell_type": "markdown",
      "metadata": {
        "id": "qcELZW_zlSVQ"
      },
      "source": [
        "주가 데이터에 대하여 딥러닝 모델이 더 잘 학습할 수 있도록 **정규화(Normalization)**를 해주도록 하겠습니다.\n",
        "\n",
        "**표준화 (Standardization)**와 **정규화(Normalization)**에 대한 내용은 아래 링크에서 더 자세히 다루니, 참고해 보시기 바랍니다.\n",
        "\n",
        "- [데이터 전처리에 관하여](https://teddylee777.github.io/scikit-learn/scikit-learn-preprocessing)"
      ]
    },
    {
      "cell_type": "code",
      "execution_count": 79,
      "metadata": {
        "colab": {
          "base_uri": "https://localhost:8080/"
        },
        "id": "4-4PgRMZ0l5Q",
        "outputId": "c7e0fce5-75a6-455d-99db-14c8bbfd9a1c"
      },
      "outputs": [
        {
          "output_type": "execute_result",
          "data": {
            "text/plain": [
              "array([[0.2883355 , 0.28548113, 0.28754902, 0.28543389, 0.01791633],\n",
              "       [0.28536628, 0.28781265, 0.28758798, 0.28928172, 0.02394197],\n",
              "       [0.28957954, 0.28795945, 0.28706854, 0.28494213, 0.02206789],\n",
              "       ...,\n",
              "       [0.84052883, 0.83545544, 0.82843328, 0.83269275, 0.24833216],\n",
              "       [0.84097963, 0.83639669, 0.82649404, 0.8262912 , 0.29808366],\n",
              "       [0.8158821 , 0.81750709, 0.81504904, 0.81220262, 0.26695115]])"
            ]
          },
          "metadata": {},
          "execution_count": 79
        }
      ],
      "source": [
        "from sklearn.preprocessing import MinMaxScaler\n",
        "\n",
        "scaler = MinMaxScaler()\n",
        "# 스케일을 적용할 column을 정의합니다.\n",
        "scale_cols = [ 'Open', 'High', 'Low','End', 'Amount']\n",
        "# 스케일 후 columns\n",
        "scaled = scaler.fit_transform(stock[scale_cols])\n",
        "scaled"
      ]
    },
    {
      "cell_type": "markdown",
      "metadata": {
        "id": "6kC8exjblSVR"
      },
      "source": [
        "스케일이 완료된 column으로 새로운 데이터프레임을 생성합니다.\n",
        "\n",
        "**시간 순으로 정렬**되어 있으며, datetime index는 제외했습니다.\n",
        "\n",
        "*6,000개의 row, 5개 column*으로 이루어진 데이터셋이 DataFrame으로 정리되었습니다."
      ]
    },
    {
      "cell_type": "code",
      "execution_count": 80,
      "metadata": {
        "id": "dIJjE21B0l5m"
      },
      "outputs": [],
      "source": [
        "df = pd.DataFrame(scaled, columns=scale_cols)"
      ]
    },
    {
      "cell_type": "markdown",
      "metadata": {
        "id": "cYrRV9NllSVR"
      },
      "source": [
        "## train / test 분할"
      ]
    },
    {
      "cell_type": "code",
      "execution_count": 81,
      "metadata": {
        "id": "UD0IsqGhlSVS"
      },
      "outputs": [],
      "source": [
        "from sklearn.model_selection import train_test_split"
      ]
    },
    {
      "cell_type": "code",
      "execution_count": 82,
      "metadata": {
        "id": "o2-nEkUllSVS"
      },
      "outputs": [],
      "source": [
        "x_train, x_test, y_train, y_test = train_test_split(df.drop('End', 1), df['End'], test_size=0.2, random_state=0, shuffle=False)"
      ]
    },
    {
      "cell_type": "code",
      "execution_count": 83,
      "metadata": {
        "id": "bMCRQyhblSVS",
        "outputId": "56e5a5d3-68f7-49ea-d1de-371927758699",
        "colab": {
          "base_uri": "https://localhost:8080/"
        }
      },
      "outputs": [
        {
          "output_type": "execute_result",
          "data": {
            "text/plain": [
              "((4799, 4), (4799,))"
            ]
          },
          "metadata": {},
          "execution_count": 83
        }
      ],
      "source": [
        "x_train.shape, y_train.shape"
      ]
    },
    {
      "cell_type": "code",
      "execution_count": 84,
      "metadata": {
        "id": "WNV__wI2lSVS",
        "outputId": "075b9605-f602-48b9-f706-0bfa594c2141",
        "colab": {
          "base_uri": "https://localhost:8080/"
        }
      },
      "outputs": [
        {
          "output_type": "execute_result",
          "data": {
            "text/plain": [
              "((1200, 4), (1200,))"
            ]
          },
          "metadata": {},
          "execution_count": 84
        }
      ],
      "source": [
        "x_test.shape, y_test.shape"
      ]
    },
    {
      "cell_type": "code",
      "execution_count": 85,
      "metadata": {
        "id": "6f23ztGolSVT",
        "outputId": "a1624a51-a8f8-445c-d8f3-f0d3f0100fb8",
        "colab": {
          "base_uri": "https://localhost:8080/",
          "height": 424
        }
      },
      "outputs": [
        {
          "output_type": "execute_result",
          "data": {
            "text/plain": [
              "          Open      High       Low    Amount\n",
              "0     0.288336  0.285481  0.287549  0.017916\n",
              "1     0.285366  0.287813  0.287588  0.023942\n",
              "2     0.289580  0.287959  0.287069  0.022068\n",
              "3     0.284824  0.287398  0.284463  0.019358\n",
              "4     0.292219  0.296374  0.294432  0.023950\n",
              "...        ...       ...       ...       ...\n",
              "4794  0.755674  0.749643  0.752976  0.188580\n",
              "4795  0.755609  0.752242  0.753513  0.184630\n",
              "4796  0.762419  0.758127  0.759625  0.233529\n",
              "4797  0.759423  0.754733  0.756335  0.228011\n",
              "4798  0.760074  0.755342  0.757885  0.275519\n",
              "\n",
              "[4799 rows x 4 columns]"
            ],
            "text/html": [
              "\n",
              "  <div id=\"df-cdb18941-c129-4f5b-8080-c927d3e48bd1\">\n",
              "    <div class=\"colab-df-container\">\n",
              "      <div>\n",
              "<style scoped>\n",
              "    .dataframe tbody tr th:only-of-type {\n",
              "        vertical-align: middle;\n",
              "    }\n",
              "\n",
              "    .dataframe tbody tr th {\n",
              "        vertical-align: top;\n",
              "    }\n",
              "\n",
              "    .dataframe thead th {\n",
              "        text-align: right;\n",
              "    }\n",
              "</style>\n",
              "<table border=\"1\" class=\"dataframe\">\n",
              "  <thead>\n",
              "    <tr style=\"text-align: right;\">\n",
              "      <th></th>\n",
              "      <th>Open</th>\n",
              "      <th>High</th>\n",
              "      <th>Low</th>\n",
              "      <th>Amount</th>\n",
              "    </tr>\n",
              "  </thead>\n",
              "  <tbody>\n",
              "    <tr>\n",
              "      <th>0</th>\n",
              "      <td>0.288336</td>\n",
              "      <td>0.285481</td>\n",
              "      <td>0.287549</td>\n",
              "      <td>0.017916</td>\n",
              "    </tr>\n",
              "    <tr>\n",
              "      <th>1</th>\n",
              "      <td>0.285366</td>\n",
              "      <td>0.287813</td>\n",
              "      <td>0.287588</td>\n",
              "      <td>0.023942</td>\n",
              "    </tr>\n",
              "    <tr>\n",
              "      <th>2</th>\n",
              "      <td>0.289580</td>\n",
              "      <td>0.287959</td>\n",
              "      <td>0.287069</td>\n",
              "      <td>0.022068</td>\n",
              "    </tr>\n",
              "    <tr>\n",
              "      <th>3</th>\n",
              "      <td>0.284824</td>\n",
              "      <td>0.287398</td>\n",
              "      <td>0.284463</td>\n",
              "      <td>0.019358</td>\n",
              "    </tr>\n",
              "    <tr>\n",
              "      <th>4</th>\n",
              "      <td>0.292219</td>\n",
              "      <td>0.296374</td>\n",
              "      <td>0.294432</td>\n",
              "      <td>0.023950</td>\n",
              "    </tr>\n",
              "    <tr>\n",
              "      <th>...</th>\n",
              "      <td>...</td>\n",
              "      <td>...</td>\n",
              "      <td>...</td>\n",
              "      <td>...</td>\n",
              "    </tr>\n",
              "    <tr>\n",
              "      <th>4794</th>\n",
              "      <td>0.755674</td>\n",
              "      <td>0.749643</td>\n",
              "      <td>0.752976</td>\n",
              "      <td>0.188580</td>\n",
              "    </tr>\n",
              "    <tr>\n",
              "      <th>4795</th>\n",
              "      <td>0.755609</td>\n",
              "      <td>0.752242</td>\n",
              "      <td>0.753513</td>\n",
              "      <td>0.184630</td>\n",
              "    </tr>\n",
              "    <tr>\n",
              "      <th>4796</th>\n",
              "      <td>0.762419</td>\n",
              "      <td>0.758127</td>\n",
              "      <td>0.759625</td>\n",
              "      <td>0.233529</td>\n",
              "    </tr>\n",
              "    <tr>\n",
              "      <th>4797</th>\n",
              "      <td>0.759423</td>\n",
              "      <td>0.754733</td>\n",
              "      <td>0.756335</td>\n",
              "      <td>0.228011</td>\n",
              "    </tr>\n",
              "    <tr>\n",
              "      <th>4798</th>\n",
              "      <td>0.760074</td>\n",
              "      <td>0.755342</td>\n",
              "      <td>0.757885</td>\n",
              "      <td>0.275519</td>\n",
              "    </tr>\n",
              "  </tbody>\n",
              "</table>\n",
              "<p>4799 rows × 4 columns</p>\n",
              "</div>\n",
              "      <button class=\"colab-df-convert\" onclick=\"convertToInteractive('df-cdb18941-c129-4f5b-8080-c927d3e48bd1')\"\n",
              "              title=\"Convert this dataframe to an interactive table.\"\n",
              "              style=\"display:none;\">\n",
              "        \n",
              "  <svg xmlns=\"http://www.w3.org/2000/svg\" height=\"24px\"viewBox=\"0 0 24 24\"\n",
              "       width=\"24px\">\n",
              "    <path d=\"M0 0h24v24H0V0z\" fill=\"none\"/>\n",
              "    <path d=\"M18.56 5.44l.94 2.06.94-2.06 2.06-.94-2.06-.94-.94-2.06-.94 2.06-2.06.94zm-11 1L8.5 8.5l.94-2.06 2.06-.94-2.06-.94L8.5 2.5l-.94 2.06-2.06.94zm10 10l.94 2.06.94-2.06 2.06-.94-2.06-.94-.94-2.06-.94 2.06-2.06.94z\"/><path d=\"M17.41 7.96l-1.37-1.37c-.4-.4-.92-.59-1.43-.59-.52 0-1.04.2-1.43.59L10.3 9.45l-7.72 7.72c-.78.78-.78 2.05 0 2.83L4 21.41c.39.39.9.59 1.41.59.51 0 1.02-.2 1.41-.59l7.78-7.78 2.81-2.81c.8-.78.8-2.07 0-2.86zM5.41 20L4 18.59l7.72-7.72 1.47 1.35L5.41 20z\"/>\n",
              "  </svg>\n",
              "      </button>\n",
              "      \n",
              "  <style>\n",
              "    .colab-df-container {\n",
              "      display:flex;\n",
              "      flex-wrap:wrap;\n",
              "      gap: 12px;\n",
              "    }\n",
              "\n",
              "    .colab-df-convert {\n",
              "      background-color: #E8F0FE;\n",
              "      border: none;\n",
              "      border-radius: 50%;\n",
              "      cursor: pointer;\n",
              "      display: none;\n",
              "      fill: #1967D2;\n",
              "      height: 32px;\n",
              "      padding: 0 0 0 0;\n",
              "      width: 32px;\n",
              "    }\n",
              "\n",
              "    .colab-df-convert:hover {\n",
              "      background-color: #E2EBFA;\n",
              "      box-shadow: 0px 1px 2px rgba(60, 64, 67, 0.3), 0px 1px 3px 1px rgba(60, 64, 67, 0.15);\n",
              "      fill: #174EA6;\n",
              "    }\n",
              "\n",
              "    [theme=dark] .colab-df-convert {\n",
              "      background-color: #3B4455;\n",
              "      fill: #D2E3FC;\n",
              "    }\n",
              "\n",
              "    [theme=dark] .colab-df-convert:hover {\n",
              "      background-color: #434B5C;\n",
              "      box-shadow: 0px 1px 3px 1px rgba(0, 0, 0, 0.15);\n",
              "      filter: drop-shadow(0px 1px 2px rgba(0, 0, 0, 0.3));\n",
              "      fill: #FFFFFF;\n",
              "    }\n",
              "  </style>\n",
              "\n",
              "      <script>\n",
              "        const buttonEl =\n",
              "          document.querySelector('#df-cdb18941-c129-4f5b-8080-c927d3e48bd1 button.colab-df-convert');\n",
              "        buttonEl.style.display =\n",
              "          google.colab.kernel.accessAllowed ? 'block' : 'none';\n",
              "\n",
              "        async function convertToInteractive(key) {\n",
              "          const element = document.querySelector('#df-cdb18941-c129-4f5b-8080-c927d3e48bd1');\n",
              "          const dataTable =\n",
              "            await google.colab.kernel.invokeFunction('convertToInteractive',\n",
              "                                                     [key], {});\n",
              "          if (!dataTable) return;\n",
              "\n",
              "          const docLinkHtml = 'Like what you see? Visit the ' +\n",
              "            '<a target=\"_blank\" href=https://colab.research.google.com/notebooks/data_table.ipynb>data table notebook</a>'\n",
              "            + ' to learn more about interactive tables.';\n",
              "          element.innerHTML = '';\n",
              "          dataTable['output_type'] = 'display_data';\n",
              "          await google.colab.output.renderOutput(dataTable, element);\n",
              "          const docLink = document.createElement('div');\n",
              "          docLink.innerHTML = docLinkHtml;\n",
              "          element.appendChild(docLink);\n",
              "        }\n",
              "      </script>\n",
              "    </div>\n",
              "  </div>\n",
              "  "
            ]
          },
          "metadata": {},
          "execution_count": 85
        }
      ],
      "source": [
        "x_train"
      ]
    },
    {
      "cell_type": "markdown",
      "metadata": {
        "id": "CX9xZvlFlSVT"
      },
      "source": [
        "## TensroFlow Dataset을 활용한 시퀀스 데이터셋 구성\n",
        "\n",
        "---\n",
        "\n",
        "\n",
        "\n",
        "---\n",
        "\n"
      ]
    },
    {
      "cell_type": "code",
      "execution_count": 86,
      "metadata": {
        "id": "PaifRwSalSVT"
      },
      "outputs": [],
      "source": [
        "import tensorflow as tf"
      ]
    },
    {
      "cell_type": "code",
      "execution_count": 87,
      "metadata": {
        "id": "5gdplEcOlSVT"
      },
      "outputs": [],
      "source": [
        "def windowed_dataset(series, window_size, batch_size, shuffle):\n",
        "    series = tf.expand_dims(series, axis=-1)\n",
        "    ds = tf.data.Dataset.from_tensor_slices(series)\n",
        "    ds = ds.window(window_size + 1, shift=1, drop_remainder=True)\n",
        "    ds = ds.flat_map(lambda w: w.batch(window_size + 1))\n",
        "    if shuffle:\n",
        "        ds = ds.shuffle(1000)\n",
        "    ds = ds.map(lambda w: (w[:-1], w[-1]))\n",
        "    return ds.batch(batch_size).prefetch(1)"
      ]
    },
    {
      "cell_type": "markdown",
      "metadata": {
        "id": "5uGExHnMlSVT"
      },
      "source": [
        "Hyperparameter를 정의합니다."
      ]
    },
    {
      "cell_type": "code",
      "execution_count": 88,
      "metadata": {
        "id": "e3xKeN1glSVU"
      },
      "outputs": [],
      "source": [
        "WINDOW_SIZE=20\n",
        "BATCH_SIZE=32"
      ]
    },
    {
      "cell_type": "code",
      "execution_count": 89,
      "metadata": {
        "id": "jcNfWatOlSVU"
      },
      "outputs": [],
      "source": [
        "# trian_data는 학습용 데이터셋, test_data는 검증용 데이터셋 입니다.\n",
        "train_data = windowed_dataset(y_train, WINDOW_SIZE, BATCH_SIZE, True)\n",
        "test_data = windowed_dataset(y_test, WINDOW_SIZE, BATCH_SIZE, False)"
      ]
    },
    {
      "cell_type": "code",
      "execution_count": 90,
      "metadata": {
        "id": "xOg3dQi6lSVU",
        "outputId": "034e233d-07e1-49f4-e845-53119e22ff61",
        "colab": {
          "base_uri": "https://localhost:8080/"
        }
      },
      "outputs": [
        {
          "output_type": "stream",
          "name": "stdout",
          "text": [
            "데이터셋(X) 구성(batch_size, window_size, feature갯수): (32, 20, 1)\n",
            "데이터셋(Y) 구성(batch_size, window_size, feature갯수): (32, 1)\n"
          ]
        }
      ],
      "source": [
        "# 아래의 코드로 데이터셋의 구성을 확인해 볼 수 있습니다.\n",
        "# X: (batch_size, window_size, feature)\n",
        "# Y: (batch_size, feature)\n",
        "for data in train_data.take(1):\n",
        "    print(f'데이터셋(X) 구성(batch_size, window_size, feature갯수): {data[0].shape}')\n",
        "    print(f'데이터셋(Y) 구성(batch_size, window_size, feature갯수): {data[1].shape}')"
      ]
    },
    {
      "cell_type": "markdown",
      "metadata": {
        "id": "1WhLw0ZglSVV"
      },
      "source": [
        "## 모델"
      ]
    },
    {
      "cell_type": "code",
      "execution_count": 91,
      "metadata": {
        "id": "mAkmGu1j0l8M"
      },
      "outputs": [],
      "source": [
        "from tensorflow.keras.models import Sequential\n",
        "from tensorflow.keras.layers import Dense, LSTM, Conv1D, Lambda\n",
        "from tensorflow.keras.losses import Huber\n",
        "from tensorflow.keras.optimizers import Adam\n",
        "from tensorflow.keras.callbacks import EarlyStopping, ModelCheckpoint\n",
        "\n",
        "\n",
        "model = Sequential([\n",
        "    # 1차원 feature map 생성\n",
        "    Conv1D(filters=32, kernel_size=5,\n",
        "           padding=\"causal\",\n",
        "           activation=\"relu\",\n",
        "           input_shape=[WINDOW_SIZE, 1]),\n",
        "    # LSTM\n",
        "    LSTM(16, activation='tanh'),\n",
        "    Dense(16, activation=\"relu\"),\n",
        "    Dense(1),\n",
        "])"
      ]
    },
    {
      "cell_type": "code",
      "execution_count": 92,
      "metadata": {
        "id": "xShll_EX0l8T"
      },
      "outputs": [],
      "source": [
        "# Sequence 학습에 비교적 좋은 퍼포먼스를 내는 Huber()를 사용합니다.\n",
        "loss = Huber()\n",
        "optimizer = Adam(0.0005)\n",
        "model.compile(loss=Huber(), optimizer=optimizer, metrics=['mse'])"
      ]
    },
    {
      "cell_type": "code",
      "execution_count": 93,
      "metadata": {
        "id": "JnI7SwT-lSVW"
      },
      "outputs": [],
      "source": [
        "# earlystopping은 10번 epoch통안 val_loss 개선이 없다면 학습을 멈춥니다.\n",
        "earlystopping = EarlyStopping(monitor='val_loss', patience=10)\n",
        "# val_loss 기준 체크포인터도 생성합니다.\n",
        "filename = os.path.join('tmp', 'ckeckpointer.ckpt')\n",
        "checkpoint = ModelCheckpoint(filename, \n",
        "                             save_weights_only=True, \n",
        "                             save_best_only=True, \n",
        "                             monitor='val_loss', \n",
        "                             verbose=1)"
      ]
    },
    {
      "cell_type": "code",
      "execution_count": 94,
      "metadata": {
        "colab": {
          "base_uri": "https://localhost:8080/"
        },
        "outputId": "1ff5126d-8db1-4376-e462-97b81c974c82",
        "id": "NTPS12_TlSVW"
      },
      "outputs": [
        {
          "output_type": "stream",
          "name": "stdout",
          "text": [
            "Epoch 1/50\n",
            "    150/Unknown - 3s 8ms/step - loss: 0.0016 - mse: 0.0032\n",
            "Epoch 1: val_loss improved from inf to 0.00023, saving model to tmp/ckeckpointer.ckpt\n",
            "150/150 [==============================] - 4s 14ms/step - loss: 0.0016 - mse: 0.0032 - val_loss: 2.3278e-04 - val_mse: 4.6555e-04\n",
            "Epoch 2/50\n",
            "146/150 [============================>.] - ETA: 0s - loss: 1.5740e-04 - mse: 3.1479e-04\n",
            "Epoch 2: val_loss did not improve from 0.00023\n",
            "150/150 [==============================] - 2s 10ms/step - loss: 1.5709e-04 - mse: 3.1418e-04 - val_loss: 2.7082e-04 - val_mse: 5.4164e-04\n",
            "Epoch 3/50\n",
            "148/150 [============================>.] - ETA: 0s - loss: 1.4655e-04 - mse: 2.9310e-04\n",
            "Epoch 3: val_loss did not improve from 0.00023\n",
            "150/150 [==============================] - 1s 9ms/step - loss: 1.4578e-04 - mse: 2.9156e-04 - val_loss: 2.3701e-04 - val_mse: 4.7403e-04\n",
            "Epoch 4/50\n",
            "141/150 [===========================>..] - ETA: 0s - loss: 1.4167e-04 - mse: 2.8334e-04\n",
            "Epoch 4: val_loss did not improve from 0.00023\n",
            "150/150 [==============================] - 1s 9ms/step - loss: 1.3902e-04 - mse: 2.7804e-04 - val_loss: 3.4218e-04 - val_mse: 6.8436e-04\n",
            "Epoch 5/50\n",
            "150/150 [==============================] - ETA: 0s - loss: 1.2592e-04 - mse: 2.5183e-04\n",
            "Epoch 5: val_loss improved from 0.00023 to 0.00016, saving model to tmp/ckeckpointer.ckpt\n",
            "150/150 [==============================] - 1s 9ms/step - loss: 1.2592e-04 - mse: 2.5183e-04 - val_loss: 1.6197e-04 - val_mse: 3.2393e-04\n",
            "Epoch 6/50\n",
            "144/150 [===========================>..] - ETA: 0s - loss: 1.2200e-04 - mse: 2.4399e-04\n",
            "Epoch 6: val_loss did not improve from 0.00016\n",
            "150/150 [==============================] - 1s 9ms/step - loss: 1.2230e-04 - mse: 2.4460e-04 - val_loss: 2.3540e-04 - val_mse: 4.7080e-04\n",
            "Epoch 7/50\n",
            "146/150 [============================>.] - ETA: 0s - loss: 1.2075e-04 - mse: 2.4151e-04\n",
            "Epoch 7: val_loss improved from 0.00016 to 0.00014, saving model to tmp/ckeckpointer.ckpt\n",
            "150/150 [==============================] - 1s 9ms/step - loss: 1.1977e-04 - mse: 2.3955e-04 - val_loss: 1.3613e-04 - val_mse: 2.7226e-04\n",
            "Epoch 8/50\n",
            "146/150 [============================>.] - ETA: 0s - loss: 1.0819e-04 - mse: 2.1637e-04\n",
            "Epoch 8: val_loss did not improve from 0.00014\n",
            "150/150 [==============================] - 2s 9ms/step - loss: 1.0921e-04 - mse: 2.1842e-04 - val_loss: 1.5113e-04 - val_mse: 3.0225e-04\n",
            "Epoch 9/50\n",
            "146/150 [============================>.] - ETA: 0s - loss: 1.0477e-04 - mse: 2.0954e-04\n",
            "Epoch 9: val_loss improved from 0.00014 to 0.00011, saving model to tmp/ckeckpointer.ckpt\n",
            "150/150 [==============================] - 2s 10ms/step - loss: 1.0461e-04 - mse: 2.0921e-04 - val_loss: 1.0647e-04 - val_mse: 2.1294e-04\n",
            "Epoch 10/50\n",
            "147/150 [============================>.] - ETA: 0s - loss: 9.7580e-05 - mse: 1.9516e-04\n",
            "Epoch 10: val_loss did not improve from 0.00011\n",
            "150/150 [==============================] - 2s 9ms/step - loss: 9.8527e-05 - mse: 1.9705e-04 - val_loss: 1.5400e-04 - val_mse: 3.0799e-04\n",
            "Epoch 11/50\n",
            "150/150 [==============================] - ETA: 0s - loss: 9.5513e-05 - mse: 1.9103e-04\n",
            "Epoch 11: val_loss did not improve from 0.00011\n",
            "150/150 [==============================] - 1s 9ms/step - loss: 9.5513e-05 - mse: 1.9103e-04 - val_loss: 2.2752e-04 - val_mse: 4.5504e-04\n",
            "Epoch 12/50\n",
            "143/150 [===========================>..] - ETA: 0s - loss: 9.2207e-05 - mse: 1.8441e-04\n",
            "Epoch 12: val_loss did not improve from 0.00011\n",
            "150/150 [==============================] - 1s 8ms/step - loss: 9.1443e-05 - mse: 1.8289e-04 - val_loss: 1.8397e-04 - val_mse: 3.6793e-04\n",
            "Epoch 13/50\n",
            "143/150 [===========================>..] - ETA: 0s - loss: 9.3110e-05 - mse: 1.8622e-04\n",
            "Epoch 13: val_loss did not improve from 0.00011\n",
            "150/150 [==============================] - 1s 9ms/step - loss: 9.2940e-05 - mse: 1.8588e-04 - val_loss: 2.0408e-04 - val_mse: 4.0815e-04\n",
            "Epoch 14/50\n",
            "148/150 [============================>.] - ETA: 0s - loss: 8.9539e-05 - mse: 1.7908e-04\n",
            "Epoch 14: val_loss did not improve from 0.00011\n",
            "150/150 [==============================] - 1s 9ms/step - loss: 9.0167e-05 - mse: 1.8033e-04 - val_loss: 1.2668e-04 - val_mse: 2.5336e-04\n",
            "Epoch 15/50\n",
            "150/150 [==============================] - ETA: 0s - loss: 8.3640e-05 - mse: 1.6728e-04\n",
            "Epoch 15: val_loss did not improve from 0.00011\n",
            "150/150 [==============================] - 1s 9ms/step - loss: 8.3640e-05 - mse: 1.6728e-04 - val_loss: 1.2645e-04 - val_mse: 2.5290e-04\n",
            "Epoch 16/50\n",
            "150/150 [==============================] - ETA: 0s - loss: 8.1032e-05 - mse: 1.6206e-04\n",
            "Epoch 16: val_loss did not improve from 0.00011\n",
            "150/150 [==============================] - 2s 9ms/step - loss: 8.1032e-05 - mse: 1.6206e-04 - val_loss: 2.2547e-04 - val_mse: 4.5095e-04\n",
            "Epoch 17/50\n",
            "144/150 [===========================>..] - ETA: 0s - loss: 7.4245e-05 - mse: 1.4849e-04\n",
            "Epoch 17: val_loss improved from 0.00011 to 0.00010, saving model to tmp/ckeckpointer.ckpt\n",
            "150/150 [==============================] - 2s 9ms/step - loss: 7.4901e-05 - mse: 1.4980e-04 - val_loss: 9.7188e-05 - val_mse: 1.9438e-04\n",
            "Epoch 18/50\n",
            "149/150 [============================>.] - ETA: 0s - loss: 7.4394e-05 - mse: 1.4879e-04\n",
            "Epoch 18: val_loss improved from 0.00010 to 0.00008, saving model to tmp/ckeckpointer.ckpt\n",
            "150/150 [==============================] - 2s 9ms/step - loss: 7.4438e-05 - mse: 1.4888e-04 - val_loss: 8.0647e-05 - val_mse: 1.6129e-04\n",
            "Epoch 19/50\n",
            "145/150 [============================>.] - ETA: 0s - loss: 7.3470e-05 - mse: 1.4694e-04\n",
            "Epoch 19: val_loss did not improve from 0.00008\n",
            "150/150 [==============================] - 1s 9ms/step - loss: 7.3996e-05 - mse: 1.4799e-04 - val_loss: 1.9603e-04 - val_mse: 3.9207e-04\n",
            "Epoch 20/50\n",
            "148/150 [============================>.] - ETA: 0s - loss: 7.7164e-05 - mse: 1.5433e-04\n",
            "Epoch 20: val_loss did not improve from 0.00008\n",
            "150/150 [==============================] - 1s 9ms/step - loss: 7.7770e-05 - mse: 1.5554e-04 - val_loss: 8.4884e-05 - val_mse: 1.6977e-04\n",
            "Epoch 21/50\n",
            "145/150 [============================>.] - ETA: 0s - loss: 7.0640e-05 - mse: 1.4128e-04\n",
            "Epoch 21: val_loss improved from 0.00008 to 0.00006, saving model to tmp/ckeckpointer.ckpt\n",
            "150/150 [==============================] - 1s 9ms/step - loss: 7.1599e-05 - mse: 1.4320e-04 - val_loss: 6.4410e-05 - val_mse: 1.2882e-04\n",
            "Epoch 22/50\n",
            "142/150 [===========================>..] - ETA: 0s - loss: 6.7072e-05 - mse: 1.3414e-04\n",
            "Epoch 22: val_loss did not improve from 0.00006\n",
            "150/150 [==============================] - 1s 9ms/step - loss: 6.7134e-05 - mse: 1.3427e-04 - val_loss: 1.3447e-04 - val_mse: 2.6895e-04\n",
            "Epoch 23/50\n",
            "140/150 [===========================>..] - ETA: 0s - loss: 6.7671e-05 - mse: 1.3534e-04\n",
            "Epoch 23: val_loss did not improve from 0.00006\n",
            "150/150 [==============================] - 1s 9ms/step - loss: 6.7452e-05 - mse: 1.3490e-04 - val_loss: 8.6415e-05 - val_mse: 1.7283e-04\n",
            "Epoch 24/50\n",
            "143/150 [===========================>..] - ETA: 0s - loss: 6.5753e-05 - mse: 1.3151e-04\n",
            "Epoch 24: val_loss did not improve from 0.00006\n",
            "150/150 [==============================] - 1s 9ms/step - loss: 6.6645e-05 - mse: 1.3329e-04 - val_loss: 6.5915e-05 - val_mse: 1.3183e-04\n",
            "Epoch 25/50\n",
            "147/150 [============================>.] - ETA: 0s - loss: 6.5211e-05 - mse: 1.3042e-04\n",
            "Epoch 25: val_loss improved from 0.00006 to 0.00006, saving model to tmp/ckeckpointer.ckpt\n",
            "150/150 [==============================] - 1s 9ms/step - loss: 6.5340e-05 - mse: 1.3068e-04 - val_loss: 6.2196e-05 - val_mse: 1.2439e-04\n",
            "Epoch 26/50\n",
            "147/150 [============================>.] - ETA: 0s - loss: 6.5640e-05 - mse: 1.3128e-04\n",
            "Epoch 26: val_loss did not improve from 0.00006\n",
            "150/150 [==============================] - 2s 10ms/step - loss: 6.5277e-05 - mse: 1.3055e-04 - val_loss: 9.2640e-05 - val_mse: 1.8528e-04\n",
            "Epoch 27/50\n",
            "142/150 [===========================>..] - ETA: 0s - loss: 6.2080e-05 - mse: 1.2416e-04\n",
            "Epoch 27: val_loss did not improve from 0.00006\n",
            "150/150 [==============================] - 1s 9ms/step - loss: 6.2417e-05 - mse: 1.2483e-04 - val_loss: 7.3086e-05 - val_mse: 1.4617e-04\n",
            "Epoch 28/50\n",
            "146/150 [============================>.] - ETA: 0s - loss: 6.1552e-05 - mse: 1.2310e-04\n",
            "Epoch 28: val_loss did not improve from 0.00006\n",
            "150/150 [==============================] - 2s 12ms/step - loss: 6.1559e-05 - mse: 1.2312e-04 - val_loss: 1.0998e-04 - val_mse: 2.1995e-04\n",
            "Epoch 29/50\n",
            "147/150 [============================>.] - ETA: 0s - loss: 5.9986e-05 - mse: 1.1997e-04\n",
            "Epoch 29: val_loss improved from 0.00006 to 0.00006, saving model to tmp/ckeckpointer.ckpt\n",
            "150/150 [==============================] - 2s 15ms/step - loss: 6.0187e-05 - mse: 1.2037e-04 - val_loss: 5.9766e-05 - val_mse: 1.1953e-04\n",
            "Epoch 30/50\n",
            "144/150 [===========================>..] - ETA: 0s - loss: 6.0267e-05 - mse: 1.2053e-04\n",
            "Epoch 30: val_loss did not improve from 0.00006\n",
            "150/150 [==============================] - 2s 14ms/step - loss: 6.0536e-05 - mse: 1.2107e-04 - val_loss: 6.5073e-05 - val_mse: 1.3015e-04\n",
            "Epoch 31/50\n",
            "148/150 [============================>.] - ETA: 0s - loss: 5.8010e-05 - mse: 1.1602e-04\n",
            "Epoch 31: val_loss improved from 0.00006 to 0.00005, saving model to tmp/ckeckpointer.ckpt\n",
            "150/150 [==============================] - 2s 9ms/step - loss: 5.7853e-05 - mse: 1.1571e-04 - val_loss: 5.2396e-05 - val_mse: 1.0479e-04\n",
            "Epoch 32/50\n",
            "143/150 [===========================>..] - ETA: 0s - loss: 5.5848e-05 - mse: 1.1170e-04\n",
            "Epoch 32: val_loss improved from 0.00005 to 0.00005, saving model to tmp/ckeckpointer.ckpt\n",
            "150/150 [==============================] - 2s 9ms/step - loss: 5.6084e-05 - mse: 1.1217e-04 - val_loss: 5.0481e-05 - val_mse: 1.0096e-04\n",
            "Epoch 33/50\n",
            "145/150 [============================>.] - ETA: 0s - loss: 5.5218e-05 - mse: 1.1044e-04\n",
            "Epoch 33: val_loss improved from 0.00005 to 0.00005, saving model to tmp/ckeckpointer.ckpt\n",
            "150/150 [==============================] - 2s 9ms/step - loss: 5.5142e-05 - mse: 1.1028e-04 - val_loss: 4.9280e-05 - val_mse: 9.8560e-05\n",
            "Epoch 34/50\n",
            "149/150 [============================>.] - ETA: 0s - loss: 5.5457e-05 - mse: 1.1091e-04\n",
            "Epoch 34: val_loss did not improve from 0.00005\n",
            "150/150 [==============================] - 2s 9ms/step - loss: 5.5391e-05 - mse: 1.1078e-04 - val_loss: 7.0833e-05 - val_mse: 1.4167e-04\n",
            "Epoch 35/50\n",
            "149/150 [============================>.] - ETA: 0s - loss: 5.5334e-05 - mse: 1.1067e-04\n",
            "Epoch 35: val_loss improved from 0.00005 to 0.00005, saving model to tmp/ckeckpointer.ckpt\n",
            "150/150 [==============================] - 2s 10ms/step - loss: 5.5346e-05 - mse: 1.1069e-04 - val_loss: 4.8650e-05 - val_mse: 9.7301e-05\n",
            "Epoch 36/50\n",
            "150/150 [==============================] - ETA: 0s - loss: 5.1405e-05 - mse: 1.0281e-04\n",
            "Epoch 36: val_loss improved from 0.00005 to 0.00004, saving model to tmp/ckeckpointer.ckpt\n",
            "150/150 [==============================] - 2s 9ms/step - loss: 5.1405e-05 - mse: 1.0281e-04 - val_loss: 4.3602e-05 - val_mse: 8.7205e-05\n",
            "Epoch 37/50\n",
            "146/150 [============================>.] - ETA: 0s - loss: 5.8109e-05 - mse: 1.1622e-04\n",
            "Epoch 37: val_loss did not improve from 0.00004\n",
            "150/150 [==============================] - 2s 10ms/step - loss: 5.7769e-05 - mse: 1.1554e-04 - val_loss: 6.1085e-05 - val_mse: 1.2217e-04\n",
            "Epoch 38/50\n",
            "149/150 [============================>.] - ETA: 0s - loss: 5.6532e-05 - mse: 1.1306e-04\n",
            "Epoch 38: val_loss did not improve from 0.00004\n",
            "150/150 [==============================] - 1s 9ms/step - loss: 5.6540e-05 - mse: 1.1308e-04 - val_loss: 4.3703e-05 - val_mse: 8.7406e-05\n",
            "Epoch 39/50\n",
            "142/150 [===========================>..] - ETA: 0s - loss: 5.1806e-05 - mse: 1.0361e-04\n",
            "Epoch 39: val_loss did not improve from 0.00004\n",
            "150/150 [==============================] - 2s 9ms/step - loss: 5.1342e-05 - mse: 1.0268e-04 - val_loss: 4.4250e-05 - val_mse: 8.8500e-05\n",
            "Epoch 40/50\n",
            "146/150 [============================>.] - ETA: 0s - loss: 5.0459e-05 - mse: 1.0092e-04\n",
            "Epoch 40: val_loss did not improve from 0.00004\n",
            "150/150 [==============================] - 2s 10ms/step - loss: 5.0518e-05 - mse: 1.0104e-04 - val_loss: 5.0598e-05 - val_mse: 1.0120e-04\n",
            "Epoch 41/50\n",
            "144/150 [===========================>..] - ETA: 0s - loss: 5.0002e-05 - mse: 1.0000e-04\n",
            "Epoch 41: val_loss did not improve from 0.00004\n",
            "150/150 [==============================] - 1s 9ms/step - loss: 4.9798e-05 - mse: 9.9595e-05 - val_loss: 1.0920e-04 - val_mse: 2.1840e-04\n",
            "Epoch 42/50\n",
            "148/150 [============================>.] - ETA: 0s - loss: 4.9705e-05 - mse: 9.9410e-05\n",
            "Epoch 42: val_loss did not improve from 0.00004\n",
            "150/150 [==============================] - 1s 9ms/step - loss: 4.9626e-05 - mse: 9.9253e-05 - val_loss: 7.7279e-05 - val_mse: 1.5456e-04\n",
            "Epoch 43/50\n",
            "148/150 [============================>.] - ETA: 0s - loss: 4.7511e-05 - mse: 9.5023e-05\n",
            "Epoch 43: val_loss did not improve from 0.00004\n",
            "150/150 [==============================] - 2s 10ms/step - loss: 4.7489e-05 - mse: 9.4979e-05 - val_loss: 6.4412e-05 - val_mse: 1.2882e-04\n",
            "Epoch 44/50\n",
            "145/150 [============================>.] - ETA: 0s - loss: 4.8535e-05 - mse: 9.7070e-05\n",
            "Epoch 44: val_loss did not improve from 0.00004\n",
            "150/150 [==============================] - 1s 9ms/step - loss: 4.8808e-05 - mse: 9.7617e-05 - val_loss: 5.3568e-05 - val_mse: 1.0714e-04\n",
            "Epoch 45/50\n",
            "143/150 [===========================>..] - ETA: 0s - loss: 4.5984e-05 - mse: 9.1969e-05\n",
            "Epoch 45: val_loss improved from 0.00004 to 0.00004, saving model to tmp/ckeckpointer.ckpt\n",
            "150/150 [==============================] - 1s 9ms/step - loss: 4.6014e-05 - mse: 9.2029e-05 - val_loss: 4.1994e-05 - val_mse: 8.3989e-05\n",
            "Epoch 46/50\n",
            "141/150 [===========================>..] - ETA: 0s - loss: 4.8125e-05 - mse: 9.6251e-05\n",
            "Epoch 46: val_loss did not improve from 0.00004\n",
            "150/150 [==============================] - 1s 9ms/step - loss: 4.8397e-05 - mse: 9.6795e-05 - val_loss: 5.2028e-05 - val_mse: 1.0406e-04\n",
            "Epoch 47/50\n",
            "142/150 [===========================>..] - ETA: 0s - loss: 4.5946e-05 - mse: 9.1892e-05\n",
            "Epoch 47: val_loss did not improve from 0.00004\n",
            "150/150 [==============================] - 1s 9ms/step - loss: 4.6120e-05 - mse: 9.2240e-05 - val_loss: 1.3570e-04 - val_mse: 2.7140e-04\n",
            "Epoch 48/50\n",
            "144/150 [===========================>..] - ETA: 0s - loss: 4.5607e-05 - mse: 9.1215e-05\n",
            "Epoch 48: val_loss improved from 0.00004 to 0.00004, saving model to tmp/ckeckpointer.ckpt\n",
            "150/150 [==============================] - 1s 9ms/step - loss: 4.6631e-05 - mse: 9.3263e-05 - val_loss: 3.5774e-05 - val_mse: 7.1549e-05\n",
            "Epoch 49/50\n",
            "148/150 [============================>.] - ETA: 0s - loss: 4.2335e-05 - mse: 8.4669e-05\n",
            "Epoch 49: val_loss improved from 0.00004 to 0.00004, saving model to tmp/ckeckpointer.ckpt\n",
            "150/150 [==============================] - 2s 10ms/step - loss: 4.2301e-05 - mse: 8.4602e-05 - val_loss: 3.5160e-05 - val_mse: 7.0320e-05\n",
            "Epoch 50/50\n",
            "149/150 [============================>.] - ETA: 0s - loss: 4.4682e-05 - mse: 8.9363e-05\n",
            "Epoch 50: val_loss did not improve from 0.00004\n",
            "150/150 [==============================] - 1s 9ms/step - loss: 4.4623e-05 - mse: 8.9247e-05 - val_loss: 7.5533e-05 - val_mse: 1.5107e-04\n"
          ]
        }
      ],
      "source": [
        "history = model.fit(train_data, \n",
        "                    validation_data=(test_data), \n",
        "                    epochs=50, \n",
        "                    callbacks=[checkpoint, earlystopping])"
      ]
    },
    {
      "cell_type": "markdown",
      "metadata": {
        "id": "UIkU_SkUlSVW"
      },
      "source": [
        "저장한 ModelCheckpoint 를 로드합니다."
      ]
    },
    {
      "cell_type": "code",
      "execution_count": 95,
      "metadata": {
        "id": "RoPIDRSo32f-",
        "outputId": "a60a5800-8d1e-4745-b4d8-9074ed6c8f00",
        "colab": {
          "base_uri": "https://localhost:8080/"
        }
      },
      "outputs": [
        {
          "output_type": "execute_result",
          "data": {
            "text/plain": [
              "<tensorflow.python.training.tracking.util.CheckpointLoadStatus at 0x7fc26ea24490>"
            ]
          },
          "metadata": {},
          "execution_count": 95
        }
      ],
      "source": [
        "model.load_weights(filename)"
      ]
    },
    {
      "cell_type": "markdown",
      "metadata": {
        "id": "qeVGD2KwlSVX"
      },
      "source": [
        "`test_data`를 활용하여 예측을 진행합니다.\n",
        "\n",
        "\n"
      ]
    },
    {
      "cell_type": "code",
      "execution_count": 96,
      "metadata": {
        "id": "WxAxSLNL0l8Z"
      },
      "outputs": [],
      "source": [
        "pred = model.predict(test_data)"
      ]
    },
    {
      "cell_type": "code",
      "execution_count": 97,
      "metadata": {
        "colab": {
          "base_uri": "https://localhost:8080/"
        },
        "id": "yMPXjSQ10l8d",
        "outputId": "9e929716-bf87-4985-b4e3-f3ec1fb59c1a"
      },
      "outputs": [
        {
          "output_type": "execute_result",
          "data": {
            "text/plain": [
              "(1180, 1)"
            ]
          },
          "metadata": {},
          "execution_count": 97
        }
      ],
      "source": [
        "pred.shape"
      ]
    },
    {
      "cell_type": "markdown",
      "metadata": {
        "id": "jaWpXnQf6zMt"
      },
      "source": [
        "## 예측 데이터 시각화"
      ]
    },
    {
      "cell_type": "markdown",
      "metadata": {
        "id": "X207w9zdlSVX"
      },
      "source": [
        "아래 시각화 코드중 y_test 데이터에 **[20:]**으로 슬라이싱을 한 이유는\n",
        "\n",
        "예측 데이터에서 20일치의 데이터로 21일치를 예측해야하기 때문에 test_data로 예측 시 *앞의 20일은 예측하지 않습니다.*\n",
        "\n",
        "따라서, 20번 째 index와 비교하면 더욱 정확합니다."
      ]
    },
    {
      "cell_type": "code",
      "execution_count": 98,
      "metadata": {
        "colab": {
          "base_uri": "https://localhost:8080/",
          "height": 537
        },
        "id": "2F4QQ1O_0l8m",
        "outputId": "0aed6860-47ad-4c1f-8618-9d4f83aab23f"
      },
      "outputs": [
        {
          "output_type": "display_data",
          "data": {
            "text/plain": [
              "<Figure size 864x648 with 1 Axes>"
            ],
            "image/png": "[encoded data removed]"
          },
          "metadata": {
            "needs_background": "light"
          }
        }
      ],
      "source": [
        "plt.figure(figsize=(12, 9))\n",
        "plt.plot(np.asarray(y_test)[20:], label='actual')\n",
        "plt.plot(pred, label='prediction')\n",
        "plt.legend()\n",
        "plt.show()"
      ]
    }
  ],
  "metadata": {
    "accelerator": "GPU",
    "colab": {
      "collapsed_sections": [],
      "name": "LSTM_Kospi_predict.ipynb",
      "provenance": [],
      "include_colab_link": true
    },
    "kernelspec": {
      "display_name": "Python 3",
      "language": "python",
      "name": "python3"
    },
    "language_info": {
      "codemirror_mode": {
        "name": "ipython",
        "version": 3
      },
      "file_extension": ".py",
      "mimetype": "text/x-python",
      "name": "python",
      "nbconvert_exporter": "python",
      "pygments_lexer": "ipython3",
      "version": "3.6.10"
    }
  },
  "nbformat": 4,
  "nbformat_minor": 0
}